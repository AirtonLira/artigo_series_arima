{
 "cells": [
  {
   "cell_type": "code",
   "execution_count": 2,
   "metadata": {},
   "outputs": [],
   "source": [
    "import pandas as pd\n",
    "import numpy as np\n",
    "import matplotlib.pyplot as plt\n",
    "import time"
   ]
  },
  {
   "cell_type": "code",
   "execution_count": 3,
   "metadata": {},
   "outputs": [
    {
     "output_type": "execute_result",
     "data": {
      "text/plain": "         date    state        name    code  cases  deaths\n0  2020-03-28     Acre  Rio Branco  120040     25       0\n1  2020-03-28  Alagoas      Maceió  270430     13       0",
      "text/html": "<div>\n<style scoped>\n    .dataframe tbody tr th:only-of-type {\n        vertical-align: middle;\n    }\n\n    .dataframe tbody tr th {\n        vertical-align: top;\n    }\n\n    .dataframe thead th {\n        text-align: right;\n    }\n</style>\n<table border=\"1\" class=\"dataframe\">\n  <thead>\n    <tr style=\"text-align: right;\">\n      <th></th>\n      <th>date</th>\n      <th>state</th>\n      <th>name</th>\n      <th>code</th>\n      <th>cases</th>\n      <th>deaths</th>\n    </tr>\n  </thead>\n  <tbody>\n    <tr>\n      <td>0</td>\n      <td>2020-03-28</td>\n      <td>Acre</td>\n      <td>Rio Branco</td>\n      <td>120040</td>\n      <td>25</td>\n      <td>0</td>\n    </tr>\n    <tr>\n      <td>1</td>\n      <td>2020-03-28</td>\n      <td>Alagoas</td>\n      <td>Maceió</td>\n      <td>270430</td>\n      <td>13</td>\n      <td>0</td>\n    </tr>\n  </tbody>\n</table>\n</div>"
     },
     "metadata": {},
     "execution_count": 3
    }
   ],
   "source": [
    "df = pd.read_csv(\"brazil_covid19_cities.csv\")\n",
    "df.head(2)"
   ]
  },
  {
   "cell_type": "code",
   "execution_count": 6,
   "metadata": {},
   "outputs": [
    {
     "output_type": "execute_result",
     "data": {
      "text/plain": "           date    state            name    code  cases  deaths\n115  2020-03-28  Paraíba  Campina Grande  250400      2       0\n116  2020-03-28  Paraíba         Igaracy  250260      1       0",
      "text/html": "<div>\n<style scoped>\n    .dataframe tbody tr th:only-of-type {\n        vertical-align: middle;\n    }\n\n    .dataframe tbody tr th {\n        vertical-align: top;\n    }\n\n    .dataframe thead th {\n        text-align: right;\n    }\n</style>\n<table border=\"1\" class=\"dataframe\">\n  <thead>\n    <tr style=\"text-align: right;\">\n      <th></th>\n      <th>date</th>\n      <th>state</th>\n      <th>name</th>\n      <th>code</th>\n      <th>cases</th>\n      <th>deaths</th>\n    </tr>\n  </thead>\n  <tbody>\n    <tr>\n      <td>115</td>\n      <td>2020-03-28</td>\n      <td>Paraíba</td>\n      <td>Campina Grande</td>\n      <td>250400</td>\n      <td>2</td>\n      <td>0</td>\n    </tr>\n    <tr>\n      <td>116</td>\n      <td>2020-03-28</td>\n      <td>Paraíba</td>\n      <td>Igaracy</td>\n      <td>250260</td>\n      <td>1</td>\n      <td>0</td>\n    </tr>\n  </tbody>\n</table>\n</div>"
     },
     "metadata": {},
     "execution_count": 6
    }
   ],
   "source": [
    "# Filtrando Paraiba\n",
    "df_paraiba = df.loc[df.state == \"Paraíba\"]\n",
    "df_paraiba.head(2)"
   ]
  },
  {
   "cell_type": "code",
   "execution_count": 7,
   "metadata": {},
   "outputs": [
    {
     "output_type": "execute_result",
     "data": {
      "text/plain": "            cases\ndate             \n2020-03-28     14\n2020-03-29     14",
      "text/html": "<div>\n<style scoped>\n    .dataframe tbody tr th:only-of-type {\n        vertical-align: middle;\n    }\n\n    .dataframe tbody tr th {\n        vertical-align: top;\n    }\n\n    .dataframe thead th {\n        text-align: right;\n    }\n</style>\n<table border=\"1\" class=\"dataframe\">\n  <thead>\n    <tr style=\"text-align: right;\">\n      <th></th>\n      <th>cases</th>\n    </tr>\n    <tr>\n      <th>date</th>\n      <th></th>\n    </tr>\n  </thead>\n  <tbody>\n    <tr>\n      <td>2020-03-28</td>\n      <td>14</td>\n    </tr>\n    <tr>\n      <td>2020-03-29</td>\n      <td>14</td>\n    </tr>\n  </tbody>\n</table>\n</div>"
     },
     "metadata": {},
     "execution_count": 7
    }
   ],
   "source": [
    "df_paraiba = df_paraiba.set_index('date')\n",
    "df_paraiba.index = pd.to_datetime(df_paraiba.index, format='%Y-%m-%d')\n",
    "df_paraiba = df_paraiba[['state','cases']].groupby('date').sum()\n",
    "df_paraiba.head(2)"
   ]
  },
  {
   "cell_type": "code",
   "execution_count": 8,
   "metadata": {},
   "outputs": [
    {
     "output_type": "execute_result",
     "data": {
      "text/plain": "            cases\ndate             \n2020-03-28     14\n2020-05-14   2834",
      "text/html": "<div>\n<style scoped>\n    .dataframe tbody tr th:only-of-type {\n        vertical-align: middle;\n    }\n\n    .dataframe tbody tr th {\n        vertical-align: top;\n    }\n\n    .dataframe thead th {\n        text-align: right;\n    }\n</style>\n<table border=\"1\" class=\"dataframe\">\n  <thead>\n    <tr style=\"text-align: right;\">\n      <th></th>\n      <th>cases</th>\n    </tr>\n    <tr>\n      <th>date</th>\n      <th></th>\n    </tr>\n  </thead>\n  <tbody>\n    <tr>\n      <td>2020-03-28</td>\n      <td>14</td>\n    </tr>\n    <tr>\n      <td>2020-05-14</td>\n      <td>2834</td>\n    </tr>\n  </tbody>\n</table>\n</div>"
     },
     "metadata": {},
     "execution_count": 8
    }
   ],
   "source": [
    "df_paraiba.iloc[[0, -1]]"
   ]
  },
  {
   "cell_type": "code",
   "execution_count": 9,
   "metadata": {},
   "outputs": [],
   "source": [
    "from statsmodels.tsa.seasonal import seasonal_decompose"
   ]
  },
  {
   "cell_type": "code",
   "execution_count": 10,
   "metadata": {},
   "outputs": [
    {
     "output_type": "display_data",
     "data": {
      "text/plain": "<Figure size 1080x576 with 4 Axes>",
      "image/svg+xml": "<?xml version=\"1.0\" encoding=\"utf-8\" standalone=\"no\"?>\r\n<!DOCTYPE svg PUBLIC \"-//W3C//DTD SVG 1.1//EN\"\r\n  \"http://www.w3.org/Graphics/SVG/1.1/DTD/svg11.dtd\">\r\n<!-- Created with matplotlib (https://matplotlib.org/) -->\r\n<svg height=\"566.949687pt\" version=\"1.1\" viewBox=\"0 0 1073.125 566.949687\" width=\"1073.125pt\" xmlns=\"http://www.w3.org/2000/svg\" xmlns:xlink=\"http://www.w3.org/1999/xlink\">\r\n <defs>\r\n  <style type=\"text/css\">\r\n*{stroke-linecap:butt;stroke-linejoin:round;}\r\n  </style>\r\n </defs>\r\n <g id=\"figure_1\">\r\n  <g id=\"patch_1\">\r\n   <path d=\"M 0 566.949687 \r\nL 1073.125 566.949687 \r\nL 1073.125 0 \r\nL 0 0 \r\nz\r\n\" style=\"fill:none;\"/>\r\n  </g>\r\n  <g id=\"axes_1\">\r\n   <g id=\"patch_2\">\r\n    <path d=\"M 39.65 71.9 \r\nL 1065.925 71.9 \r\nL 1065.925 7.2 \r\nL 39.65 7.2 \r\nz\r\n\" style=\"fill:#ffffff;\"/>\r\n   </g>\r\n   <g id=\"matplotlib.axis_1\">\r\n    <g id=\"xtick_1\">\r\n     <g id=\"line2d_1\">\r\n      <defs>\r\n       <path d=\"M 0 0 \r\nL 0 3.5 \r\n\" id=\"me65d96bb64\" style=\"stroke:#000000;stroke-width:0.8;\"/>\r\n      </defs>\r\n      <g>\r\n       <use style=\"stroke:#000000;stroke-width:0.8;\" x=\"39.65\" xlink:href=\"#me65d96bb64\" y=\"71.9\"/>\r\n      </g>\r\n     </g>\r\n    </g>\r\n    <g id=\"xtick_2\">\r\n     <g id=\"line2d_2\">\r\n      <g>\r\n       <use style=\"stroke:#000000;stroke-width:0.8;\" x=\"126.992553\" xlink:href=\"#me65d96bb64\" y=\"71.9\"/>\r\n      </g>\r\n     </g>\r\n     <g id=\"text_1\">\r\n      <!--  -->\r\n      <g transform=\"translate(126.992553 86.498437)scale(0.1 -0.1)\"/>\r\n      <!--  -->\r\n      <g transform=\"translate(126.992553 97.69625)scale(0.1 -0.1)\"/>\r\n      <!-- Apr -->\r\n      <defs>\r\n       <path d=\"M 34.1875 63.1875 \r\nL 20.796875 26.90625 \r\nL 47.609375 26.90625 \r\nz\r\nM 28.609375 72.90625 \r\nL 39.796875 72.90625 \r\nL 67.578125 0 \r\nL 57.328125 0 \r\nL 50.6875 18.703125 \r\nL 17.828125 18.703125 \r\nL 11.1875 0 \r\nL 0.78125 0 \r\nz\r\n\" id=\"DejaVuSans-65\"/>\r\n       <path d=\"M 18.109375 8.203125 \r\nL 18.109375 -20.796875 \r\nL 9.078125 -20.796875 \r\nL 9.078125 54.6875 \r\nL 18.109375 54.6875 \r\nL 18.109375 46.390625 \r\nQ 20.953125 51.265625 25.265625 53.625 \r\nQ 29.59375 56 35.59375 56 \r\nQ 45.5625 56 51.78125 48.09375 \r\nQ 58.015625 40.1875 58.015625 27.296875 \r\nQ 58.015625 14.40625 51.78125 6.484375 \r\nQ 45.5625 -1.421875 35.59375 -1.421875 \r\nQ 29.59375 -1.421875 25.265625 0.953125 \r\nQ 20.953125 3.328125 18.109375 8.203125 \r\nz\r\nM 48.6875 27.296875 \r\nQ 48.6875 37.203125 44.609375 42.84375 \r\nQ 40.53125 48.484375 33.40625 48.484375 \r\nQ 26.265625 48.484375 22.1875 42.84375 \r\nQ 18.109375 37.203125 18.109375 27.296875 \r\nQ 18.109375 17.390625 22.1875 11.75 \r\nQ 26.265625 6.109375 33.40625 6.109375 \r\nQ 40.53125 6.109375 44.609375 11.75 \r\nQ 48.6875 17.390625 48.6875 27.296875 \r\nz\r\n\" id=\"DejaVuSans-112\"/>\r\n       <path d=\"M 41.109375 46.296875 \r\nQ 39.59375 47.171875 37.8125 47.578125 \r\nQ 36.03125 48 33.890625 48 \r\nQ 26.265625 48 22.1875 43.046875 \r\nQ 18.109375 38.09375 18.109375 28.8125 \r\nL 18.109375 0 \r\nL 9.078125 0 \r\nL 9.078125 54.6875 \r\nL 18.109375 54.6875 \r\nL 18.109375 46.1875 \r\nQ 20.953125 51.171875 25.484375 53.578125 \r\nQ 30.03125 56 36.53125 56 \r\nQ 37.453125 56 38.578125 55.875 \r\nQ 39.703125 55.765625 41.0625 55.515625 \r\nz\r\n\" id=\"DejaVuSans-114\"/>\r\n      </defs>\r\n      <g transform=\"translate(118.342553 108.894062)scale(0.1 -0.1)\">\r\n       <use xlink:href=\"#DejaVuSans-65\"/>\r\n       <use x=\"68.408203\" xlink:href=\"#DejaVuSans-112\"/>\r\n       <use x=\"131.884766\" xlink:href=\"#DejaVuSans-114\"/>\r\n      </g>\r\n      <!-- 2020 -->\r\n      <defs>\r\n       <path d=\"M 19.1875 8.296875 \r\nL 53.609375 8.296875 \r\nL 53.609375 0 \r\nL 7.328125 0 \r\nL 7.328125 8.296875 \r\nQ 12.9375 14.109375 22.625 23.890625 \r\nQ 32.328125 33.6875 34.8125 36.53125 \r\nQ 39.546875 41.84375 41.421875 45.53125 \r\nQ 43.3125 49.21875 43.3125 52.78125 \r\nQ 43.3125 58.59375 39.234375 62.25 \r\nQ 35.15625 65.921875 28.609375 65.921875 \r\nQ 23.96875 65.921875 18.8125 64.3125 \r\nQ 13.671875 62.703125 7.8125 59.421875 \r\nL 7.8125 69.390625 \r\nQ 13.765625 71.78125 18.9375 73 \r\nQ 24.125 74.21875 28.421875 74.21875 \r\nQ 39.75 74.21875 46.484375 68.546875 \r\nQ 53.21875 62.890625 53.21875 53.421875 \r\nQ 53.21875 48.921875 51.53125 44.890625 \r\nQ 49.859375 40.875 45.40625 35.40625 \r\nQ 44.1875 33.984375 37.640625 27.21875 \r\nQ 31.109375 20.453125 19.1875 8.296875 \r\nz\r\n\" id=\"DejaVuSans-50\"/>\r\n       <path d=\"M 31.78125 66.40625 \r\nQ 24.171875 66.40625 20.328125 58.90625 \r\nQ 16.5 51.421875 16.5 36.375 \r\nQ 16.5 21.390625 20.328125 13.890625 \r\nQ 24.171875 6.390625 31.78125 6.390625 \r\nQ 39.453125 6.390625 43.28125 13.890625 \r\nQ 47.125 21.390625 47.125 36.375 \r\nQ 47.125 51.421875 43.28125 58.90625 \r\nQ 39.453125 66.40625 31.78125 66.40625 \r\nz\r\nM 31.78125 74.21875 \r\nQ 44.046875 74.21875 50.515625 64.515625 \r\nQ 56.984375 54.828125 56.984375 36.375 \r\nQ 56.984375 17.96875 50.515625 8.265625 \r\nQ 44.046875 -1.421875 31.78125 -1.421875 \r\nQ 19.53125 -1.421875 13.0625 8.265625 \r\nQ 6.59375 17.96875 6.59375 36.375 \r\nQ 6.59375 54.828125 13.0625 64.515625 \r\nQ 19.53125 74.21875 31.78125 74.21875 \r\nz\r\n\" id=\"DejaVuSans-48\"/>\r\n      </defs>\r\n      <g transform=\"translate(114.267553 120.091875)scale(0.1 -0.1)\">\r\n       <use xlink:href=\"#DejaVuSans-50\"/>\r\n       <use x=\"63.623047\" xlink:href=\"#DejaVuSans-48\"/>\r\n       <use x=\"127.246094\" xlink:href=\"#DejaVuSans-50\"/>\r\n       <use x=\"190.869141\" xlink:href=\"#DejaVuSans-48\"/>\r\n      </g>\r\n     </g>\r\n    </g>\r\n    <g id=\"xtick_3\">\r\n     <g id=\"line2d_3\">\r\n      <g>\r\n       <use style=\"stroke:#000000;stroke-width:0.8;\" x=\"782.061702\" xlink:href=\"#me65d96bb64\" y=\"71.9\"/>\r\n      </g>\r\n     </g>\r\n     <g id=\"text_2\">\r\n      <!--  -->\r\n      <g transform=\"translate(782.061702 86.498437)scale(0.1 -0.1)\"/>\r\n      <!--  -->\r\n      <g transform=\"translate(782.061702 97.69625)scale(0.1 -0.1)\"/>\r\n      <!-- May -->\r\n      <defs>\r\n       <path d=\"M 9.8125 72.90625 \r\nL 24.515625 72.90625 \r\nL 43.109375 23.296875 \r\nL 61.8125 72.90625 \r\nL 76.515625 72.90625 \r\nL 76.515625 0 \r\nL 66.890625 0 \r\nL 66.890625 64.015625 \r\nL 48.09375 14.015625 \r\nL 38.1875 14.015625 \r\nL 19.390625 64.015625 \r\nL 19.390625 0 \r\nL 9.8125 0 \r\nz\r\n\" id=\"DejaVuSans-77\"/>\r\n       <path d=\"M 34.28125 27.484375 \r\nQ 23.390625 27.484375 19.1875 25 \r\nQ 14.984375 22.515625 14.984375 16.5 \r\nQ 14.984375 11.71875 18.140625 8.90625 \r\nQ 21.296875 6.109375 26.703125 6.109375 \r\nQ 34.1875 6.109375 38.703125 11.40625 \r\nQ 43.21875 16.703125 43.21875 25.484375 \r\nL 43.21875 27.484375 \r\nz\r\nM 52.203125 31.203125 \r\nL 52.203125 0 \r\nL 43.21875 0 \r\nL 43.21875 8.296875 \r\nQ 40.140625 3.328125 35.546875 0.953125 \r\nQ 30.953125 -1.421875 24.3125 -1.421875 \r\nQ 15.921875 -1.421875 10.953125 3.296875 \r\nQ 6 8.015625 6 15.921875 \r\nQ 6 25.140625 12.171875 29.828125 \r\nQ 18.359375 34.515625 30.609375 34.515625 \r\nL 43.21875 34.515625 \r\nL 43.21875 35.40625 \r\nQ 43.21875 41.609375 39.140625 45 \r\nQ 35.0625 48.390625 27.6875 48.390625 \r\nQ 23 48.390625 18.546875 47.265625 \r\nQ 14.109375 46.140625 10.015625 43.890625 \r\nL 10.015625 52.203125 \r\nQ 14.9375 54.109375 19.578125 55.046875 \r\nQ 24.21875 56 28.609375 56 \r\nQ 40.484375 56 46.34375 49.84375 \r\nQ 52.203125 43.703125 52.203125 31.203125 \r\nz\r\n\" id=\"DejaVuSans-97\"/>\r\n       <path d=\"M 32.171875 -5.078125 \r\nQ 28.375 -14.84375 24.75 -17.8125 \r\nQ 21.140625 -20.796875 15.09375 -20.796875 \r\nL 7.90625 -20.796875 \r\nL 7.90625 -13.28125 \r\nL 13.1875 -13.28125 \r\nQ 16.890625 -13.28125 18.9375 -11.515625 \r\nQ 21 -9.765625 23.484375 -3.21875 \r\nL 25.09375 0.875 \r\nL 2.984375 54.6875 \r\nL 12.5 54.6875 \r\nL 29.59375 11.921875 \r\nL 46.6875 54.6875 \r\nL 56.203125 54.6875 \r\nz\r\n\" id=\"DejaVuSans-121\"/>\r\n      </defs>\r\n      <g transform=\"translate(771.724202 108.894062)scale(0.1 -0.1)\">\r\n       <use xlink:href=\"#DejaVuSans-77\"/>\r\n       <use x=\"86.279297\" xlink:href=\"#DejaVuSans-97\"/>\r\n       <use x=\"147.558594\" xlink:href=\"#DejaVuSans-121\"/>\r\n      </g>\r\n     </g>\r\n    </g>\r\n    <g id=\"xtick_4\">\r\n     <g id=\"line2d_4\">\r\n      <g>\r\n       <use style=\"stroke:#000000;stroke-width:0.8;\" x=\"1065.925\" xlink:href=\"#me65d96bb64\" y=\"71.9\"/>\r\n      </g>\r\n     </g>\r\n    </g>\r\n    <g id=\"xtick_5\">\r\n     <g id=\"line2d_5\">\r\n      <defs>\r\n       <path d=\"M 0 0 \r\nL 0 2 \r\n\" id=\"m7cb0ea069d\" style=\"stroke:#000000;stroke-width:0.6;\"/>\r\n      </defs>\r\n      <g>\r\n       <use style=\"stroke:#000000;stroke-width:0.6;\" x=\"61.485638\" xlink:href=\"#m7cb0ea069d\" y=\"71.9\"/>\r\n      </g>\r\n     </g>\r\n    </g>\r\n    <g id=\"xtick_6\">\r\n     <g id=\"line2d_6\">\r\n      <g>\r\n       <use style=\"stroke:#000000;stroke-width:0.6;\" x=\"83.321277\" xlink:href=\"#m7cb0ea069d\" y=\"71.9\"/>\r\n      </g>\r\n     </g>\r\n     <g id=\"text_3\">\r\n      <!-- 30 -->\r\n      <defs>\r\n       <path d=\"M 40.578125 39.3125 \r\nQ 47.65625 37.796875 51.625 33 \r\nQ 55.609375 28.21875 55.609375 21.1875 \r\nQ 55.609375 10.40625 48.1875 4.484375 \r\nQ 40.765625 -1.421875 27.09375 -1.421875 \r\nQ 22.515625 -1.421875 17.65625 -0.515625 \r\nQ 12.796875 0.390625 7.625 2.203125 \r\nL 7.625 11.71875 \r\nQ 11.71875 9.328125 16.59375 8.109375 \r\nQ 21.484375 6.890625 26.8125 6.890625 \r\nQ 36.078125 6.890625 40.9375 10.546875 \r\nQ 45.796875 14.203125 45.796875 21.1875 \r\nQ 45.796875 27.640625 41.28125 31.265625 \r\nQ 36.765625 34.90625 28.71875 34.90625 \r\nL 20.21875 34.90625 \r\nL 20.21875 43.015625 \r\nL 29.109375 43.015625 \r\nQ 36.375 43.015625 40.234375 45.921875 \r\nQ 44.09375 48.828125 44.09375 54.296875 \r\nQ 44.09375 59.90625 40.109375 62.90625 \r\nQ 36.140625 65.921875 28.71875 65.921875 \r\nQ 24.65625 65.921875 20.015625 65.03125 \r\nQ 15.375 64.15625 9.8125 62.3125 \r\nL 9.8125 71.09375 \r\nQ 15.4375 72.65625 20.34375 73.4375 \r\nQ 25.25 74.21875 29.59375 74.21875 \r\nQ 40.828125 74.21875 47.359375 69.109375 \r\nQ 53.90625 64.015625 53.90625 55.328125 \r\nQ 53.90625 49.265625 50.4375 45.09375 \r\nQ 46.96875 40.921875 40.578125 39.3125 \r\nz\r\n\" id=\"DejaVuSans-51\"/>\r\n      </defs>\r\n      <g transform=\"translate(76.958777 84.898437)scale(0.1 -0.1)\">\r\n       <use xlink:href=\"#DejaVuSans-51\"/>\r\n       <use x=\"63.623047\" xlink:href=\"#DejaVuSans-48\"/>\r\n      </g>\r\n     </g>\r\n    </g>\r\n    <g id=\"xtick_7\">\r\n     <g id=\"line2d_7\">\r\n      <g>\r\n       <use style=\"stroke:#000000;stroke-width:0.6;\" x=\"105.156915\" xlink:href=\"#m7cb0ea069d\" y=\"71.9\"/>\r\n      </g>\r\n     </g>\r\n    </g>\r\n    <g id=\"xtick_8\">\r\n     <g id=\"line2d_8\">\r\n      <g>\r\n       <use style=\"stroke:#000000;stroke-width:0.6;\" x=\"148.828191\" xlink:href=\"#m7cb0ea069d\" y=\"71.9\"/>\r\n      </g>\r\n     </g>\r\n    </g>\r\n    <g id=\"xtick_9\">\r\n     <g id=\"line2d_9\">\r\n      <g>\r\n       <use style=\"stroke:#000000;stroke-width:0.6;\" x=\"170.66383\" xlink:href=\"#m7cb0ea069d\" y=\"71.9\"/>\r\n      </g>\r\n     </g>\r\n    </g>\r\n    <g id=\"xtick_10\">\r\n     <g id=\"line2d_10\">\r\n      <g>\r\n       <use style=\"stroke:#000000;stroke-width:0.6;\" x=\"192.499468\" xlink:href=\"#m7cb0ea069d\" y=\"71.9\"/>\r\n      </g>\r\n     </g>\r\n    </g>\r\n    <g id=\"xtick_11\">\r\n     <g id=\"line2d_11\">\r\n      <g>\r\n       <use style=\"stroke:#000000;stroke-width:0.6;\" x=\"214.335106\" xlink:href=\"#m7cb0ea069d\" y=\"71.9\"/>\r\n      </g>\r\n     </g>\r\n    </g>\r\n    <g id=\"xtick_12\">\r\n     <g id=\"line2d_12\">\r\n      <g>\r\n       <use style=\"stroke:#000000;stroke-width:0.6;\" x=\"236.170745\" xlink:href=\"#m7cb0ea069d\" y=\"71.9\"/>\r\n      </g>\r\n     </g>\r\n     <g id=\"text_4\">\r\n      <!-- 06 -->\r\n      <defs>\r\n       <path d=\"M 33.015625 40.375 \r\nQ 26.375 40.375 22.484375 35.828125 \r\nQ 18.609375 31.296875 18.609375 23.390625 \r\nQ 18.609375 15.53125 22.484375 10.953125 \r\nQ 26.375 6.390625 33.015625 6.390625 \r\nQ 39.65625 6.390625 43.53125 10.953125 \r\nQ 47.40625 15.53125 47.40625 23.390625 \r\nQ 47.40625 31.296875 43.53125 35.828125 \r\nQ 39.65625 40.375 33.015625 40.375 \r\nz\r\nM 52.59375 71.296875 \r\nL 52.59375 62.3125 \r\nQ 48.875 64.0625 45.09375 64.984375 \r\nQ 41.3125 65.921875 37.59375 65.921875 \r\nQ 27.828125 65.921875 22.671875 59.328125 \r\nQ 17.53125 52.734375 16.796875 39.40625 \r\nQ 19.671875 43.65625 24.015625 45.921875 \r\nQ 28.375 48.1875 33.59375 48.1875 \r\nQ 44.578125 48.1875 50.953125 41.515625 \r\nQ 57.328125 34.859375 57.328125 23.390625 \r\nQ 57.328125 12.15625 50.6875 5.359375 \r\nQ 44.046875 -1.421875 33.015625 -1.421875 \r\nQ 20.359375 -1.421875 13.671875 8.265625 \r\nQ 6.984375 17.96875 6.984375 36.375 \r\nQ 6.984375 53.65625 15.1875 63.9375 \r\nQ 23.390625 74.21875 37.203125 74.21875 \r\nQ 40.921875 74.21875 44.703125 73.484375 \r\nQ 48.484375 72.75 52.59375 71.296875 \r\nz\r\n\" id=\"DejaVuSans-54\"/>\r\n      </defs>\r\n      <g transform=\"translate(229.808245 84.898437)scale(0.1 -0.1)\">\r\n       <use xlink:href=\"#DejaVuSans-48\"/>\r\n       <use x=\"63.623047\" xlink:href=\"#DejaVuSans-54\"/>\r\n      </g>\r\n     </g>\r\n    </g>\r\n    <g id=\"xtick_13\">\r\n     <g id=\"line2d_13\">\r\n      <g>\r\n       <use style=\"stroke:#000000;stroke-width:0.6;\" x=\"258.006383\" xlink:href=\"#m7cb0ea069d\" y=\"71.9\"/>\r\n      </g>\r\n     </g>\r\n    </g>\r\n    <g id=\"xtick_14\">\r\n     <g id=\"line2d_14\">\r\n      <g>\r\n       <use style=\"stroke:#000000;stroke-width:0.6;\" x=\"279.842021\" xlink:href=\"#m7cb0ea069d\" y=\"71.9\"/>\r\n      </g>\r\n     </g>\r\n    </g>\r\n    <g id=\"xtick_15\">\r\n     <g id=\"line2d_15\">\r\n      <g>\r\n       <use style=\"stroke:#000000;stroke-width:0.6;\" x=\"301.67766\" xlink:href=\"#m7cb0ea069d\" y=\"71.9\"/>\r\n      </g>\r\n     </g>\r\n    </g>\r\n    <g id=\"xtick_16\">\r\n     <g id=\"line2d_16\">\r\n      <g>\r\n       <use style=\"stroke:#000000;stroke-width:0.6;\" x=\"323.513298\" xlink:href=\"#m7cb0ea069d\" y=\"71.9\"/>\r\n      </g>\r\n     </g>\r\n    </g>\r\n    <g id=\"xtick_17\">\r\n     <g id=\"line2d_17\">\r\n      <g>\r\n       <use style=\"stroke:#000000;stroke-width:0.6;\" x=\"345.348936\" xlink:href=\"#m7cb0ea069d\" y=\"71.9\"/>\r\n      </g>\r\n     </g>\r\n    </g>\r\n    <g id=\"xtick_18\">\r\n     <g id=\"line2d_18\">\r\n      <g>\r\n       <use style=\"stroke:#000000;stroke-width:0.6;\" x=\"367.184574\" xlink:href=\"#m7cb0ea069d\" y=\"71.9\"/>\r\n      </g>\r\n     </g>\r\n    </g>\r\n    <g id=\"xtick_19\">\r\n     <g id=\"line2d_19\">\r\n      <g>\r\n       <use style=\"stroke:#000000;stroke-width:0.6;\" x=\"389.020213\" xlink:href=\"#m7cb0ea069d\" y=\"71.9\"/>\r\n      </g>\r\n     </g>\r\n     <g id=\"text_5\">\r\n      <!-- 13 -->\r\n      <defs>\r\n       <path d=\"M 12.40625 8.296875 \r\nL 28.515625 8.296875 \r\nL 28.515625 63.921875 \r\nL 10.984375 60.40625 \r\nL 10.984375 69.390625 \r\nL 28.421875 72.90625 \r\nL 38.28125 72.90625 \r\nL 38.28125 8.296875 \r\nL 54.390625 8.296875 \r\nL 54.390625 0 \r\nL 12.40625 0 \r\nz\r\n\" id=\"DejaVuSans-49\"/>\r\n      </defs>\r\n      <g transform=\"translate(382.657713 84.898437)scale(0.1 -0.1)\">\r\n       <use xlink:href=\"#DejaVuSans-49\"/>\r\n       <use x=\"63.623047\" xlink:href=\"#DejaVuSans-51\"/>\r\n      </g>\r\n     </g>\r\n    </g>\r\n    <g id=\"xtick_20\">\r\n     <g id=\"line2d_20\">\r\n      <g>\r\n       <use style=\"stroke:#000000;stroke-width:0.6;\" x=\"410.855851\" xlink:href=\"#m7cb0ea069d\" y=\"71.9\"/>\r\n      </g>\r\n     </g>\r\n    </g>\r\n    <g id=\"xtick_21\">\r\n     <g id=\"line2d_21\">\r\n      <g>\r\n       <use style=\"stroke:#000000;stroke-width:0.6;\" x=\"432.691489\" xlink:href=\"#m7cb0ea069d\" y=\"71.9\"/>\r\n      </g>\r\n     </g>\r\n    </g>\r\n    <g id=\"xtick_22\">\r\n     <g id=\"line2d_22\">\r\n      <g>\r\n       <use style=\"stroke:#000000;stroke-width:0.6;\" x=\"454.527128\" xlink:href=\"#m7cb0ea069d\" y=\"71.9\"/>\r\n      </g>\r\n     </g>\r\n    </g>\r\n    <g id=\"xtick_23\">\r\n     <g id=\"line2d_23\">\r\n      <g>\r\n       <use style=\"stroke:#000000;stroke-width:0.6;\" x=\"476.362766\" xlink:href=\"#m7cb0ea069d\" y=\"71.9\"/>\r\n      </g>\r\n     </g>\r\n    </g>\r\n    <g id=\"xtick_24\">\r\n     <g id=\"line2d_24\">\r\n      <g>\r\n       <use style=\"stroke:#000000;stroke-width:0.6;\" x=\"498.198404\" xlink:href=\"#m7cb0ea069d\" y=\"71.9\"/>\r\n      </g>\r\n     </g>\r\n    </g>\r\n    <g id=\"xtick_25\">\r\n     <g id=\"line2d_25\">\r\n      <g>\r\n       <use style=\"stroke:#000000;stroke-width:0.6;\" x=\"520.034043\" xlink:href=\"#m7cb0ea069d\" y=\"71.9\"/>\r\n      </g>\r\n     </g>\r\n    </g>\r\n    <g id=\"xtick_26\">\r\n     <g id=\"line2d_26\">\r\n      <g>\r\n       <use style=\"stroke:#000000;stroke-width:0.6;\" x=\"541.869681\" xlink:href=\"#m7cb0ea069d\" y=\"71.9\"/>\r\n      </g>\r\n     </g>\r\n     <g id=\"text_6\">\r\n      <!-- 20 -->\r\n      <g transform=\"translate(535.507181 84.898437)scale(0.1 -0.1)\">\r\n       <use xlink:href=\"#DejaVuSans-50\"/>\r\n       <use x=\"63.623047\" xlink:href=\"#DejaVuSans-48\"/>\r\n      </g>\r\n     </g>\r\n    </g>\r\n    <g id=\"xtick_27\">\r\n     <g id=\"line2d_27\">\r\n      <g>\r\n       <use style=\"stroke:#000000;stroke-width:0.6;\" x=\"563.705319\" xlink:href=\"#m7cb0ea069d\" y=\"71.9\"/>\r\n      </g>\r\n     </g>\r\n    </g>\r\n    <g id=\"xtick_28\">\r\n     <g id=\"line2d_28\">\r\n      <g>\r\n       <use style=\"stroke:#000000;stroke-width:0.6;\" x=\"585.540957\" xlink:href=\"#m7cb0ea069d\" y=\"71.9\"/>\r\n      </g>\r\n     </g>\r\n    </g>\r\n    <g id=\"xtick_29\">\r\n     <g id=\"line2d_29\">\r\n      <g>\r\n       <use style=\"stroke:#000000;stroke-width:0.6;\" x=\"607.376596\" xlink:href=\"#m7cb0ea069d\" y=\"71.9\"/>\r\n      </g>\r\n     </g>\r\n    </g>\r\n    <g id=\"xtick_30\">\r\n     <g id=\"line2d_30\">\r\n      <g>\r\n       <use style=\"stroke:#000000;stroke-width:0.6;\" x=\"629.212234\" xlink:href=\"#m7cb0ea069d\" y=\"71.9\"/>\r\n      </g>\r\n     </g>\r\n    </g>\r\n    <g id=\"xtick_31\">\r\n     <g id=\"line2d_31\">\r\n      <g>\r\n       <use style=\"stroke:#000000;stroke-width:0.6;\" x=\"651.047872\" xlink:href=\"#m7cb0ea069d\" y=\"71.9\"/>\r\n      </g>\r\n     </g>\r\n    </g>\r\n    <g id=\"xtick_32\">\r\n     <g id=\"line2d_32\">\r\n      <g>\r\n       <use style=\"stroke:#000000;stroke-width:0.6;\" x=\"672.883511\" xlink:href=\"#m7cb0ea069d\" y=\"71.9\"/>\r\n      </g>\r\n     </g>\r\n    </g>\r\n    <g id=\"xtick_33\">\r\n     <g id=\"line2d_33\">\r\n      <g>\r\n       <use style=\"stroke:#000000;stroke-width:0.6;\" x=\"694.719149\" xlink:href=\"#m7cb0ea069d\" y=\"71.9\"/>\r\n      </g>\r\n     </g>\r\n     <g id=\"text_7\">\r\n      <!-- 27 -->\r\n      <defs>\r\n       <path d=\"M 8.203125 72.90625 \r\nL 55.078125 72.90625 \r\nL 55.078125 68.703125 \r\nL 28.609375 0 \r\nL 18.3125 0 \r\nL 43.21875 64.59375 \r\nL 8.203125 64.59375 \r\nz\r\n\" id=\"DejaVuSans-55\"/>\r\n      </defs>\r\n      <g transform=\"translate(688.356649 84.898437)scale(0.1 -0.1)\">\r\n       <use xlink:href=\"#DejaVuSans-50\"/>\r\n       <use x=\"63.623047\" xlink:href=\"#DejaVuSans-55\"/>\r\n      </g>\r\n     </g>\r\n    </g>\r\n    <g id=\"xtick_34\">\r\n     <g id=\"line2d_34\">\r\n      <g>\r\n       <use style=\"stroke:#000000;stroke-width:0.6;\" x=\"716.554787\" xlink:href=\"#m7cb0ea069d\" y=\"71.9\"/>\r\n      </g>\r\n     </g>\r\n    </g>\r\n    <g id=\"xtick_35\">\r\n     <g id=\"line2d_35\">\r\n      <g>\r\n       <use style=\"stroke:#000000;stroke-width:0.6;\" x=\"738.390426\" xlink:href=\"#m7cb0ea069d\" y=\"71.9\"/>\r\n      </g>\r\n     </g>\r\n    </g>\r\n    <g id=\"xtick_36\">\r\n     <g id=\"line2d_36\">\r\n      <g>\r\n       <use style=\"stroke:#000000;stroke-width:0.6;\" x=\"760.226064\" xlink:href=\"#m7cb0ea069d\" y=\"71.9\"/>\r\n      </g>\r\n     </g>\r\n    </g>\r\n    <g id=\"xtick_37\">\r\n     <g id=\"line2d_37\">\r\n      <g>\r\n       <use style=\"stroke:#000000;stroke-width:0.6;\" x=\"803.89734\" xlink:href=\"#m7cb0ea069d\" y=\"71.9\"/>\r\n      </g>\r\n     </g>\r\n    </g>\r\n    <g id=\"xtick_38\">\r\n     <g id=\"line2d_38\">\r\n      <g>\r\n       <use style=\"stroke:#000000;stroke-width:0.6;\" x=\"825.732979\" xlink:href=\"#m7cb0ea069d\" y=\"71.9\"/>\r\n      </g>\r\n     </g>\r\n    </g>\r\n    <g id=\"xtick_39\">\r\n     <g id=\"line2d_39\">\r\n      <g>\r\n       <use style=\"stroke:#000000;stroke-width:0.6;\" x=\"847.568617\" xlink:href=\"#m7cb0ea069d\" y=\"71.9\"/>\r\n      </g>\r\n     </g>\r\n     <g id=\"text_8\">\r\n      <!-- 04 -->\r\n      <defs>\r\n       <path d=\"M 37.796875 64.3125 \r\nL 12.890625 25.390625 \r\nL 37.796875 25.390625 \r\nz\r\nM 35.203125 72.90625 \r\nL 47.609375 72.90625 \r\nL 47.609375 25.390625 \r\nL 58.015625 25.390625 \r\nL 58.015625 17.1875 \r\nL 47.609375 17.1875 \r\nL 47.609375 0 \r\nL 37.796875 0 \r\nL 37.796875 17.1875 \r\nL 4.890625 17.1875 \r\nL 4.890625 26.703125 \r\nz\r\n\" id=\"DejaVuSans-52\"/>\r\n      </defs>\r\n      <g transform=\"translate(841.206117 84.898437)scale(0.1 -0.1)\">\r\n       <use xlink:href=\"#DejaVuSans-48\"/>\r\n       <use x=\"63.623047\" xlink:href=\"#DejaVuSans-52\"/>\r\n      </g>\r\n     </g>\r\n    </g>\r\n    <g id=\"xtick_40\">\r\n     <g id=\"line2d_40\">\r\n      <g>\r\n       <use style=\"stroke:#000000;stroke-width:0.6;\" x=\"869.404255\" xlink:href=\"#m7cb0ea069d\" y=\"71.9\"/>\r\n      </g>\r\n     </g>\r\n    </g>\r\n    <g id=\"xtick_41\">\r\n     <g id=\"line2d_41\">\r\n      <g>\r\n       <use style=\"stroke:#000000;stroke-width:0.6;\" x=\"891.239894\" xlink:href=\"#m7cb0ea069d\" y=\"71.9\"/>\r\n      </g>\r\n     </g>\r\n    </g>\r\n    <g id=\"xtick_42\">\r\n     <g id=\"line2d_42\">\r\n      <g>\r\n       <use style=\"stroke:#000000;stroke-width:0.6;\" x=\"913.075532\" xlink:href=\"#m7cb0ea069d\" y=\"71.9\"/>\r\n      </g>\r\n     </g>\r\n    </g>\r\n    <g id=\"xtick_43\">\r\n     <g id=\"line2d_43\">\r\n      <g>\r\n       <use style=\"stroke:#000000;stroke-width:0.6;\" x=\"934.91117\" xlink:href=\"#m7cb0ea069d\" y=\"71.9\"/>\r\n      </g>\r\n     </g>\r\n    </g>\r\n    <g id=\"xtick_44\">\r\n     <g id=\"line2d_44\">\r\n      <g>\r\n       <use style=\"stroke:#000000;stroke-width:0.6;\" x=\"956.746809\" xlink:href=\"#m7cb0ea069d\" y=\"71.9\"/>\r\n      </g>\r\n     </g>\r\n    </g>\r\n    <g id=\"xtick_45\">\r\n     <g id=\"line2d_45\">\r\n      <g>\r\n       <use style=\"stroke:#000000;stroke-width:0.6;\" x=\"978.582447\" xlink:href=\"#m7cb0ea069d\" y=\"71.9\"/>\r\n      </g>\r\n     </g>\r\n    </g>\r\n    <g id=\"xtick_46\">\r\n     <g id=\"line2d_46\">\r\n      <g>\r\n       <use style=\"stroke:#000000;stroke-width:0.6;\" x=\"1000.418085\" xlink:href=\"#m7cb0ea069d\" y=\"71.9\"/>\r\n      </g>\r\n     </g>\r\n     <g id=\"text_9\">\r\n      <!-- 11 -->\r\n      <g transform=\"translate(994.055585 84.898437)scale(0.1 -0.1)\">\r\n       <use xlink:href=\"#DejaVuSans-49\"/>\r\n       <use x=\"63.623047\" xlink:href=\"#DejaVuSans-49\"/>\r\n      </g>\r\n     </g>\r\n    </g>\r\n    <g id=\"xtick_47\">\r\n     <g id=\"line2d_47\">\r\n      <g>\r\n       <use style=\"stroke:#000000;stroke-width:0.6;\" x=\"1022.253723\" xlink:href=\"#m7cb0ea069d\" y=\"71.9\"/>\r\n      </g>\r\n     </g>\r\n    </g>\r\n    <g id=\"xtick_48\">\r\n     <g id=\"line2d_48\">\r\n      <g>\r\n       <use style=\"stroke:#000000;stroke-width:0.6;\" x=\"1044.089362\" xlink:href=\"#m7cb0ea069d\" y=\"71.9\"/>\r\n      </g>\r\n     </g>\r\n    </g>\r\n    <g id=\"text_10\">\r\n     <!-- date -->\r\n     <defs>\r\n      <path d=\"M 45.40625 46.390625 \r\nL 45.40625 75.984375 \r\nL 54.390625 75.984375 \r\nL 54.390625 0 \r\nL 45.40625 0 \r\nL 45.40625 8.203125 \r\nQ 42.578125 3.328125 38.25 0.953125 \r\nQ 33.9375 -1.421875 27.875 -1.421875 \r\nQ 17.96875 -1.421875 11.734375 6.484375 \r\nQ 5.515625 14.40625 5.515625 27.296875 \r\nQ 5.515625 40.1875 11.734375 48.09375 \r\nQ 17.96875 56 27.875 56 \r\nQ 33.9375 56 38.25 53.625 \r\nQ 42.578125 51.265625 45.40625 46.390625 \r\nz\r\nM 14.796875 27.296875 \r\nQ 14.796875 17.390625 18.875 11.75 \r\nQ 22.953125 6.109375 30.078125 6.109375 \r\nQ 37.203125 6.109375 41.296875 11.75 \r\nQ 45.40625 17.390625 45.40625 27.296875 \r\nQ 45.40625 37.203125 41.296875 42.84375 \r\nQ 37.203125 48.484375 30.078125 48.484375 \r\nQ 22.953125 48.484375 18.875 42.84375 \r\nQ 14.796875 37.203125 14.796875 27.296875 \r\nz\r\n\" id=\"DejaVuSans-100\"/>\r\n      <path d=\"M 18.3125 70.21875 \r\nL 18.3125 54.6875 \r\nL 36.8125 54.6875 \r\nL 36.8125 47.703125 \r\nL 18.3125 47.703125 \r\nL 18.3125 18.015625 \r\nQ 18.3125 11.328125 20.140625 9.421875 \r\nQ 21.96875 7.515625 27.59375 7.515625 \r\nL 36.8125 7.515625 \r\nL 36.8125 0 \r\nL 27.59375 0 \r\nQ 17.1875 0 13.234375 3.875 \r\nQ 9.28125 7.765625 9.28125 18.015625 \r\nL 9.28125 47.703125 \r\nL 2.6875 47.703125 \r\nL 2.6875 54.6875 \r\nL 9.28125 54.6875 \r\nL 9.28125 70.21875 \r\nz\r\n\" id=\"DejaVuSans-116\"/>\r\n      <path d=\"M 56.203125 29.59375 \r\nL 56.203125 25.203125 \r\nL 14.890625 25.203125 \r\nQ 15.484375 15.921875 20.484375 11.0625 \r\nQ 25.484375 6.203125 34.421875 6.203125 \r\nQ 39.59375 6.203125 44.453125 7.46875 \r\nQ 49.3125 8.734375 54.109375 11.28125 \r\nL 54.109375 2.78125 \r\nQ 49.265625 0.734375 44.1875 -0.34375 \r\nQ 39.109375 -1.421875 33.890625 -1.421875 \r\nQ 20.796875 -1.421875 13.15625 6.1875 \r\nQ 5.515625 13.8125 5.515625 26.8125 \r\nQ 5.515625 40.234375 12.765625 48.109375 \r\nQ 20.015625 56 32.328125 56 \r\nQ 43.359375 56 49.78125 48.890625 \r\nQ 56.203125 41.796875 56.203125 29.59375 \r\nz\r\nM 47.21875 32.234375 \r\nQ 47.125 39.59375 43.09375 43.984375 \r\nQ 39.0625 48.390625 32.421875 48.390625 \r\nQ 24.90625 48.390625 20.390625 44.140625 \r\nQ 15.875 39.890625 15.1875 32.171875 \r\nz\r\n\" id=\"DejaVuSans-101\"/>\r\n     </defs>\r\n     <g transform=\"translate(541.5125 133.77)scale(0.1 -0.1)\">\r\n      <use xlink:href=\"#DejaVuSans-100\"/>\r\n      <use x=\"63.476562\" xlink:href=\"#DejaVuSans-97\"/>\r\n      <use x=\"124.755859\" xlink:href=\"#DejaVuSans-116\"/>\r\n      <use x=\"163.964844\" xlink:href=\"#DejaVuSans-101\"/>\r\n     </g>\r\n    </g>\r\n   </g>\r\n   <g id=\"matplotlib.axis_2\">\r\n    <g id=\"ytick_1\">\r\n     <g id=\"line2d_49\">\r\n      <defs>\r\n       <path d=\"M 0 0 \r\nL -3.5 0 \r\n\" id=\"md608515c24\" style=\"stroke:#000000;stroke-width:0.8;\"/>\r\n      </defs>\r\n      <g>\r\n       <use style=\"stroke:#000000;stroke-width:0.8;\" x=\"39.65\" xlink:href=\"#md608515c24\" y=\"69.251096\"/>\r\n      </g>\r\n     </g>\r\n     <g id=\"text_11\">\r\n      <!-- 0 -->\r\n      <g transform=\"translate(26.2875 73.050315)scale(0.1 -0.1)\">\r\n       <use xlink:href=\"#DejaVuSans-48\"/>\r\n      </g>\r\n     </g>\r\n    </g>\r\n    <g id=\"ytick_2\">\r\n     <g id=\"line2d_50\">\r\n      <g>\r\n       <use style=\"stroke:#000000;stroke-width:0.8;\" x=\"39.65\" xlink:href=\"#md608515c24\" y=\"27.536074\"/>\r\n      </g>\r\n     </g>\r\n     <g id=\"text_12\">\r\n      <!-- 2000 -->\r\n      <g transform=\"translate(7.2 31.335292)scale(0.1 -0.1)\">\r\n       <use xlink:href=\"#DejaVuSans-50\"/>\r\n       <use x=\"63.623047\" xlink:href=\"#DejaVuSans-48\"/>\r\n       <use x=\"127.246094\" xlink:href=\"#DejaVuSans-48\"/>\r\n       <use x=\"190.869141\" xlink:href=\"#DejaVuSans-48\"/>\r\n      </g>\r\n     </g>\r\n    </g>\r\n   </g>\r\n   <g id=\"line2d_51\">\r\n    <path clip-path=\"url(#p39c1343701)\" d=\"M 39.65 68.959091 \r\nL 61.485638 68.959091 \r\nL 83.321277 68.938233 \r\nL 105.156915 68.896518 \r\nL 126.992553 68.833946 \r\nL 148.828191 68.813088 \r\nL 170.66383 68.646228 \r\nL 192.499468 68.583656 \r\nL 214.335106 68.541941 \r\nL 236.170745 68.521083 \r\nL 258.006383 68.500226 \r\nL 279.842021 68.395938 \r\nL 301.67766 68.103933 \r\nL 323.513298 67.603353 \r\nL 345.348936 67.478208 \r\nL 367.184574 67.144487 \r\nL 389.020213 66.935912 \r\nL 410.855851 66.414475 \r\nL 432.691489 66.080754 \r\nL 454.527128 65.809607 \r\nL 476.362766 65.183881 \r\nL 498.198404 64.975306 \r\nL 520.034043 64.328723 \r\nL 541.869681 64.141006 \r\nL 563.705319 63.765571 \r\nL 585.540957 62.972985 \r\nL 607.376596 62.055255 \r\nL 629.212234 61.200097 \r\nL 651.047872 59.927789 \r\nL 672.883511 58.843198 \r\nL 694.719149 57.925467 \r\nL 716.554787 56.048291 \r\nL 738.390426 54.671696 \r\nL 760.226064 52.273082 \r\nL 782.061702 49.937041 \r\nL 803.89734 47.684429 \r\nL 825.732979 44.868665 \r\nL 847.568617 43.82579 \r\nL 869.404255 40.864023 \r\nL 891.239894 38.110832 \r\nL 913.075532 34.6902 \r\nL 934.91117 26.910348 \r\nL 956.746809 24.303159 \r\nL 978.582447 20.423662 \r\nL 1000.418085 16.58588 \r\nL 1022.253723 20.110799 \r\nL 1044.089362 16.273017 \r\nL 1065.925 10.140909 \r\n\" style=\"fill:none;stroke:#1f77b4;stroke-linecap:square;stroke-width:1.5;\"/>\r\n   </g>\r\n   <g id=\"patch_3\">\r\n    <path d=\"M 39.65 71.9 \r\nL 39.65 7.2 \r\n\" style=\"fill:none;stroke:#000000;stroke-linecap:square;stroke-linejoin:miter;stroke-width:0.8;\"/>\r\n   </g>\r\n   <g id=\"patch_4\">\r\n    <path d=\"M 1065.925 71.9 \r\nL 1065.925 7.2 \r\n\" style=\"fill:none;stroke:#000000;stroke-linecap:square;stroke-linejoin:miter;stroke-width:0.8;\"/>\r\n   </g>\r\n   <g id=\"patch_5\">\r\n    <path d=\"M 39.65 71.9 \r\nL 1065.925 71.9 \r\n\" style=\"fill:none;stroke:#000000;stroke-linecap:square;stroke-linejoin:miter;stroke-width:0.8;\"/>\r\n   </g>\r\n   <g id=\"patch_6\">\r\n    <path d=\"M 39.65 7.2 \r\nL 1065.925 7.2 \r\n\" style=\"fill:none;stroke:#000000;stroke-linecap:square;stroke-linejoin:miter;stroke-width:0.8;\"/>\r\n   </g>\r\n  </g>\r\n  <g id=\"axes_2\">\r\n   <g id=\"patch_7\">\r\n    <path d=\"M 39.65 213.2 \r\nL 1065.925 213.2 \r\nL 1065.925 148.5 \r\nL 39.65 148.5 \r\nz\r\n\" style=\"fill:#ffffff;\"/>\r\n   </g>\r\n   <g id=\"matplotlib.axis_3\">\r\n    <g id=\"xtick_49\">\r\n     <g id=\"line2d_52\">\r\n      <g>\r\n       <use style=\"stroke:#000000;stroke-width:0.8;\" x=\"39.65\" xlink:href=\"#me65d96bb64\" y=\"213.2\"/>\r\n      </g>\r\n     </g>\r\n    </g>\r\n    <g id=\"xtick_50\">\r\n     <g id=\"line2d_53\">\r\n      <g>\r\n       <use style=\"stroke:#000000;stroke-width:0.8;\" x=\"126.992553\" xlink:href=\"#me65d96bb64\" y=\"213.2\"/>\r\n      </g>\r\n     </g>\r\n     <g id=\"text_13\">\r\n      <!--  -->\r\n      <g transform=\"translate(126.992553 227.798437)scale(0.1 -0.1)\"/>\r\n      <!--  -->\r\n      <g transform=\"translate(126.992553 238.99625)scale(0.1 -0.1)\"/>\r\n      <!-- Apr -->\r\n      <g transform=\"translate(118.342553 250.194062)scale(0.1 -0.1)\">\r\n       <use xlink:href=\"#DejaVuSans-65\"/>\r\n       <use x=\"68.408203\" xlink:href=\"#DejaVuSans-112\"/>\r\n       <use x=\"131.884766\" xlink:href=\"#DejaVuSans-114\"/>\r\n      </g>\r\n      <!-- 2020 -->\r\n      <g transform=\"translate(114.267553 261.391875)scale(0.1 -0.1)\">\r\n       <use xlink:href=\"#DejaVuSans-50\"/>\r\n       <use x=\"63.623047\" xlink:href=\"#DejaVuSans-48\"/>\r\n       <use x=\"127.246094\" xlink:href=\"#DejaVuSans-50\"/>\r\n       <use x=\"190.869141\" xlink:href=\"#DejaVuSans-48\"/>\r\n      </g>\r\n     </g>\r\n    </g>\r\n    <g id=\"xtick_51\">\r\n     <g id=\"line2d_54\">\r\n      <g>\r\n       <use style=\"stroke:#000000;stroke-width:0.8;\" x=\"782.061702\" xlink:href=\"#me65d96bb64\" y=\"213.2\"/>\r\n      </g>\r\n     </g>\r\n     <g id=\"text_14\">\r\n      <!--  -->\r\n      <g transform=\"translate(782.061702 227.798437)scale(0.1 -0.1)\"/>\r\n      <!--  -->\r\n      <g transform=\"translate(782.061702 238.99625)scale(0.1 -0.1)\"/>\r\n      <!-- May -->\r\n      <g transform=\"translate(771.724202 250.194062)scale(0.1 -0.1)\">\r\n       <use xlink:href=\"#DejaVuSans-77\"/>\r\n       <use x=\"86.279297\" xlink:href=\"#DejaVuSans-97\"/>\r\n       <use x=\"147.558594\" xlink:href=\"#DejaVuSans-121\"/>\r\n      </g>\r\n     </g>\r\n    </g>\r\n    <g id=\"xtick_52\">\r\n     <g id=\"line2d_55\">\r\n      <g>\r\n       <use style=\"stroke:#000000;stroke-width:0.8;\" x=\"1065.925\" xlink:href=\"#me65d96bb64\" y=\"213.2\"/>\r\n      </g>\r\n     </g>\r\n    </g>\r\n    <g id=\"xtick_53\">\r\n     <g id=\"line2d_56\">\r\n      <g>\r\n       <use style=\"stroke:#000000;stroke-width:0.6;\" x=\"61.485638\" xlink:href=\"#m7cb0ea069d\" y=\"213.2\"/>\r\n      </g>\r\n     </g>\r\n    </g>\r\n    <g id=\"xtick_54\">\r\n     <g id=\"line2d_57\">\r\n      <g>\r\n       <use style=\"stroke:#000000;stroke-width:0.6;\" x=\"83.321277\" xlink:href=\"#m7cb0ea069d\" y=\"213.2\"/>\r\n      </g>\r\n     </g>\r\n     <g id=\"text_15\">\r\n      <!-- 30 -->\r\n      <g transform=\"translate(76.958777 226.198437)scale(0.1 -0.1)\">\r\n       <use xlink:href=\"#DejaVuSans-51\"/>\r\n       <use x=\"63.623047\" xlink:href=\"#DejaVuSans-48\"/>\r\n      </g>\r\n     </g>\r\n    </g>\r\n    <g id=\"xtick_55\">\r\n     <g id=\"line2d_58\">\r\n      <g>\r\n       <use style=\"stroke:#000000;stroke-width:0.6;\" x=\"105.156915\" xlink:href=\"#m7cb0ea069d\" y=\"213.2\"/>\r\n      </g>\r\n     </g>\r\n    </g>\r\n    <g id=\"xtick_56\">\r\n     <g id=\"line2d_59\">\r\n      <g>\r\n       <use style=\"stroke:#000000;stroke-width:0.6;\" x=\"148.828191\" xlink:href=\"#m7cb0ea069d\" y=\"213.2\"/>\r\n      </g>\r\n     </g>\r\n    </g>\r\n    <g id=\"xtick_57\">\r\n     <g id=\"line2d_60\">\r\n      <g>\r\n       <use style=\"stroke:#000000;stroke-width:0.6;\" x=\"170.66383\" xlink:href=\"#m7cb0ea069d\" y=\"213.2\"/>\r\n      </g>\r\n     </g>\r\n    </g>\r\n    <g id=\"xtick_58\">\r\n     <g id=\"line2d_61\">\r\n      <g>\r\n       <use style=\"stroke:#000000;stroke-width:0.6;\" x=\"192.499468\" xlink:href=\"#m7cb0ea069d\" y=\"213.2\"/>\r\n      </g>\r\n     </g>\r\n    </g>\r\n    <g id=\"xtick_59\">\r\n     <g id=\"line2d_62\">\r\n      <g>\r\n       <use style=\"stroke:#000000;stroke-width:0.6;\" x=\"214.335106\" xlink:href=\"#m7cb0ea069d\" y=\"213.2\"/>\r\n      </g>\r\n     </g>\r\n    </g>\r\n    <g id=\"xtick_60\">\r\n     <g id=\"line2d_63\">\r\n      <g>\r\n       <use style=\"stroke:#000000;stroke-width:0.6;\" x=\"236.170745\" xlink:href=\"#m7cb0ea069d\" y=\"213.2\"/>\r\n      </g>\r\n     </g>\r\n     <g id=\"text_16\">\r\n      <!-- 06 -->\r\n      <g transform=\"translate(229.808245 226.198437)scale(0.1 -0.1)\">\r\n       <use xlink:href=\"#DejaVuSans-48\"/>\r\n       <use x=\"63.623047\" xlink:href=\"#DejaVuSans-54\"/>\r\n      </g>\r\n     </g>\r\n    </g>\r\n    <g id=\"xtick_61\">\r\n     <g id=\"line2d_64\">\r\n      <g>\r\n       <use style=\"stroke:#000000;stroke-width:0.6;\" x=\"258.006383\" xlink:href=\"#m7cb0ea069d\" y=\"213.2\"/>\r\n      </g>\r\n     </g>\r\n    </g>\r\n    <g id=\"xtick_62\">\r\n     <g id=\"line2d_65\">\r\n      <g>\r\n       <use style=\"stroke:#000000;stroke-width:0.6;\" x=\"279.842021\" xlink:href=\"#m7cb0ea069d\" y=\"213.2\"/>\r\n      </g>\r\n     </g>\r\n    </g>\r\n    <g id=\"xtick_63\">\r\n     <g id=\"line2d_66\">\r\n      <g>\r\n       <use style=\"stroke:#000000;stroke-width:0.6;\" x=\"301.67766\" xlink:href=\"#m7cb0ea069d\" y=\"213.2\"/>\r\n      </g>\r\n     </g>\r\n    </g>\r\n    <g id=\"xtick_64\">\r\n     <g id=\"line2d_67\">\r\n      <g>\r\n       <use style=\"stroke:#000000;stroke-width:0.6;\" x=\"323.513298\" xlink:href=\"#m7cb0ea069d\" y=\"213.2\"/>\r\n      </g>\r\n     </g>\r\n    </g>\r\n    <g id=\"xtick_65\">\r\n     <g id=\"line2d_68\">\r\n      <g>\r\n       <use style=\"stroke:#000000;stroke-width:0.6;\" x=\"345.348936\" xlink:href=\"#m7cb0ea069d\" y=\"213.2\"/>\r\n      </g>\r\n     </g>\r\n    </g>\r\n    <g id=\"xtick_66\">\r\n     <g id=\"line2d_69\">\r\n      <g>\r\n       <use style=\"stroke:#000000;stroke-width:0.6;\" x=\"367.184574\" xlink:href=\"#m7cb0ea069d\" y=\"213.2\"/>\r\n      </g>\r\n     </g>\r\n    </g>\r\n    <g id=\"xtick_67\">\r\n     <g id=\"line2d_70\">\r\n      <g>\r\n       <use style=\"stroke:#000000;stroke-width:0.6;\" x=\"389.020213\" xlink:href=\"#m7cb0ea069d\" y=\"213.2\"/>\r\n      </g>\r\n     </g>\r\n     <g id=\"text_17\">\r\n      <!-- 13 -->\r\n      <g transform=\"translate(382.657713 226.198437)scale(0.1 -0.1)\">\r\n       <use xlink:href=\"#DejaVuSans-49\"/>\r\n       <use x=\"63.623047\" xlink:href=\"#DejaVuSans-51\"/>\r\n      </g>\r\n     </g>\r\n    </g>\r\n    <g id=\"xtick_68\">\r\n     <g id=\"line2d_71\">\r\n      <g>\r\n       <use style=\"stroke:#000000;stroke-width:0.6;\" x=\"410.855851\" xlink:href=\"#m7cb0ea069d\" y=\"213.2\"/>\r\n      </g>\r\n     </g>\r\n    </g>\r\n    <g id=\"xtick_69\">\r\n     <g id=\"line2d_72\">\r\n      <g>\r\n       <use style=\"stroke:#000000;stroke-width:0.6;\" x=\"432.691489\" xlink:href=\"#m7cb0ea069d\" y=\"213.2\"/>\r\n      </g>\r\n     </g>\r\n    </g>\r\n    <g id=\"xtick_70\">\r\n     <g id=\"line2d_73\">\r\n      <g>\r\n       <use style=\"stroke:#000000;stroke-width:0.6;\" x=\"454.527128\" xlink:href=\"#m7cb0ea069d\" y=\"213.2\"/>\r\n      </g>\r\n     </g>\r\n    </g>\r\n    <g id=\"xtick_71\">\r\n     <g id=\"line2d_74\">\r\n      <g>\r\n       <use style=\"stroke:#000000;stroke-width:0.6;\" x=\"476.362766\" xlink:href=\"#m7cb0ea069d\" y=\"213.2\"/>\r\n      </g>\r\n     </g>\r\n    </g>\r\n    <g id=\"xtick_72\">\r\n     <g id=\"line2d_75\">\r\n      <g>\r\n       <use style=\"stroke:#000000;stroke-width:0.6;\" x=\"498.198404\" xlink:href=\"#m7cb0ea069d\" y=\"213.2\"/>\r\n      </g>\r\n     </g>\r\n    </g>\r\n    <g id=\"xtick_73\">\r\n     <g id=\"line2d_76\">\r\n      <g>\r\n       <use style=\"stroke:#000000;stroke-width:0.6;\" x=\"520.034043\" xlink:href=\"#m7cb0ea069d\" y=\"213.2\"/>\r\n      </g>\r\n     </g>\r\n    </g>\r\n    <g id=\"xtick_74\">\r\n     <g id=\"line2d_77\">\r\n      <g>\r\n       <use style=\"stroke:#000000;stroke-width:0.6;\" x=\"541.869681\" xlink:href=\"#m7cb0ea069d\" y=\"213.2\"/>\r\n      </g>\r\n     </g>\r\n     <g id=\"text_18\">\r\n      <!-- 20 -->\r\n      <g transform=\"translate(535.507181 226.198437)scale(0.1 -0.1)\">\r\n       <use xlink:href=\"#DejaVuSans-50\"/>\r\n       <use x=\"63.623047\" xlink:href=\"#DejaVuSans-48\"/>\r\n      </g>\r\n     </g>\r\n    </g>\r\n    <g id=\"xtick_75\">\r\n     <g id=\"line2d_78\">\r\n      <g>\r\n       <use style=\"stroke:#000000;stroke-width:0.6;\" x=\"563.705319\" xlink:href=\"#m7cb0ea069d\" y=\"213.2\"/>\r\n      </g>\r\n     </g>\r\n    </g>\r\n    <g id=\"xtick_76\">\r\n     <g id=\"line2d_79\">\r\n      <g>\r\n       <use style=\"stroke:#000000;stroke-width:0.6;\" x=\"585.540957\" xlink:href=\"#m7cb0ea069d\" y=\"213.2\"/>\r\n      </g>\r\n     </g>\r\n    </g>\r\n    <g id=\"xtick_77\">\r\n     <g id=\"line2d_80\">\r\n      <g>\r\n       <use style=\"stroke:#000000;stroke-width:0.6;\" x=\"607.376596\" xlink:href=\"#m7cb0ea069d\" y=\"213.2\"/>\r\n      </g>\r\n     </g>\r\n    </g>\r\n    <g id=\"xtick_78\">\r\n     <g id=\"line2d_81\">\r\n      <g>\r\n       <use style=\"stroke:#000000;stroke-width:0.6;\" x=\"629.212234\" xlink:href=\"#m7cb0ea069d\" y=\"213.2\"/>\r\n      </g>\r\n     </g>\r\n    </g>\r\n    <g id=\"xtick_79\">\r\n     <g id=\"line2d_82\">\r\n      <g>\r\n       <use style=\"stroke:#000000;stroke-width:0.6;\" x=\"651.047872\" xlink:href=\"#m7cb0ea069d\" y=\"213.2\"/>\r\n      </g>\r\n     </g>\r\n    </g>\r\n    <g id=\"xtick_80\">\r\n     <g id=\"line2d_83\">\r\n      <g>\r\n       <use style=\"stroke:#000000;stroke-width:0.6;\" x=\"672.883511\" xlink:href=\"#m7cb0ea069d\" y=\"213.2\"/>\r\n      </g>\r\n     </g>\r\n    </g>\r\n    <g id=\"xtick_81\">\r\n     <g id=\"line2d_84\">\r\n      <g>\r\n       <use style=\"stroke:#000000;stroke-width:0.6;\" x=\"694.719149\" xlink:href=\"#m7cb0ea069d\" y=\"213.2\"/>\r\n      </g>\r\n     </g>\r\n     <g id=\"text_19\">\r\n      <!-- 27 -->\r\n      <g transform=\"translate(688.356649 226.198437)scale(0.1 -0.1)\">\r\n       <use xlink:href=\"#DejaVuSans-50\"/>\r\n       <use x=\"63.623047\" xlink:href=\"#DejaVuSans-55\"/>\r\n      </g>\r\n     </g>\r\n    </g>\r\n    <g id=\"xtick_82\">\r\n     <g id=\"line2d_85\">\r\n      <g>\r\n       <use style=\"stroke:#000000;stroke-width:0.6;\" x=\"716.554787\" xlink:href=\"#m7cb0ea069d\" y=\"213.2\"/>\r\n      </g>\r\n     </g>\r\n    </g>\r\n    <g id=\"xtick_83\">\r\n     <g id=\"line2d_86\">\r\n      <g>\r\n       <use style=\"stroke:#000000;stroke-width:0.6;\" x=\"738.390426\" xlink:href=\"#m7cb0ea069d\" y=\"213.2\"/>\r\n      </g>\r\n     </g>\r\n    </g>\r\n    <g id=\"xtick_84\">\r\n     <g id=\"line2d_87\">\r\n      <g>\r\n       <use style=\"stroke:#000000;stroke-width:0.6;\" x=\"760.226064\" xlink:href=\"#m7cb0ea069d\" y=\"213.2\"/>\r\n      </g>\r\n     </g>\r\n    </g>\r\n    <g id=\"xtick_85\">\r\n     <g id=\"line2d_88\">\r\n      <g>\r\n       <use style=\"stroke:#000000;stroke-width:0.6;\" x=\"803.89734\" xlink:href=\"#m7cb0ea069d\" y=\"213.2\"/>\r\n      </g>\r\n     </g>\r\n    </g>\r\n    <g id=\"xtick_86\">\r\n     <g id=\"line2d_89\">\r\n      <g>\r\n       <use style=\"stroke:#000000;stroke-width:0.6;\" x=\"825.732979\" xlink:href=\"#m7cb0ea069d\" y=\"213.2\"/>\r\n      </g>\r\n     </g>\r\n    </g>\r\n    <g id=\"xtick_87\">\r\n     <g id=\"line2d_90\">\r\n      <g>\r\n       <use style=\"stroke:#000000;stroke-width:0.6;\" x=\"847.568617\" xlink:href=\"#m7cb0ea069d\" y=\"213.2\"/>\r\n      </g>\r\n     </g>\r\n     <g id=\"text_20\">\r\n      <!-- 04 -->\r\n      <g transform=\"translate(841.206117 226.198437)scale(0.1 -0.1)\">\r\n       <use xlink:href=\"#DejaVuSans-48\"/>\r\n       <use x=\"63.623047\" xlink:href=\"#DejaVuSans-52\"/>\r\n      </g>\r\n     </g>\r\n    </g>\r\n    <g id=\"xtick_88\">\r\n     <g id=\"line2d_91\">\r\n      <g>\r\n       <use style=\"stroke:#000000;stroke-width:0.6;\" x=\"869.404255\" xlink:href=\"#m7cb0ea069d\" y=\"213.2\"/>\r\n      </g>\r\n     </g>\r\n    </g>\r\n    <g id=\"xtick_89\">\r\n     <g id=\"line2d_92\">\r\n      <g>\r\n       <use style=\"stroke:#000000;stroke-width:0.6;\" x=\"891.239894\" xlink:href=\"#m7cb0ea069d\" y=\"213.2\"/>\r\n      </g>\r\n     </g>\r\n    </g>\r\n    <g id=\"xtick_90\">\r\n     <g id=\"line2d_93\">\r\n      <g>\r\n       <use style=\"stroke:#000000;stroke-width:0.6;\" x=\"913.075532\" xlink:href=\"#m7cb0ea069d\" y=\"213.2\"/>\r\n      </g>\r\n     </g>\r\n    </g>\r\n    <g id=\"xtick_91\">\r\n     <g id=\"line2d_94\">\r\n      <g>\r\n       <use style=\"stroke:#000000;stroke-width:0.6;\" x=\"934.91117\" xlink:href=\"#m7cb0ea069d\" y=\"213.2\"/>\r\n      </g>\r\n     </g>\r\n    </g>\r\n    <g id=\"xtick_92\">\r\n     <g id=\"line2d_95\">\r\n      <g>\r\n       <use style=\"stroke:#000000;stroke-width:0.6;\" x=\"956.746809\" xlink:href=\"#m7cb0ea069d\" y=\"213.2\"/>\r\n      </g>\r\n     </g>\r\n    </g>\r\n    <g id=\"xtick_93\">\r\n     <g id=\"line2d_96\">\r\n      <g>\r\n       <use style=\"stroke:#000000;stroke-width:0.6;\" x=\"978.582447\" xlink:href=\"#m7cb0ea069d\" y=\"213.2\"/>\r\n      </g>\r\n     </g>\r\n    </g>\r\n    <g id=\"xtick_94\">\r\n     <g id=\"line2d_97\">\r\n      <g>\r\n       <use style=\"stroke:#000000;stroke-width:0.6;\" x=\"1000.418085\" xlink:href=\"#m7cb0ea069d\" y=\"213.2\"/>\r\n      </g>\r\n     </g>\r\n     <g id=\"text_21\">\r\n      <!-- 11 -->\r\n      <g transform=\"translate(994.055585 226.198437)scale(0.1 -0.1)\">\r\n       <use xlink:href=\"#DejaVuSans-49\"/>\r\n       <use x=\"63.623047\" xlink:href=\"#DejaVuSans-49\"/>\r\n      </g>\r\n     </g>\r\n    </g>\r\n    <g id=\"xtick_95\">\r\n     <g id=\"line2d_98\">\r\n      <g>\r\n       <use style=\"stroke:#000000;stroke-width:0.6;\" x=\"1022.253723\" xlink:href=\"#m7cb0ea069d\" y=\"213.2\"/>\r\n      </g>\r\n     </g>\r\n    </g>\r\n    <g id=\"xtick_96\">\r\n     <g id=\"line2d_99\">\r\n      <g>\r\n       <use style=\"stroke:#000000;stroke-width:0.6;\" x=\"1044.089362\" xlink:href=\"#m7cb0ea069d\" y=\"213.2\"/>\r\n      </g>\r\n     </g>\r\n    </g>\r\n    <g id=\"text_22\">\r\n     <!-- date -->\r\n     <g transform=\"translate(541.5125 275.07)scale(0.1 -0.1)\">\r\n      <use xlink:href=\"#DejaVuSans-100\"/>\r\n      <use x=\"63.476562\" xlink:href=\"#DejaVuSans-97\"/>\r\n      <use x=\"124.755859\" xlink:href=\"#DejaVuSans-116\"/>\r\n      <use x=\"163.964844\" xlink:href=\"#DejaVuSans-101\"/>\r\n     </g>\r\n    </g>\r\n   </g>\r\n   <g id=\"matplotlib.axis_4\">\r\n    <g id=\"ytick_3\">\r\n     <g id=\"line2d_100\">\r\n      <g>\r\n       <use style=\"stroke:#000000;stroke-width:0.8;\" x=\"39.65\" xlink:href=\"#md608515c24\" y=\"210.718304\"/>\r\n      </g>\r\n     </g>\r\n     <g id=\"text_23\">\r\n      <!-- 0 -->\r\n      <g transform=\"translate(26.2875 214.517523)scale(0.1 -0.1)\">\r\n       <use xlink:href=\"#DejaVuSans-48\"/>\r\n      </g>\r\n     </g>\r\n    </g>\r\n    <g id=\"ytick_4\">\r\n     <g id=\"line2d_101\">\r\n      <g>\r\n       <use style=\"stroke:#000000;stroke-width:0.8;\" x=\"39.65\" xlink:href=\"#md608515c24\" y=\"185.991425\"/>\r\n      </g>\r\n     </g>\r\n     <g id=\"text_24\">\r\n      <!-- 1000 -->\r\n      <g transform=\"translate(7.2 189.790644)scale(0.1 -0.1)\">\r\n       <use xlink:href=\"#DejaVuSans-49\"/>\r\n       <use x=\"63.623047\" xlink:href=\"#DejaVuSans-48\"/>\r\n       <use x=\"127.246094\" xlink:href=\"#DejaVuSans-48\"/>\r\n       <use x=\"190.869141\" xlink:href=\"#DejaVuSans-48\"/>\r\n      </g>\r\n     </g>\r\n    </g>\r\n    <g id=\"ytick_5\">\r\n     <g id=\"line2d_102\">\r\n      <g>\r\n       <use style=\"stroke:#000000;stroke-width:0.8;\" x=\"39.65\" xlink:href=\"#md608515c24\" y=\"161.264545\"/>\r\n      </g>\r\n     </g>\r\n     <g id=\"text_25\">\r\n      <!-- 2000 -->\r\n      <g transform=\"translate(7.2 165.063764)scale(0.1 -0.1)\">\r\n       <use xlink:href=\"#DejaVuSans-50\"/>\r\n       <use x=\"63.623047\" xlink:href=\"#DejaVuSans-48\"/>\r\n       <use x=\"127.246094\" xlink:href=\"#DejaVuSans-48\"/>\r\n       <use x=\"190.869141\" xlink:href=\"#DejaVuSans-48\"/>\r\n      </g>\r\n     </g>\r\n    </g>\r\n   </g>\r\n   <g id=\"line2d_103\">\r\n    <path clip-path=\"url(#p615c61ce77)\" d=\"M 105.156915 210.259091 \r\nL 126.992553 210.195508 \r\nL 148.828191 210.124859 \r\nL 170.66383 210.054211 \r\nL 192.499468 209.987095 \r\nL 214.335106 209.912915 \r\nL 236.170745 209.792813 \r\nL 258.006383 209.616192 \r\nL 279.842021 209.428974 \r\nL 301.67766 209.192303 \r\nL 323.513298 208.923839 \r\nL 345.348936 208.570598 \r\nL 367.184574 208.178501 \r\nL 389.020213 207.789935 \r\nL 410.855851 207.380176 \r\nL 432.691489 206.956286 \r\nL 454.527128 206.479411 \r\nL 476.362766 206.006068 \r\nL 498.198404 205.557451 \r\nL 520.034043 205.031122 \r\nL 541.869681 204.395288 \r\nL 563.705319 203.720597 \r\nL 585.540957 202.865754 \r\nL 607.376596 201.93673 \r\nL 629.212234 200.884071 \r\nL 651.047872 199.577079 \r\nL 672.883511 198.171179 \r\nL 694.719149 196.514478 \r\nL 716.554787 194.606976 \r\nL 738.390426 192.533451 \r\nL 760.226064 190.166735 \r\nL 782.061702 187.778825 \r\nL 803.89734 185.207229 \r\nL 825.732979 182.402495 \r\nL 847.568617 179.424672 \r\nL 869.404255 175.52489 \r\nL 891.239894 171.565057 \r\nL 913.075532 167.425071 \r\nL 934.91117 162.811741 \r\nL 956.746809 159.296992 \r\nL 978.582447 155.598557 \r\nL 1000.418085 151.440909 \r\n\" style=\"fill:none;stroke:#1f77b4;stroke-linecap:square;stroke-width:1.5;\"/>\r\n   </g>\r\n   <g id=\"patch_8\">\r\n    <path d=\"M 39.65 213.2 \r\nL 39.65 148.5 \r\n\" style=\"fill:none;stroke:#000000;stroke-linecap:square;stroke-linejoin:miter;stroke-width:0.8;\"/>\r\n   </g>\r\n   <g id=\"patch_9\">\r\n    <path d=\"M 1065.925 213.2 \r\nL 1065.925 148.5 \r\n\" style=\"fill:none;stroke:#000000;stroke-linecap:square;stroke-linejoin:miter;stroke-width:0.8;\"/>\r\n   </g>\r\n   <g id=\"patch_10\">\r\n    <path d=\"M 39.65 213.2 \r\nL 1065.925 213.2 \r\n\" style=\"fill:none;stroke:#000000;stroke-linecap:square;stroke-linejoin:miter;stroke-width:0.8;\"/>\r\n   </g>\r\n   <g id=\"patch_11\">\r\n    <path d=\"M 39.65 148.5 \r\nL 1065.925 148.5 \r\n\" style=\"fill:none;stroke:#000000;stroke-linecap:square;stroke-linejoin:miter;stroke-width:0.8;\"/>\r\n   </g>\r\n  </g>\r\n  <g id=\"axes_3\">\r\n   <g id=\"patch_12\">\r\n    <path d=\"M 39.65 354.5 \r\nL 1065.925 354.5 \r\nL 1065.925 289.8 \r\nL 39.65 289.8 \r\nz\r\n\" style=\"fill:#ffffff;\"/>\r\n   </g>\r\n   <g id=\"matplotlib.axis_5\">\r\n    <g id=\"xtick_97\">\r\n     <g id=\"line2d_104\">\r\n      <g>\r\n       <use style=\"stroke:#000000;stroke-width:0.8;\" x=\"39.65\" xlink:href=\"#me65d96bb64\" y=\"354.5\"/>\r\n      </g>\r\n     </g>\r\n    </g>\r\n    <g id=\"xtick_98\">\r\n     <g id=\"line2d_105\">\r\n      <g>\r\n       <use style=\"stroke:#000000;stroke-width:0.8;\" x=\"126.992553\" xlink:href=\"#me65d96bb64\" y=\"354.5\"/>\r\n      </g>\r\n     </g>\r\n     <g id=\"text_26\">\r\n      <!--  -->\r\n      <g transform=\"translate(126.992553 369.098437)scale(0.1 -0.1)\"/>\r\n      <!--  -->\r\n      <g transform=\"translate(126.992553 380.29625)scale(0.1 -0.1)\"/>\r\n      <!-- Apr -->\r\n      <g transform=\"translate(118.342553 391.494062)scale(0.1 -0.1)\">\r\n       <use xlink:href=\"#DejaVuSans-65\"/>\r\n       <use x=\"68.408203\" xlink:href=\"#DejaVuSans-112\"/>\r\n       <use x=\"131.884766\" xlink:href=\"#DejaVuSans-114\"/>\r\n      </g>\r\n      <!-- 2020 -->\r\n      <g transform=\"translate(114.267553 402.691875)scale(0.1 -0.1)\">\r\n       <use xlink:href=\"#DejaVuSans-50\"/>\r\n       <use x=\"63.623047\" xlink:href=\"#DejaVuSans-48\"/>\r\n       <use x=\"127.246094\" xlink:href=\"#DejaVuSans-50\"/>\r\n       <use x=\"190.869141\" xlink:href=\"#DejaVuSans-48\"/>\r\n      </g>\r\n     </g>\r\n    </g>\r\n    <g id=\"xtick_99\">\r\n     <g id=\"line2d_106\">\r\n      <g>\r\n       <use style=\"stroke:#000000;stroke-width:0.8;\" x=\"782.061702\" xlink:href=\"#me65d96bb64\" y=\"354.5\"/>\r\n      </g>\r\n     </g>\r\n     <g id=\"text_27\">\r\n      <!--  -->\r\n      <g transform=\"translate(782.061702 369.098437)scale(0.1 -0.1)\"/>\r\n      <!--  -->\r\n      <g transform=\"translate(782.061702 380.29625)scale(0.1 -0.1)\"/>\r\n      <!-- May -->\r\n      <g transform=\"translate(771.724202 391.494062)scale(0.1 -0.1)\">\r\n       <use xlink:href=\"#DejaVuSans-77\"/>\r\n       <use x=\"86.279297\" xlink:href=\"#DejaVuSans-97\"/>\r\n       <use x=\"147.558594\" xlink:href=\"#DejaVuSans-121\"/>\r\n      </g>\r\n     </g>\r\n    </g>\r\n    <g id=\"xtick_100\">\r\n     <g id=\"line2d_107\">\r\n      <g>\r\n       <use style=\"stroke:#000000;stroke-width:0.8;\" x=\"1065.925\" xlink:href=\"#me65d96bb64\" y=\"354.5\"/>\r\n      </g>\r\n     </g>\r\n    </g>\r\n    <g id=\"xtick_101\">\r\n     <g id=\"line2d_108\">\r\n      <g>\r\n       <use style=\"stroke:#000000;stroke-width:0.6;\" x=\"61.485638\" xlink:href=\"#m7cb0ea069d\" y=\"354.5\"/>\r\n      </g>\r\n     </g>\r\n    </g>\r\n    <g id=\"xtick_102\">\r\n     <g id=\"line2d_109\">\r\n      <g>\r\n       <use style=\"stroke:#000000;stroke-width:0.6;\" x=\"83.321277\" xlink:href=\"#m7cb0ea069d\" y=\"354.5\"/>\r\n      </g>\r\n     </g>\r\n     <g id=\"text_28\">\r\n      <!-- 30 -->\r\n      <g transform=\"translate(76.958777 367.498437)scale(0.1 -0.1)\">\r\n       <use xlink:href=\"#DejaVuSans-51\"/>\r\n       <use x=\"63.623047\" xlink:href=\"#DejaVuSans-48\"/>\r\n      </g>\r\n     </g>\r\n    </g>\r\n    <g id=\"xtick_103\">\r\n     <g id=\"line2d_110\">\r\n      <g>\r\n       <use style=\"stroke:#000000;stroke-width:0.6;\" x=\"105.156915\" xlink:href=\"#m7cb0ea069d\" y=\"354.5\"/>\r\n      </g>\r\n     </g>\r\n    </g>\r\n    <g id=\"xtick_104\">\r\n     <g id=\"line2d_111\">\r\n      <g>\r\n       <use style=\"stroke:#000000;stroke-width:0.6;\" x=\"148.828191\" xlink:href=\"#m7cb0ea069d\" y=\"354.5\"/>\r\n      </g>\r\n     </g>\r\n    </g>\r\n    <g id=\"xtick_105\">\r\n     <g id=\"line2d_112\">\r\n      <g>\r\n       <use style=\"stroke:#000000;stroke-width:0.6;\" x=\"170.66383\" xlink:href=\"#m7cb0ea069d\" y=\"354.5\"/>\r\n      </g>\r\n     </g>\r\n    </g>\r\n    <g id=\"xtick_106\">\r\n     <g id=\"line2d_113\">\r\n      <g>\r\n       <use style=\"stroke:#000000;stroke-width:0.6;\" x=\"192.499468\" xlink:href=\"#m7cb0ea069d\" y=\"354.5\"/>\r\n      </g>\r\n     </g>\r\n    </g>\r\n    <g id=\"xtick_107\">\r\n     <g id=\"line2d_114\">\r\n      <g>\r\n       <use style=\"stroke:#000000;stroke-width:0.6;\" x=\"214.335106\" xlink:href=\"#m7cb0ea069d\" y=\"354.5\"/>\r\n      </g>\r\n     </g>\r\n    </g>\r\n    <g id=\"xtick_108\">\r\n     <g id=\"line2d_115\">\r\n      <g>\r\n       <use style=\"stroke:#000000;stroke-width:0.6;\" x=\"236.170745\" xlink:href=\"#m7cb0ea069d\" y=\"354.5\"/>\r\n      </g>\r\n     </g>\r\n     <g id=\"text_29\">\r\n      <!-- 06 -->\r\n      <g transform=\"translate(229.808245 367.498437)scale(0.1 -0.1)\">\r\n       <use xlink:href=\"#DejaVuSans-48\"/>\r\n       <use x=\"63.623047\" xlink:href=\"#DejaVuSans-54\"/>\r\n      </g>\r\n     </g>\r\n    </g>\r\n    <g id=\"xtick_109\">\r\n     <g id=\"line2d_116\">\r\n      <g>\r\n       <use style=\"stroke:#000000;stroke-width:0.6;\" x=\"258.006383\" xlink:href=\"#m7cb0ea069d\" y=\"354.5\"/>\r\n      </g>\r\n     </g>\r\n    </g>\r\n    <g id=\"xtick_110\">\r\n     <g id=\"line2d_117\">\r\n      <g>\r\n       <use style=\"stroke:#000000;stroke-width:0.6;\" x=\"279.842021\" xlink:href=\"#m7cb0ea069d\" y=\"354.5\"/>\r\n      </g>\r\n     </g>\r\n    </g>\r\n    <g id=\"xtick_111\">\r\n     <g id=\"line2d_118\">\r\n      <g>\r\n       <use style=\"stroke:#000000;stroke-width:0.6;\" x=\"301.67766\" xlink:href=\"#m7cb0ea069d\" y=\"354.5\"/>\r\n      </g>\r\n     </g>\r\n    </g>\r\n    <g id=\"xtick_112\">\r\n     <g id=\"line2d_119\">\r\n      <g>\r\n       <use style=\"stroke:#000000;stroke-width:0.6;\" x=\"323.513298\" xlink:href=\"#m7cb0ea069d\" y=\"354.5\"/>\r\n      </g>\r\n     </g>\r\n    </g>\r\n    <g id=\"xtick_113\">\r\n     <g id=\"line2d_120\">\r\n      <g>\r\n       <use style=\"stroke:#000000;stroke-width:0.6;\" x=\"345.348936\" xlink:href=\"#m7cb0ea069d\" y=\"354.5\"/>\r\n      </g>\r\n     </g>\r\n    </g>\r\n    <g id=\"xtick_114\">\r\n     <g id=\"line2d_121\">\r\n      <g>\r\n       <use style=\"stroke:#000000;stroke-width:0.6;\" x=\"367.184574\" xlink:href=\"#m7cb0ea069d\" y=\"354.5\"/>\r\n      </g>\r\n     </g>\r\n    </g>\r\n    <g id=\"xtick_115\">\r\n     <g id=\"line2d_122\">\r\n      <g>\r\n       <use style=\"stroke:#000000;stroke-width:0.6;\" x=\"389.020213\" xlink:href=\"#m7cb0ea069d\" y=\"354.5\"/>\r\n      </g>\r\n     </g>\r\n     <g id=\"text_30\">\r\n      <!-- 13 -->\r\n      <g transform=\"translate(382.657713 367.498437)scale(0.1 -0.1)\">\r\n       <use xlink:href=\"#DejaVuSans-49\"/>\r\n       <use x=\"63.623047\" xlink:href=\"#DejaVuSans-51\"/>\r\n      </g>\r\n     </g>\r\n    </g>\r\n    <g id=\"xtick_116\">\r\n     <g id=\"line2d_123\">\r\n      <g>\r\n       <use style=\"stroke:#000000;stroke-width:0.6;\" x=\"410.855851\" xlink:href=\"#m7cb0ea069d\" y=\"354.5\"/>\r\n      </g>\r\n     </g>\r\n    </g>\r\n    <g id=\"xtick_117\">\r\n     <g id=\"line2d_124\">\r\n      <g>\r\n       <use style=\"stroke:#000000;stroke-width:0.6;\" x=\"432.691489\" xlink:href=\"#m7cb0ea069d\" y=\"354.5\"/>\r\n      </g>\r\n     </g>\r\n    </g>\r\n    <g id=\"xtick_118\">\r\n     <g id=\"line2d_125\">\r\n      <g>\r\n       <use style=\"stroke:#000000;stroke-width:0.6;\" x=\"454.527128\" xlink:href=\"#m7cb0ea069d\" y=\"354.5\"/>\r\n      </g>\r\n     </g>\r\n    </g>\r\n    <g id=\"xtick_119\">\r\n     <g id=\"line2d_126\">\r\n      <g>\r\n       <use style=\"stroke:#000000;stroke-width:0.6;\" x=\"476.362766\" xlink:href=\"#m7cb0ea069d\" y=\"354.5\"/>\r\n      </g>\r\n     </g>\r\n    </g>\r\n    <g id=\"xtick_120\">\r\n     <g id=\"line2d_127\">\r\n      <g>\r\n       <use style=\"stroke:#000000;stroke-width:0.6;\" x=\"498.198404\" xlink:href=\"#m7cb0ea069d\" y=\"354.5\"/>\r\n      </g>\r\n     </g>\r\n    </g>\r\n    <g id=\"xtick_121\">\r\n     <g id=\"line2d_128\">\r\n      <g>\r\n       <use style=\"stroke:#000000;stroke-width:0.6;\" x=\"520.034043\" xlink:href=\"#m7cb0ea069d\" y=\"354.5\"/>\r\n      </g>\r\n     </g>\r\n    </g>\r\n    <g id=\"xtick_122\">\r\n     <g id=\"line2d_129\">\r\n      <g>\r\n       <use style=\"stroke:#000000;stroke-width:0.6;\" x=\"541.869681\" xlink:href=\"#m7cb0ea069d\" y=\"354.5\"/>\r\n      </g>\r\n     </g>\r\n     <g id=\"text_31\">\r\n      <!-- 20 -->\r\n      <g transform=\"translate(535.507181 367.498437)scale(0.1 -0.1)\">\r\n       <use xlink:href=\"#DejaVuSans-50\"/>\r\n       <use x=\"63.623047\" xlink:href=\"#DejaVuSans-48\"/>\r\n      </g>\r\n     </g>\r\n    </g>\r\n    <g id=\"xtick_123\">\r\n     <g id=\"line2d_130\">\r\n      <g>\r\n       <use style=\"stroke:#000000;stroke-width:0.6;\" x=\"563.705319\" xlink:href=\"#m7cb0ea069d\" y=\"354.5\"/>\r\n      </g>\r\n     </g>\r\n    </g>\r\n    <g id=\"xtick_124\">\r\n     <g id=\"line2d_131\">\r\n      <g>\r\n       <use style=\"stroke:#000000;stroke-width:0.6;\" x=\"585.540957\" xlink:href=\"#m7cb0ea069d\" y=\"354.5\"/>\r\n      </g>\r\n     </g>\r\n    </g>\r\n    <g id=\"xtick_125\">\r\n     <g id=\"line2d_132\">\r\n      <g>\r\n       <use style=\"stroke:#000000;stroke-width:0.6;\" x=\"607.376596\" xlink:href=\"#m7cb0ea069d\" y=\"354.5\"/>\r\n      </g>\r\n     </g>\r\n    </g>\r\n    <g id=\"xtick_126\">\r\n     <g id=\"line2d_133\">\r\n      <g>\r\n       <use style=\"stroke:#000000;stroke-width:0.6;\" x=\"629.212234\" xlink:href=\"#m7cb0ea069d\" y=\"354.5\"/>\r\n      </g>\r\n     </g>\r\n    </g>\r\n    <g id=\"xtick_127\">\r\n     <g id=\"line2d_134\">\r\n      <g>\r\n       <use style=\"stroke:#000000;stroke-width:0.6;\" x=\"651.047872\" xlink:href=\"#m7cb0ea069d\" y=\"354.5\"/>\r\n      </g>\r\n     </g>\r\n    </g>\r\n    <g id=\"xtick_128\">\r\n     <g id=\"line2d_135\">\r\n      <g>\r\n       <use style=\"stroke:#000000;stroke-width:0.6;\" x=\"672.883511\" xlink:href=\"#m7cb0ea069d\" y=\"354.5\"/>\r\n      </g>\r\n     </g>\r\n    </g>\r\n    <g id=\"xtick_129\">\r\n     <g id=\"line2d_136\">\r\n      <g>\r\n       <use style=\"stroke:#000000;stroke-width:0.6;\" x=\"694.719149\" xlink:href=\"#m7cb0ea069d\" y=\"354.5\"/>\r\n      </g>\r\n     </g>\r\n     <g id=\"text_32\">\r\n      <!-- 27 -->\r\n      <g transform=\"translate(688.356649 367.498437)scale(0.1 -0.1)\">\r\n       <use xlink:href=\"#DejaVuSans-50\"/>\r\n       <use x=\"63.623047\" xlink:href=\"#DejaVuSans-55\"/>\r\n      </g>\r\n     </g>\r\n    </g>\r\n    <g id=\"xtick_130\">\r\n     <g id=\"line2d_137\">\r\n      <g>\r\n       <use style=\"stroke:#000000;stroke-width:0.6;\" x=\"716.554787\" xlink:href=\"#m7cb0ea069d\" y=\"354.5\"/>\r\n      </g>\r\n     </g>\r\n    </g>\r\n    <g id=\"xtick_131\">\r\n     <g id=\"line2d_138\">\r\n      <g>\r\n       <use style=\"stroke:#000000;stroke-width:0.6;\" x=\"738.390426\" xlink:href=\"#m7cb0ea069d\" y=\"354.5\"/>\r\n      </g>\r\n     </g>\r\n    </g>\r\n    <g id=\"xtick_132\">\r\n     <g id=\"line2d_139\">\r\n      <g>\r\n       <use style=\"stroke:#000000;stroke-width:0.6;\" x=\"760.226064\" xlink:href=\"#m7cb0ea069d\" y=\"354.5\"/>\r\n      </g>\r\n     </g>\r\n    </g>\r\n    <g id=\"xtick_133\">\r\n     <g id=\"line2d_140\">\r\n      <g>\r\n       <use style=\"stroke:#000000;stroke-width:0.6;\" x=\"803.89734\" xlink:href=\"#m7cb0ea069d\" y=\"354.5\"/>\r\n      </g>\r\n     </g>\r\n    </g>\r\n    <g id=\"xtick_134\">\r\n     <g id=\"line2d_141\">\r\n      <g>\r\n       <use style=\"stroke:#000000;stroke-width:0.6;\" x=\"825.732979\" xlink:href=\"#m7cb0ea069d\" y=\"354.5\"/>\r\n      </g>\r\n     </g>\r\n    </g>\r\n    <g id=\"xtick_135\">\r\n     <g id=\"line2d_142\">\r\n      <g>\r\n       <use style=\"stroke:#000000;stroke-width:0.6;\" x=\"847.568617\" xlink:href=\"#m7cb0ea069d\" y=\"354.5\"/>\r\n      </g>\r\n     </g>\r\n     <g id=\"text_33\">\r\n      <!-- 04 -->\r\n      <g transform=\"translate(841.206117 367.498437)scale(0.1 -0.1)\">\r\n       <use xlink:href=\"#DejaVuSans-48\"/>\r\n       <use x=\"63.623047\" xlink:href=\"#DejaVuSans-52\"/>\r\n      </g>\r\n     </g>\r\n    </g>\r\n    <g id=\"xtick_136\">\r\n     <g id=\"line2d_143\">\r\n      <g>\r\n       <use style=\"stroke:#000000;stroke-width:0.6;\" x=\"869.404255\" xlink:href=\"#m7cb0ea069d\" y=\"354.5\"/>\r\n      </g>\r\n     </g>\r\n    </g>\r\n    <g id=\"xtick_137\">\r\n     <g id=\"line2d_144\">\r\n      <g>\r\n       <use style=\"stroke:#000000;stroke-width:0.6;\" x=\"891.239894\" xlink:href=\"#m7cb0ea069d\" y=\"354.5\"/>\r\n      </g>\r\n     </g>\r\n    </g>\r\n    <g id=\"xtick_138\">\r\n     <g id=\"line2d_145\">\r\n      <g>\r\n       <use style=\"stroke:#000000;stroke-width:0.6;\" x=\"913.075532\" xlink:href=\"#m7cb0ea069d\" y=\"354.5\"/>\r\n      </g>\r\n     </g>\r\n    </g>\r\n    <g id=\"xtick_139\">\r\n     <g id=\"line2d_146\">\r\n      <g>\r\n       <use style=\"stroke:#000000;stroke-width:0.6;\" x=\"934.91117\" xlink:href=\"#m7cb0ea069d\" y=\"354.5\"/>\r\n      </g>\r\n     </g>\r\n    </g>\r\n    <g id=\"xtick_140\">\r\n     <g id=\"line2d_147\">\r\n      <g>\r\n       <use style=\"stroke:#000000;stroke-width:0.6;\" x=\"956.746809\" xlink:href=\"#m7cb0ea069d\" y=\"354.5\"/>\r\n      </g>\r\n     </g>\r\n    </g>\r\n    <g id=\"xtick_141\">\r\n     <g id=\"line2d_148\">\r\n      <g>\r\n       <use style=\"stroke:#000000;stroke-width:0.6;\" x=\"978.582447\" xlink:href=\"#m7cb0ea069d\" y=\"354.5\"/>\r\n      </g>\r\n     </g>\r\n    </g>\r\n    <g id=\"xtick_142\">\r\n     <g id=\"line2d_149\">\r\n      <g>\r\n       <use style=\"stroke:#000000;stroke-width:0.6;\" x=\"1000.418085\" xlink:href=\"#m7cb0ea069d\" y=\"354.5\"/>\r\n      </g>\r\n     </g>\r\n     <g id=\"text_34\">\r\n      <!-- 11 -->\r\n      <g transform=\"translate(994.055585 367.498437)scale(0.1 -0.1)\">\r\n       <use xlink:href=\"#DejaVuSans-49\"/>\r\n       <use x=\"63.623047\" xlink:href=\"#DejaVuSans-49\"/>\r\n      </g>\r\n     </g>\r\n    </g>\r\n    <g id=\"xtick_143\">\r\n     <g id=\"line2d_150\">\r\n      <g>\r\n       <use style=\"stroke:#000000;stroke-width:0.6;\" x=\"1022.253723\" xlink:href=\"#m7cb0ea069d\" y=\"354.5\"/>\r\n      </g>\r\n     </g>\r\n    </g>\r\n    <g id=\"xtick_144\">\r\n     <g id=\"line2d_151\">\r\n      <g>\r\n       <use style=\"stroke:#000000;stroke-width:0.6;\" x=\"1044.089362\" xlink:href=\"#m7cb0ea069d\" y=\"354.5\"/>\r\n      </g>\r\n     </g>\r\n    </g>\r\n    <g id=\"text_35\">\r\n     <!-- date -->\r\n     <g transform=\"translate(541.5125 416.37)scale(0.1 -0.1)\">\r\n      <use xlink:href=\"#DejaVuSans-100\"/>\r\n      <use x=\"63.476562\" xlink:href=\"#DejaVuSans-97\"/>\r\n      <use x=\"124.755859\" xlink:href=\"#DejaVuSans-116\"/>\r\n      <use x=\"163.964844\" xlink:href=\"#DejaVuSans-101\"/>\r\n     </g>\r\n    </g>\r\n   </g>\r\n   <g id=\"matplotlib.axis_6\">\r\n    <g id=\"ytick_6\">\r\n     <g id=\"line2d_152\">\r\n      <g>\r\n       <use style=\"stroke:#000000;stroke-width:0.8;\" x=\"39.65\" xlink:href=\"#md608515c24\" y=\"346.522519\"/>\r\n      </g>\r\n     </g>\r\n     <g id=\"text_36\">\r\n      <!-- −20 -->\r\n      <defs>\r\n       <path d=\"M 10.59375 35.5 \r\nL 73.1875 35.5 \r\nL 73.1875 27.203125 \r\nL 10.59375 27.203125 \r\nz\r\n\" id=\"DejaVuSans-8722\"/>\r\n      </defs>\r\n      <g transform=\"translate(11.545313 350.321738)scale(0.1 -0.1)\">\r\n       <use xlink:href=\"#DejaVuSans-8722\"/>\r\n       <use x=\"83.789062\" xlink:href=\"#DejaVuSans-50\"/>\r\n       <use x=\"147.412109\" xlink:href=\"#DejaVuSans-48\"/>\r\n      </g>\r\n     </g>\r\n    </g>\r\n    <g id=\"ytick_7\">\r\n     <g id=\"line2d_153\">\r\n      <g>\r\n       <use style=\"stroke:#000000;stroke-width:0.8;\" x=\"39.65\" xlink:href=\"#md608515c24\" y=\"322.087666\"/>\r\n      </g>\r\n     </g>\r\n     <g id=\"text_37\">\r\n      <!-- 0 -->\r\n      <g transform=\"translate(26.2875 325.886885)scale(0.1 -0.1)\">\r\n       <use xlink:href=\"#DejaVuSans-48\"/>\r\n      </g>\r\n     </g>\r\n    </g>\r\n    <g id=\"ytick_8\">\r\n     <g id=\"line2d_154\">\r\n      <g>\r\n       <use style=\"stroke:#000000;stroke-width:0.8;\" x=\"39.65\" xlink:href=\"#md608515c24\" y=\"297.652813\"/>\r\n      </g>\r\n     </g>\r\n     <g id=\"text_38\">\r\n      <!-- 20 -->\r\n      <g transform=\"translate(19.925 301.452032)scale(0.1 -0.1)\">\r\n       <use xlink:href=\"#DejaVuSans-50\"/>\r\n       <use x=\"63.623047\" xlink:href=\"#DejaVuSans-48\"/>\r\n      </g>\r\n     </g>\r\n    </g>\r\n   </g>\r\n   <g id=\"line2d_155\">\r\n    <path clip-path=\"url(#p2fb87b1c5c)\" d=\"M 39.65 305.365583 \r\nL 61.485638 292.740909 \r\nL 83.321277 313.888693 \r\nL 105.156915 342.221486 \r\nL 126.992553 351.559091 \r\nL 148.828191 347.777507 \r\nL 170.66383 301.060395 \r\nL 192.499468 305.365583 \r\nL 214.335106 292.740909 \r\nL 236.170745 313.888693 \r\nL 258.006383 342.221486 \r\nL 279.842021 351.559091 \r\nL 301.67766 347.777507 \r\nL 323.513298 301.060395 \r\nL 345.348936 305.365583 \r\nL 367.184574 292.740909 \r\nL 389.020213 313.888693 \r\nL 410.855851 342.221486 \r\nL 432.691489 351.559091 \r\nL 454.527128 347.777507 \r\nL 476.362766 301.060395 \r\nL 498.198404 305.365583 \r\nL 520.034043 292.740909 \r\nL 541.869681 313.888693 \r\nL 563.705319 342.221486 \r\nL 585.540957 351.559091 \r\nL 607.376596 347.777507 \r\nL 629.212234 301.060395 \r\nL 651.047872 305.365583 \r\nL 672.883511 292.740909 \r\nL 694.719149 313.888693 \r\nL 716.554787 342.221486 \r\nL 738.390426 351.559091 \r\nL 760.226064 347.777507 \r\nL 782.061702 301.060395 \r\nL 803.89734 305.365583 \r\nL 825.732979 292.740909 \r\nL 847.568617 313.888693 \r\nL 869.404255 342.221486 \r\nL 891.239894 351.559091 \r\nL 913.075532 347.777507 \r\nL 934.91117 301.060395 \r\nL 956.746809 305.365583 \r\nL 978.582447 292.740909 \r\nL 1000.418085 313.888693 \r\nL 1022.253723 342.221486 \r\nL 1044.089362 351.559091 \r\nL 1065.925 347.777507 \r\n\" style=\"fill:none;stroke:#1f77b4;stroke-linecap:square;stroke-width:1.5;\"/>\r\n   </g>\r\n   <g id=\"patch_13\">\r\n    <path d=\"M 39.65 354.5 \r\nL 39.65 289.8 \r\n\" style=\"fill:none;stroke:#000000;stroke-linecap:square;stroke-linejoin:miter;stroke-width:0.8;\"/>\r\n   </g>\r\n   <g id=\"patch_14\">\r\n    <path d=\"M 1065.925 354.5 \r\nL 1065.925 289.8 \r\n\" style=\"fill:none;stroke:#000000;stroke-linecap:square;stroke-linejoin:miter;stroke-width:0.8;\"/>\r\n   </g>\r\n   <g id=\"patch_15\">\r\n    <path d=\"M 39.65 354.5 \r\nL 1065.925 354.5 \r\n\" style=\"fill:none;stroke:#000000;stroke-linecap:square;stroke-linejoin:miter;stroke-width:0.8;\"/>\r\n   </g>\r\n   <g id=\"patch_16\">\r\n    <path d=\"M 39.65 289.8 \r\nL 1065.925 289.8 \r\n\" style=\"fill:none;stroke:#000000;stroke-linecap:square;stroke-linejoin:miter;stroke-width:0.8;\"/>\r\n   </g>\r\n  </g>\r\n  <g id=\"axes_4\">\r\n   <g id=\"patch_17\">\r\n    <path d=\"M 39.65 495.8 \r\nL 1065.925 495.8 \r\nL 1065.925 431.1 \r\nL 39.65 431.1 \r\nz\r\n\" style=\"fill:#ffffff;\"/>\r\n   </g>\r\n   <g id=\"matplotlib.axis_7\">\r\n    <g id=\"xtick_145\">\r\n     <g id=\"line2d_156\">\r\n      <g>\r\n       <use style=\"stroke:#000000;stroke-width:0.8;\" x=\"39.65\" xlink:href=\"#me65d96bb64\" y=\"495.8\"/>\r\n      </g>\r\n     </g>\r\n    </g>\r\n    <g id=\"xtick_146\">\r\n     <g id=\"line2d_157\">\r\n      <g>\r\n       <use style=\"stroke:#000000;stroke-width:0.8;\" x=\"126.992553\" xlink:href=\"#me65d96bb64\" y=\"495.8\"/>\r\n      </g>\r\n     </g>\r\n     <g id=\"text_39\">\r\n      <!--  -->\r\n      <g transform=\"translate(126.992553 510.398438)scale(0.1 -0.1)\"/>\r\n      <!--  -->\r\n      <g transform=\"translate(126.992553 521.59625)scale(0.1 -0.1)\"/>\r\n      <!-- Apr -->\r\n      <g transform=\"translate(118.342553 532.794062)scale(0.1 -0.1)\">\r\n       <use xlink:href=\"#DejaVuSans-65\"/>\r\n       <use x=\"68.408203\" xlink:href=\"#DejaVuSans-112\"/>\r\n       <use x=\"131.884766\" xlink:href=\"#DejaVuSans-114\"/>\r\n      </g>\r\n      <!-- 2020 -->\r\n      <g transform=\"translate(114.267553 543.991875)scale(0.1 -0.1)\">\r\n       <use xlink:href=\"#DejaVuSans-50\"/>\r\n       <use x=\"63.623047\" xlink:href=\"#DejaVuSans-48\"/>\r\n       <use x=\"127.246094\" xlink:href=\"#DejaVuSans-50\"/>\r\n       <use x=\"190.869141\" xlink:href=\"#DejaVuSans-48\"/>\r\n      </g>\r\n     </g>\r\n    </g>\r\n    <g id=\"xtick_147\">\r\n     <g id=\"line2d_158\">\r\n      <g>\r\n       <use style=\"stroke:#000000;stroke-width:0.8;\" x=\"782.061702\" xlink:href=\"#me65d96bb64\" y=\"495.8\"/>\r\n      </g>\r\n     </g>\r\n     <g id=\"text_40\">\r\n      <!--  -->\r\n      <g transform=\"translate(782.061702 510.398438)scale(0.1 -0.1)\"/>\r\n      <!--  -->\r\n      <g transform=\"translate(782.061702 521.59625)scale(0.1 -0.1)\"/>\r\n      <!-- May -->\r\n      <g transform=\"translate(771.724202 532.794062)scale(0.1 -0.1)\">\r\n       <use xlink:href=\"#DejaVuSans-77\"/>\r\n       <use x=\"86.279297\" xlink:href=\"#DejaVuSans-97\"/>\r\n       <use x=\"147.558594\" xlink:href=\"#DejaVuSans-121\"/>\r\n      </g>\r\n     </g>\r\n    </g>\r\n    <g id=\"xtick_148\">\r\n     <g id=\"line2d_159\">\r\n      <g>\r\n       <use style=\"stroke:#000000;stroke-width:0.8;\" x=\"1065.925\" xlink:href=\"#me65d96bb64\" y=\"495.8\"/>\r\n      </g>\r\n     </g>\r\n    </g>\r\n    <g id=\"xtick_149\">\r\n     <g id=\"line2d_160\">\r\n      <g>\r\n       <use style=\"stroke:#000000;stroke-width:0.6;\" x=\"61.485638\" xlink:href=\"#m7cb0ea069d\" y=\"495.8\"/>\r\n      </g>\r\n     </g>\r\n    </g>\r\n    <g id=\"xtick_150\">\r\n     <g id=\"line2d_161\">\r\n      <g>\r\n       <use style=\"stroke:#000000;stroke-width:0.6;\" x=\"83.321277\" xlink:href=\"#m7cb0ea069d\" y=\"495.8\"/>\r\n      </g>\r\n     </g>\r\n     <g id=\"text_41\">\r\n      <!-- 30 -->\r\n      <g transform=\"translate(76.958777 508.798437)scale(0.1 -0.1)\">\r\n       <use xlink:href=\"#DejaVuSans-51\"/>\r\n       <use x=\"63.623047\" xlink:href=\"#DejaVuSans-48\"/>\r\n      </g>\r\n     </g>\r\n    </g>\r\n    <g id=\"xtick_151\">\r\n     <g id=\"line2d_162\">\r\n      <g>\r\n       <use style=\"stroke:#000000;stroke-width:0.6;\" x=\"105.156915\" xlink:href=\"#m7cb0ea069d\" y=\"495.8\"/>\r\n      </g>\r\n     </g>\r\n    </g>\r\n    <g id=\"xtick_152\">\r\n     <g id=\"line2d_163\">\r\n      <g>\r\n       <use style=\"stroke:#000000;stroke-width:0.6;\" x=\"148.828191\" xlink:href=\"#m7cb0ea069d\" y=\"495.8\"/>\r\n      </g>\r\n     </g>\r\n    </g>\r\n    <g id=\"xtick_153\">\r\n     <g id=\"line2d_164\">\r\n      <g>\r\n       <use style=\"stroke:#000000;stroke-width:0.6;\" x=\"170.66383\" xlink:href=\"#m7cb0ea069d\" y=\"495.8\"/>\r\n      </g>\r\n     </g>\r\n    </g>\r\n    <g id=\"xtick_154\">\r\n     <g id=\"line2d_165\">\r\n      <g>\r\n       <use style=\"stroke:#000000;stroke-width:0.6;\" x=\"192.499468\" xlink:href=\"#m7cb0ea069d\" y=\"495.8\"/>\r\n      </g>\r\n     </g>\r\n    </g>\r\n    <g id=\"xtick_155\">\r\n     <g id=\"line2d_166\">\r\n      <g>\r\n       <use style=\"stroke:#000000;stroke-width:0.6;\" x=\"214.335106\" xlink:href=\"#m7cb0ea069d\" y=\"495.8\"/>\r\n      </g>\r\n     </g>\r\n    </g>\r\n    <g id=\"xtick_156\">\r\n     <g id=\"line2d_167\">\r\n      <g>\r\n       <use style=\"stroke:#000000;stroke-width:0.6;\" x=\"236.170745\" xlink:href=\"#m7cb0ea069d\" y=\"495.8\"/>\r\n      </g>\r\n     </g>\r\n     <g id=\"text_42\">\r\n      <!-- 06 -->\r\n      <g transform=\"translate(229.808245 508.798437)scale(0.1 -0.1)\">\r\n       <use xlink:href=\"#DejaVuSans-48\"/>\r\n       <use x=\"63.623047\" xlink:href=\"#DejaVuSans-54\"/>\r\n      </g>\r\n     </g>\r\n    </g>\r\n    <g id=\"xtick_157\">\r\n     <g id=\"line2d_168\">\r\n      <g>\r\n       <use style=\"stroke:#000000;stroke-width:0.6;\" x=\"258.006383\" xlink:href=\"#m7cb0ea069d\" y=\"495.8\"/>\r\n      </g>\r\n     </g>\r\n    </g>\r\n    <g id=\"xtick_158\">\r\n     <g id=\"line2d_169\">\r\n      <g>\r\n       <use style=\"stroke:#000000;stroke-width:0.6;\" x=\"279.842021\" xlink:href=\"#m7cb0ea069d\" y=\"495.8\"/>\r\n      </g>\r\n     </g>\r\n    </g>\r\n    <g id=\"xtick_159\">\r\n     <g id=\"line2d_170\">\r\n      <g>\r\n       <use style=\"stroke:#000000;stroke-width:0.6;\" x=\"301.67766\" xlink:href=\"#m7cb0ea069d\" y=\"495.8\"/>\r\n      </g>\r\n     </g>\r\n    </g>\r\n    <g id=\"xtick_160\">\r\n     <g id=\"line2d_171\">\r\n      <g>\r\n       <use style=\"stroke:#000000;stroke-width:0.6;\" x=\"323.513298\" xlink:href=\"#m7cb0ea069d\" y=\"495.8\"/>\r\n      </g>\r\n     </g>\r\n    </g>\r\n    <g id=\"xtick_161\">\r\n     <g id=\"line2d_172\">\r\n      <g>\r\n       <use style=\"stroke:#000000;stroke-width:0.6;\" x=\"345.348936\" xlink:href=\"#m7cb0ea069d\" y=\"495.8\"/>\r\n      </g>\r\n     </g>\r\n    </g>\r\n    <g id=\"xtick_162\">\r\n     <g id=\"line2d_173\">\r\n      <g>\r\n       <use style=\"stroke:#000000;stroke-width:0.6;\" x=\"367.184574\" xlink:href=\"#m7cb0ea069d\" y=\"495.8\"/>\r\n      </g>\r\n     </g>\r\n    </g>\r\n    <g id=\"xtick_163\">\r\n     <g id=\"line2d_174\">\r\n      <g>\r\n       <use style=\"stroke:#000000;stroke-width:0.6;\" x=\"389.020213\" xlink:href=\"#m7cb0ea069d\" y=\"495.8\"/>\r\n      </g>\r\n     </g>\r\n     <g id=\"text_43\">\r\n      <!-- 13 -->\r\n      <g transform=\"translate(382.657713 508.798437)scale(0.1 -0.1)\">\r\n       <use xlink:href=\"#DejaVuSans-49\"/>\r\n       <use x=\"63.623047\" xlink:href=\"#DejaVuSans-51\"/>\r\n      </g>\r\n     </g>\r\n    </g>\r\n    <g id=\"xtick_164\">\r\n     <g id=\"line2d_175\">\r\n      <g>\r\n       <use style=\"stroke:#000000;stroke-width:0.6;\" x=\"410.855851\" xlink:href=\"#m7cb0ea069d\" y=\"495.8\"/>\r\n      </g>\r\n     </g>\r\n    </g>\r\n    <g id=\"xtick_165\">\r\n     <g id=\"line2d_176\">\r\n      <g>\r\n       <use style=\"stroke:#000000;stroke-width:0.6;\" x=\"432.691489\" xlink:href=\"#m7cb0ea069d\" y=\"495.8\"/>\r\n      </g>\r\n     </g>\r\n    </g>\r\n    <g id=\"xtick_166\">\r\n     <g id=\"line2d_177\">\r\n      <g>\r\n       <use style=\"stroke:#000000;stroke-width:0.6;\" x=\"454.527128\" xlink:href=\"#m7cb0ea069d\" y=\"495.8\"/>\r\n      </g>\r\n     </g>\r\n    </g>\r\n    <g id=\"xtick_167\">\r\n     <g id=\"line2d_178\">\r\n      <g>\r\n       <use style=\"stroke:#000000;stroke-width:0.6;\" x=\"476.362766\" xlink:href=\"#m7cb0ea069d\" y=\"495.8\"/>\r\n      </g>\r\n     </g>\r\n    </g>\r\n    <g id=\"xtick_168\">\r\n     <g id=\"line2d_179\">\r\n      <g>\r\n       <use style=\"stroke:#000000;stroke-width:0.6;\" x=\"498.198404\" xlink:href=\"#m7cb0ea069d\" y=\"495.8\"/>\r\n      </g>\r\n     </g>\r\n    </g>\r\n    <g id=\"xtick_169\">\r\n     <g id=\"line2d_180\">\r\n      <g>\r\n       <use style=\"stroke:#000000;stroke-width:0.6;\" x=\"520.034043\" xlink:href=\"#m7cb0ea069d\" y=\"495.8\"/>\r\n      </g>\r\n     </g>\r\n    </g>\r\n    <g id=\"xtick_170\">\r\n     <g id=\"line2d_181\">\r\n      <g>\r\n       <use style=\"stroke:#000000;stroke-width:0.6;\" x=\"541.869681\" xlink:href=\"#m7cb0ea069d\" y=\"495.8\"/>\r\n      </g>\r\n     </g>\r\n     <g id=\"text_44\">\r\n      <!-- 20 -->\r\n      <g transform=\"translate(535.507181 508.798437)scale(0.1 -0.1)\">\r\n       <use xlink:href=\"#DejaVuSans-50\"/>\r\n       <use x=\"63.623047\" xlink:href=\"#DejaVuSans-48\"/>\r\n      </g>\r\n     </g>\r\n    </g>\r\n    <g id=\"xtick_171\">\r\n     <g id=\"line2d_182\">\r\n      <g>\r\n       <use style=\"stroke:#000000;stroke-width:0.6;\" x=\"563.705319\" xlink:href=\"#m7cb0ea069d\" y=\"495.8\"/>\r\n      </g>\r\n     </g>\r\n    </g>\r\n    <g id=\"xtick_172\">\r\n     <g id=\"line2d_183\">\r\n      <g>\r\n       <use style=\"stroke:#000000;stroke-width:0.6;\" x=\"585.540957\" xlink:href=\"#m7cb0ea069d\" y=\"495.8\"/>\r\n      </g>\r\n     </g>\r\n    </g>\r\n    <g id=\"xtick_173\">\r\n     <g id=\"line2d_184\">\r\n      <g>\r\n       <use style=\"stroke:#000000;stroke-width:0.6;\" x=\"607.376596\" xlink:href=\"#m7cb0ea069d\" y=\"495.8\"/>\r\n      </g>\r\n     </g>\r\n    </g>\r\n    <g id=\"xtick_174\">\r\n     <g id=\"line2d_185\">\r\n      <g>\r\n       <use style=\"stroke:#000000;stroke-width:0.6;\" x=\"629.212234\" xlink:href=\"#m7cb0ea069d\" y=\"495.8\"/>\r\n      </g>\r\n     </g>\r\n    </g>\r\n    <g id=\"xtick_175\">\r\n     <g id=\"line2d_186\">\r\n      <g>\r\n       <use style=\"stroke:#000000;stroke-width:0.6;\" x=\"651.047872\" xlink:href=\"#m7cb0ea069d\" y=\"495.8\"/>\r\n      </g>\r\n     </g>\r\n    </g>\r\n    <g id=\"xtick_176\">\r\n     <g id=\"line2d_187\">\r\n      <g>\r\n       <use style=\"stroke:#000000;stroke-width:0.6;\" x=\"672.883511\" xlink:href=\"#m7cb0ea069d\" y=\"495.8\"/>\r\n      </g>\r\n     </g>\r\n    </g>\r\n    <g id=\"xtick_177\">\r\n     <g id=\"line2d_188\">\r\n      <g>\r\n       <use style=\"stroke:#000000;stroke-width:0.6;\" x=\"694.719149\" xlink:href=\"#m7cb0ea069d\" y=\"495.8\"/>\r\n      </g>\r\n     </g>\r\n     <g id=\"text_45\">\r\n      <!-- 27 -->\r\n      <g transform=\"translate(688.356649 508.798437)scale(0.1 -0.1)\">\r\n       <use xlink:href=\"#DejaVuSans-50\"/>\r\n       <use x=\"63.623047\" xlink:href=\"#DejaVuSans-55\"/>\r\n      </g>\r\n     </g>\r\n    </g>\r\n    <g id=\"xtick_178\">\r\n     <g id=\"line2d_189\">\r\n      <g>\r\n       <use style=\"stroke:#000000;stroke-width:0.6;\" x=\"716.554787\" xlink:href=\"#m7cb0ea069d\" y=\"495.8\"/>\r\n      </g>\r\n     </g>\r\n    </g>\r\n    <g id=\"xtick_179\">\r\n     <g id=\"line2d_190\">\r\n      <g>\r\n       <use style=\"stroke:#000000;stroke-width:0.6;\" x=\"738.390426\" xlink:href=\"#m7cb0ea069d\" y=\"495.8\"/>\r\n      </g>\r\n     </g>\r\n    </g>\r\n    <g id=\"xtick_180\">\r\n     <g id=\"line2d_191\">\r\n      <g>\r\n       <use style=\"stroke:#000000;stroke-width:0.6;\" x=\"760.226064\" xlink:href=\"#m7cb0ea069d\" y=\"495.8\"/>\r\n      </g>\r\n     </g>\r\n    </g>\r\n    <g id=\"xtick_181\">\r\n     <g id=\"line2d_192\">\r\n      <g>\r\n       <use style=\"stroke:#000000;stroke-width:0.6;\" x=\"803.89734\" xlink:href=\"#m7cb0ea069d\" y=\"495.8\"/>\r\n      </g>\r\n     </g>\r\n    </g>\r\n    <g id=\"xtick_182\">\r\n     <g id=\"line2d_193\">\r\n      <g>\r\n       <use style=\"stroke:#000000;stroke-width:0.6;\" x=\"825.732979\" xlink:href=\"#m7cb0ea069d\" y=\"495.8\"/>\r\n      </g>\r\n     </g>\r\n    </g>\r\n    <g id=\"xtick_183\">\r\n     <g id=\"line2d_194\">\r\n      <g>\r\n       <use style=\"stroke:#000000;stroke-width:0.6;\" x=\"847.568617\" xlink:href=\"#m7cb0ea069d\" y=\"495.8\"/>\r\n      </g>\r\n     </g>\r\n     <g id=\"text_46\">\r\n      <!-- 04 -->\r\n      <g transform=\"translate(841.206117 508.798437)scale(0.1 -0.1)\">\r\n       <use xlink:href=\"#DejaVuSans-48\"/>\r\n       <use x=\"63.623047\" xlink:href=\"#DejaVuSans-52\"/>\r\n      </g>\r\n     </g>\r\n    </g>\r\n    <g id=\"xtick_184\">\r\n     <g id=\"line2d_195\">\r\n      <g>\r\n       <use style=\"stroke:#000000;stroke-width:0.6;\" x=\"869.404255\" xlink:href=\"#m7cb0ea069d\" y=\"495.8\"/>\r\n      </g>\r\n     </g>\r\n    </g>\r\n    <g id=\"xtick_185\">\r\n     <g id=\"line2d_196\">\r\n      <g>\r\n       <use style=\"stroke:#000000;stroke-width:0.6;\" x=\"891.239894\" xlink:href=\"#m7cb0ea069d\" y=\"495.8\"/>\r\n      </g>\r\n     </g>\r\n    </g>\r\n    <g id=\"xtick_186\">\r\n     <g id=\"line2d_197\">\r\n      <g>\r\n       <use style=\"stroke:#000000;stroke-width:0.6;\" x=\"913.075532\" xlink:href=\"#m7cb0ea069d\" y=\"495.8\"/>\r\n      </g>\r\n     </g>\r\n    </g>\r\n    <g id=\"xtick_187\">\r\n     <g id=\"line2d_198\">\r\n      <g>\r\n       <use style=\"stroke:#000000;stroke-width:0.6;\" x=\"934.91117\" xlink:href=\"#m7cb0ea069d\" y=\"495.8\"/>\r\n      </g>\r\n     </g>\r\n    </g>\r\n    <g id=\"xtick_188\">\r\n     <g id=\"line2d_199\">\r\n      <g>\r\n       <use style=\"stroke:#000000;stroke-width:0.6;\" x=\"956.746809\" xlink:href=\"#m7cb0ea069d\" y=\"495.8\"/>\r\n      </g>\r\n     </g>\r\n    </g>\r\n    <g id=\"xtick_189\">\r\n     <g id=\"line2d_200\">\r\n      <g>\r\n       <use style=\"stroke:#000000;stroke-width:0.6;\" x=\"978.582447\" xlink:href=\"#m7cb0ea069d\" y=\"495.8\"/>\r\n      </g>\r\n     </g>\r\n    </g>\r\n    <g id=\"xtick_190\">\r\n     <g id=\"line2d_201\">\r\n      <g>\r\n       <use style=\"stroke:#000000;stroke-width:0.6;\" x=\"1000.418085\" xlink:href=\"#m7cb0ea069d\" y=\"495.8\"/>\r\n      </g>\r\n     </g>\r\n     <g id=\"text_47\">\r\n      <!-- 11 -->\r\n      <g transform=\"translate(994.055585 508.798437)scale(0.1 -0.1)\">\r\n       <use xlink:href=\"#DejaVuSans-49\"/>\r\n       <use x=\"63.623047\" xlink:href=\"#DejaVuSans-49\"/>\r\n      </g>\r\n     </g>\r\n    </g>\r\n    <g id=\"xtick_191\">\r\n     <g id=\"line2d_202\">\r\n      <g>\r\n       <use style=\"stroke:#000000;stroke-width:0.6;\" x=\"1022.253723\" xlink:href=\"#m7cb0ea069d\" y=\"495.8\"/>\r\n      </g>\r\n     </g>\r\n    </g>\r\n    <g id=\"xtick_192\">\r\n     <g id=\"line2d_203\">\r\n      <g>\r\n       <use style=\"stroke:#000000;stroke-width:0.6;\" x=\"1044.089362\" xlink:href=\"#m7cb0ea069d\" y=\"495.8\"/>\r\n      </g>\r\n     </g>\r\n    </g>\r\n    <g id=\"text_48\">\r\n     <!-- date -->\r\n     <g transform=\"translate(541.5125 557.67)scale(0.1 -0.1)\">\r\n      <use xlink:href=\"#DejaVuSans-100\"/>\r\n      <use x=\"63.476562\" xlink:href=\"#DejaVuSans-97\"/>\r\n      <use x=\"124.755859\" xlink:href=\"#DejaVuSans-116\"/>\r\n      <use x=\"163.964844\" xlink:href=\"#DejaVuSans-101\"/>\r\n     </g>\r\n    </g>\r\n   </g>\r\n   <g id=\"matplotlib.axis_8\">\r\n    <g id=\"ytick_9\">\r\n     <g id=\"line2d_204\">\r\n      <g>\r\n       <use style=\"stroke:#000000;stroke-width:0.8;\" x=\"39.65\" xlink:href=\"#md608515c24\" y=\"470.759052\"/>\r\n      </g>\r\n     </g>\r\n     <g id=\"text_49\">\r\n      <!-- 0 -->\r\n      <g transform=\"translate(26.2875 474.558271)scale(0.1 -0.1)\">\r\n       <use xlink:href=\"#DejaVuSans-48\"/>\r\n      </g>\r\n     </g>\r\n    </g>\r\n    <g id=\"ytick_10\">\r\n     <g id=\"line2d_205\">\r\n      <g>\r\n       <use style=\"stroke:#000000;stroke-width:0.8;\" x=\"39.65\" xlink:href=\"#md608515c24\" y=\"440.414332\"/>\r\n      </g>\r\n     </g>\r\n     <g id=\"text_50\">\r\n      <!-- 100 -->\r\n      <g transform=\"translate(13.5625 444.213551)scale(0.1 -0.1)\">\r\n       <use xlink:href=\"#DejaVuSans-49\"/>\r\n       <use x=\"63.623047\" xlink:href=\"#DejaVuSans-48\"/>\r\n       <use x=\"127.246094\" xlink:href=\"#DejaVuSans-48\"/>\r\n      </g>\r\n     </g>\r\n    </g>\r\n   </g>\r\n   <g id=\"line2d_206\">\r\n    <path clip-path=\"url(#p1187f512a6)\" d=\"M 105.156915 466.235212 \r\nL 126.992553 463.785959 \r\nL 148.828191 465.288746 \r\nL 170.66383 475.331403 \r\nL 192.499468 474.175413 \r\nL 214.335106 477.614482 \r\nL 236.170745 473.532394 \r\nL 258.006383 468.359342 \r\nL 279.842021 466.820431 \r\nL 301.67766 466.415835 \r\nL 323.513298 474.030915 \r\nL 345.348936 475.475901 \r\nL 367.184574 478.568173 \r\nL 389.020213 475.04963 \r\nL 410.855851 465.454919 \r\nL 432.691489 463.482512 \r\nL 454.527128 466.329136 \r\nL 476.362766 474.637809 \r\nL 498.198404 476.039446 \r\nL 520.034043 476.227295 \r\nL 541.869681 476.046671 \r\nL 563.705319 471.82731 \r\nL 585.540957 468.467716 \r\nL 607.376596 467.456226 \r\nL 629.212234 479.536314 \r\nL 651.047872 475.996097 \r\nL 672.883511 480.605604 \r\nL 694.719149 482.332363 \r\nL 716.554787 471.393814 \r\nL 738.390426 474.493311 \r\nL 760.226064 469.580356 \r\nL 782.061702 476.501842 \r\nL 803.89734 474.218763 \r\nL 825.732979 470.808595 \r\nL 847.568617 486.927421 \r\nL 869.404255 484.658792 \r\nL 891.239894 490.879459 \r\nL 913.075532 492.859091 \r\nL 934.91117 447.891106 \r\nL 956.746809 452.023768 \r\nL 978.582447 444.105241 \r\nL 1000.418085 434.040909 \r\n\" style=\"fill:none;stroke:#1f77b4;stroke-linecap:square;stroke-width:1.5;\"/>\r\n   </g>\r\n   <g id=\"patch_18\">\r\n    <path d=\"M 39.65 495.8 \r\nL 39.65 431.1 \r\n\" style=\"fill:none;stroke:#000000;stroke-linecap:square;stroke-linejoin:miter;stroke-width:0.8;\"/>\r\n   </g>\r\n   <g id=\"patch_19\">\r\n    <path d=\"M 1065.925 495.8 \r\nL 1065.925 431.1 \r\n\" style=\"fill:none;stroke:#000000;stroke-linecap:square;stroke-linejoin:miter;stroke-width:0.8;\"/>\r\n   </g>\r\n   <g id=\"patch_20\">\r\n    <path d=\"M 39.65 495.8 \r\nL 1065.925 495.8 \r\n\" style=\"fill:none;stroke:#000000;stroke-linecap:square;stroke-linejoin:miter;stroke-width:0.8;\"/>\r\n   </g>\r\n   <g id=\"patch_21\">\r\n    <path d=\"M 39.65 431.1 \r\nL 1065.925 431.1 \r\n\" style=\"fill:none;stroke:#000000;stroke-linecap:square;stroke-linejoin:miter;stroke-width:0.8;\"/>\r\n   </g>\r\n  </g>\r\n </g>\r\n <defs>\r\n  <clipPath id=\"p39c1343701\">\r\n   <rect height=\"64.7\" width=\"1026.275\" x=\"39.65\" y=\"7.2\"/>\r\n  </clipPath>\r\n  <clipPath id=\"p615c61ce77\">\r\n   <rect height=\"64.7\" width=\"1026.275\" x=\"39.65\" y=\"148.5\"/>\r\n  </clipPath>\r\n  <clipPath id=\"p2fb87b1c5c\">\r\n   <rect height=\"64.7\" width=\"1026.275\" x=\"39.65\" y=\"289.8\"/>\r\n  </clipPath>\r\n  <clipPath id=\"p1187f512a6\">\r\n   <rect height=\"64.7\" width=\"1026.275\" x=\"39.65\" y=\"431.1\"/>\r\n  </clipPath>\r\n </defs>\r\n</svg>\r\n",
      "image/png": "[encoded data removed]"
     },
     "metadata": {
      "needs_background": "light"
     }
    }
   ],
   "source": [
    "seasonplot = seasonal_decompose(df_paraiba)\n",
    "# plotar a decomposicao\n",
    "fig, (ax1, ax2, ax3, ax4) = plt.subplots(4, 1, figsize=(15,8))\n",
    "seasonplot.observed.plot(ax=ax1)\n",
    "seasonplot.trend.plot(ax=ax2)\n",
    "seasonplot.seasonal.plot(ax=ax3)\n",
    "seasonplot.resid.plot(ax=ax4)\n",
    "plt.tight_layout()"
   ]
  },
  {
   "cell_type": "code",
   "execution_count": 11,
   "metadata": {},
   "outputs": [
    {
     "output_type": "display_data",
     "data": {
      "text/plain": "<Figure size 1080x720 with 2 Axes>",
      "image/svg+xml": "<?xml version=\"1.0\" encoding=\"utf-8\" standalone=\"no\"?>\r\n<!DOCTYPE svg PUBLIC \"-//W3C//DTD SVG 1.1//EN\"\r\n  \"http://www.w3.org/Graphics/SVG/1.1/DTD/svg11.dtd\">\r\n<!-- Created with matplotlib (https://matplotlib.org/) -->\r\n<svg height=\"589.79625pt\" version=\"1.1\" viewBox=\"0 0 889.045313 589.79625\" width=\"889.045313pt\" xmlns=\"http://www.w3.org/2000/svg\" xmlns:xlink=\"http://www.w3.org/1999/xlink\">\r\n <defs>\r\n  <style type=\"text/css\">\r\n*{stroke-linecap:butt;stroke-linejoin:round;}\r\n  </style>\r\n </defs>\r\n <g id=\"figure_1\">\r\n  <g id=\"patch_1\">\r\n   <path d=\"M 0 589.79625 \r\nL 889.045313 589.79625 \r\nL 889.045313 0 \r\nL 0 0 \r\nz\r\n\" style=\"fill:none;\"/>\r\n  </g>\r\n  <g id=\"axes_1\">\r\n   <g id=\"patch_2\">\r\n    <path d=\"M 44.845313 269.409034 \r\nL 881.845312 269.409034 \r\nL 881.845312 22.318125 \r\nL 44.845313 22.318125 \r\nz\r\n\" style=\"fill:#ffffff;\"/>\r\n   </g>\r\n   <g id=\"PolyCollection_1\">\r\n    <path clip-path=\"url(#p059e624b80)\" d=\"M 92.284706 115.949735 \r\nL 92.284706 180.963284 \r\nL 120.466525 201.627273 \r\nL 139.254403 214.200534 \r\nL 158.042282 223.163816 \r\nL 176.830161 229.462474 \r\nL 195.61804 233.975449 \r\nL 214.405919 237.192221 \r\nL 233.193797 239.398418 \r\nL 251.981676 240.967014 \r\nL 270.769555 242.050874 \r\nL 289.557434 242.767899 \r\nL 308.345313 243.218173 \r\nL 327.133191 243.461602 \r\nL 345.92107 243.573264 \r\nL 364.708949 243.608255 \r\nL 383.496828 243.611204 \r\nL 402.284706 243.615065 \r\nL 421.072585 243.64482 \r\nL 439.860464 243.716421 \r\nL 458.648343 243.844807 \r\nL 477.436222 244.040796 \r\nL 496.2241 244.307164 \r\nL 515.011979 244.649328 \r\nL 533.799858 245.066859 \r\nL 552.587737 245.558576 \r\nL 571.375616 246.127422 \r\nL 590.163494 246.775373 \r\nL 608.951373 247.495229 \r\nL 627.739252 248.285999 \r\nL 646.527131 249.134836 \r\nL 665.315009 250.035479 \r\nL 684.102888 250.979957 \r\nL 702.890767 251.949678 \r\nL 721.678646 252.933651 \r\nL 740.466525 253.912203 \r\nL 759.254403 254.871505 \r\nL 778.042282 255.791336 \r\nL 796.830161 256.652908 \r\nL 815.61804 257.452271 \r\nL 843.799858 258.177629 \r\nL 843.799858 38.73539 \r\nL 843.799858 38.73539 \r\nL 815.61804 39.460748 \r\nL 796.830161 40.260111 \r\nL 778.042282 41.121683 \r\nL 759.254403 42.041514 \r\nL 740.466525 43.000816 \r\nL 721.678646 43.979368 \r\nL 702.890767 44.96334 \r\nL 684.102888 45.933062 \r\nL 665.315009 46.87754 \r\nL 646.527131 47.778183 \r\nL 627.739252 48.627019 \r\nL 608.951373 49.417789 \r\nL 590.163494 50.137646 \r\nL 571.375616 50.785597 \r\nL 552.587737 51.354442 \r\nL 533.799858 51.84616 \r\nL 515.011979 52.263691 \r\nL 496.2241 52.605855 \r\nL 477.436222 52.872223 \r\nL 458.648343 53.068211 \r\nL 439.860464 53.196598 \r\nL 421.072585 53.268199 \r\nL 402.284706 53.297954 \r\nL 383.496828 53.301815 \r\nL 364.708949 53.304764 \r\nL 345.92107 53.339755 \r\nL 327.133191 53.451417 \r\nL 308.345313 53.694845 \r\nL 289.557434 54.14512 \r\nL 270.769555 54.862144 \r\nL 251.981676 55.946004 \r\nL 233.193797 57.514601 \r\nL 214.405919 59.720797 \r\nL 195.61804 62.93757 \r\nL 176.830161 67.450545 \r\nL 158.042282 73.749203 \r\nL 139.254403 82.712485 \r\nL 120.466525 95.285746 \r\nL 92.284706 115.949735 \r\nz\r\n\" style=\"fill:#1f77b4;fill-opacity:0.25;\"/>\r\n   </g>\r\n   <g id=\"matplotlib.axis_1\">\r\n    <g id=\"xtick_1\">\r\n     <g id=\"line2d_1\">\r\n      <defs>\r\n       <path d=\"M 0 0 \r\nL 0 3.5 \r\n\" id=\"mc6c22a4945\" style=\"stroke:#000000;stroke-width:0.8;\"/>\r\n      </defs>\r\n      <g>\r\n       <use style=\"stroke:#000000;stroke-width:0.8;\" x=\"82.890767\" xlink:href=\"#mc6c22a4945\" y=\"269.409034\"/>\r\n      </g>\r\n     </g>\r\n     <g id=\"text_1\">\r\n      <!-- 0 -->\r\n      <defs>\r\n       <path d=\"M 31.78125 66.40625 \r\nQ 24.171875 66.40625 20.328125 58.90625 \r\nQ 16.5 51.421875 16.5 36.375 \r\nQ 16.5 21.390625 20.328125 13.890625 \r\nQ 24.171875 6.390625 31.78125 6.390625 \r\nQ 39.453125 6.390625 43.28125 13.890625 \r\nQ 47.125 21.390625 47.125 36.375 \r\nQ 47.125 51.421875 43.28125 58.90625 \r\nQ 39.453125 66.40625 31.78125 66.40625 \r\nz\r\nM 31.78125 74.21875 \r\nQ 44.046875 74.21875 50.515625 64.515625 \r\nQ 56.984375 54.828125 56.984375 36.375 \r\nQ 56.984375 17.96875 50.515625 8.265625 \r\nQ 44.046875 -1.421875 31.78125 -1.421875 \r\nQ 19.53125 -1.421875 13.0625 8.265625 \r\nQ 6.59375 17.96875 6.59375 36.375 \r\nQ 6.59375 54.828125 13.0625 64.515625 \r\nQ 19.53125 74.21875 31.78125 74.21875 \r\nz\r\n\" id=\"DejaVuSans-48\"/>\r\n      </defs>\r\n      <g transform=\"translate(79.709517 284.007472)scale(0.1 -0.1)\">\r\n       <use xlink:href=\"#DejaVuSans-48\"/>\r\n      </g>\r\n     </g>\r\n    </g>\r\n    <g id=\"xtick_2\">\r\n     <g id=\"line2d_2\">\r\n      <g>\r\n       <use style=\"stroke:#000000;stroke-width:0.8;\" x=\"176.830161\" xlink:href=\"#mc6c22a4945\" y=\"269.409034\"/>\r\n      </g>\r\n     </g>\r\n     <g id=\"text_2\">\r\n      <!-- 5 -->\r\n      <defs>\r\n       <path d=\"M 10.796875 72.90625 \r\nL 49.515625 72.90625 \r\nL 49.515625 64.59375 \r\nL 19.828125 64.59375 \r\nL 19.828125 46.734375 \r\nQ 21.96875 47.46875 24.109375 47.828125 \r\nQ 26.265625 48.1875 28.421875 48.1875 \r\nQ 40.625 48.1875 47.75 41.5 \r\nQ 54.890625 34.8125 54.890625 23.390625 \r\nQ 54.890625 11.625 47.5625 5.09375 \r\nQ 40.234375 -1.421875 26.90625 -1.421875 \r\nQ 22.3125 -1.421875 17.546875 -0.640625 \r\nQ 12.796875 0.140625 7.71875 1.703125 \r\nL 7.71875 11.625 \r\nQ 12.109375 9.234375 16.796875 8.0625 \r\nQ 21.484375 6.890625 26.703125 6.890625 \r\nQ 35.15625 6.890625 40.078125 11.328125 \r\nQ 45.015625 15.765625 45.015625 23.390625 \r\nQ 45.015625 31 40.078125 35.4375 \r\nQ 35.15625 39.890625 26.703125 39.890625 \r\nQ 22.75 39.890625 18.8125 39.015625 \r\nQ 14.890625 38.140625 10.796875 36.28125 \r\nz\r\n\" id=\"DejaVuSans-53\"/>\r\n      </defs>\r\n      <g transform=\"translate(173.648911 284.007472)scale(0.1 -0.1)\">\r\n       <use xlink:href=\"#DejaVuSans-53\"/>\r\n      </g>\r\n     </g>\r\n    </g>\r\n    <g id=\"xtick_3\">\r\n     <g id=\"line2d_3\">\r\n      <g>\r\n       <use style=\"stroke:#000000;stroke-width:0.8;\" x=\"270.769555\" xlink:href=\"#mc6c22a4945\" y=\"269.409034\"/>\r\n      </g>\r\n     </g>\r\n     <g id=\"text_3\">\r\n      <!-- 10 -->\r\n      <defs>\r\n       <path d=\"M 12.40625 8.296875 \r\nL 28.515625 8.296875 \r\nL 28.515625 63.921875 \r\nL 10.984375 60.40625 \r\nL 10.984375 69.390625 \r\nL 28.421875 72.90625 \r\nL 38.28125 72.90625 \r\nL 38.28125 8.296875 \r\nL 54.390625 8.296875 \r\nL 54.390625 0 \r\nL 12.40625 0 \r\nz\r\n\" id=\"DejaVuSans-49\"/>\r\n      </defs>\r\n      <g transform=\"translate(264.407055 284.007472)scale(0.1 -0.1)\">\r\n       <use xlink:href=\"#DejaVuSans-49\"/>\r\n       <use x=\"63.623047\" xlink:href=\"#DejaVuSans-48\"/>\r\n      </g>\r\n     </g>\r\n    </g>\r\n    <g id=\"xtick_4\">\r\n     <g id=\"line2d_4\">\r\n      <g>\r\n       <use style=\"stroke:#000000;stroke-width:0.8;\" x=\"364.708949\" xlink:href=\"#mc6c22a4945\" y=\"269.409034\"/>\r\n      </g>\r\n     </g>\r\n     <g id=\"text_4\">\r\n      <!-- 15 -->\r\n      <g transform=\"translate(358.346449 284.007472)scale(0.1 -0.1)\">\r\n       <use xlink:href=\"#DejaVuSans-49\"/>\r\n       <use x=\"63.623047\" xlink:href=\"#DejaVuSans-53\"/>\r\n      </g>\r\n     </g>\r\n    </g>\r\n    <g id=\"xtick_5\">\r\n     <g id=\"line2d_5\">\r\n      <g>\r\n       <use style=\"stroke:#000000;stroke-width:0.8;\" x=\"458.648343\" xlink:href=\"#mc6c22a4945\" y=\"269.409034\"/>\r\n      </g>\r\n     </g>\r\n     <g id=\"text_5\">\r\n      <!-- 20 -->\r\n      <defs>\r\n       <path d=\"M 19.1875 8.296875 \r\nL 53.609375 8.296875 \r\nL 53.609375 0 \r\nL 7.328125 0 \r\nL 7.328125 8.296875 \r\nQ 12.9375 14.109375 22.625 23.890625 \r\nQ 32.328125 33.6875 34.8125 36.53125 \r\nQ 39.546875 41.84375 41.421875 45.53125 \r\nQ 43.3125 49.21875 43.3125 52.78125 \r\nQ 43.3125 58.59375 39.234375 62.25 \r\nQ 35.15625 65.921875 28.609375 65.921875 \r\nQ 23.96875 65.921875 18.8125 64.3125 \r\nQ 13.671875 62.703125 7.8125 59.421875 \r\nL 7.8125 69.390625 \r\nQ 13.765625 71.78125 18.9375 73 \r\nQ 24.125 74.21875 28.421875 74.21875 \r\nQ 39.75 74.21875 46.484375 68.546875 \r\nQ 53.21875 62.890625 53.21875 53.421875 \r\nQ 53.21875 48.921875 51.53125 44.890625 \r\nQ 49.859375 40.875 45.40625 35.40625 \r\nQ 44.1875 33.984375 37.640625 27.21875 \r\nQ 31.109375 20.453125 19.1875 8.296875 \r\nz\r\n\" id=\"DejaVuSans-50\"/>\r\n      </defs>\r\n      <g transform=\"translate(452.285843 284.007472)scale(0.1 -0.1)\">\r\n       <use xlink:href=\"#DejaVuSans-50\"/>\r\n       <use x=\"63.623047\" xlink:href=\"#DejaVuSans-48\"/>\r\n      </g>\r\n     </g>\r\n    </g>\r\n    <g id=\"xtick_6\">\r\n     <g id=\"line2d_6\">\r\n      <g>\r\n       <use style=\"stroke:#000000;stroke-width:0.8;\" x=\"552.587737\" xlink:href=\"#mc6c22a4945\" y=\"269.409034\"/>\r\n      </g>\r\n     </g>\r\n     <g id=\"text_6\">\r\n      <!-- 25 -->\r\n      <g transform=\"translate(546.225237 284.007472)scale(0.1 -0.1)\">\r\n       <use xlink:href=\"#DejaVuSans-50\"/>\r\n       <use x=\"63.623047\" xlink:href=\"#DejaVuSans-53\"/>\r\n      </g>\r\n     </g>\r\n    </g>\r\n    <g id=\"xtick_7\">\r\n     <g id=\"line2d_7\">\r\n      <g>\r\n       <use style=\"stroke:#000000;stroke-width:0.8;\" x=\"646.527131\" xlink:href=\"#mc6c22a4945\" y=\"269.409034\"/>\r\n      </g>\r\n     </g>\r\n     <g id=\"text_7\">\r\n      <!-- 30 -->\r\n      <defs>\r\n       <path d=\"M 40.578125 39.3125 \r\nQ 47.65625 37.796875 51.625 33 \r\nQ 55.609375 28.21875 55.609375 21.1875 \r\nQ 55.609375 10.40625 48.1875 4.484375 \r\nQ 40.765625 -1.421875 27.09375 -1.421875 \r\nQ 22.515625 -1.421875 17.65625 -0.515625 \r\nQ 12.796875 0.390625 7.625 2.203125 \r\nL 7.625 11.71875 \r\nQ 11.71875 9.328125 16.59375 8.109375 \r\nQ 21.484375 6.890625 26.8125 6.890625 \r\nQ 36.078125 6.890625 40.9375 10.546875 \r\nQ 45.796875 14.203125 45.796875 21.1875 \r\nQ 45.796875 27.640625 41.28125 31.265625 \r\nQ 36.765625 34.90625 28.71875 34.90625 \r\nL 20.21875 34.90625 \r\nL 20.21875 43.015625 \r\nL 29.109375 43.015625 \r\nQ 36.375 43.015625 40.234375 45.921875 \r\nQ 44.09375 48.828125 44.09375 54.296875 \r\nQ 44.09375 59.90625 40.109375 62.90625 \r\nQ 36.140625 65.921875 28.71875 65.921875 \r\nQ 24.65625 65.921875 20.015625 65.03125 \r\nQ 15.375 64.15625 9.8125 62.3125 \r\nL 9.8125 71.09375 \r\nQ 15.4375 72.65625 20.34375 73.4375 \r\nQ 25.25 74.21875 29.59375 74.21875 \r\nQ 40.828125 74.21875 47.359375 69.109375 \r\nQ 53.90625 64.015625 53.90625 55.328125 \r\nQ 53.90625 49.265625 50.4375 45.09375 \r\nQ 46.96875 40.921875 40.578125 39.3125 \r\nz\r\n\" id=\"DejaVuSans-51\"/>\r\n      </defs>\r\n      <g transform=\"translate(640.164631 284.007472)scale(0.1 -0.1)\">\r\n       <use xlink:href=\"#DejaVuSans-51\"/>\r\n       <use x=\"63.623047\" xlink:href=\"#DejaVuSans-48\"/>\r\n      </g>\r\n     </g>\r\n    </g>\r\n    <g id=\"xtick_8\">\r\n     <g id=\"line2d_8\">\r\n      <g>\r\n       <use style=\"stroke:#000000;stroke-width:0.8;\" x=\"740.466525\" xlink:href=\"#mc6c22a4945\" y=\"269.409034\"/>\r\n      </g>\r\n     </g>\r\n     <g id=\"text_8\">\r\n      <!-- 35 -->\r\n      <g transform=\"translate(734.104025 284.007472)scale(0.1 -0.1)\">\r\n       <use xlink:href=\"#DejaVuSans-51\"/>\r\n       <use x=\"63.623047\" xlink:href=\"#DejaVuSans-53\"/>\r\n      </g>\r\n     </g>\r\n    </g>\r\n    <g id=\"xtick_9\">\r\n     <g id=\"line2d_9\">\r\n      <g>\r\n       <use style=\"stroke:#000000;stroke-width:0.8;\" x=\"834.405919\" xlink:href=\"#mc6c22a4945\" y=\"269.409034\"/>\r\n      </g>\r\n     </g>\r\n     <g id=\"text_9\">\r\n      <!-- 40 -->\r\n      <defs>\r\n       <path d=\"M 37.796875 64.3125 \r\nL 12.890625 25.390625 \r\nL 37.796875 25.390625 \r\nz\r\nM 35.203125 72.90625 \r\nL 47.609375 72.90625 \r\nL 47.609375 25.390625 \r\nL 58.015625 25.390625 \r\nL 58.015625 17.1875 \r\nL 47.609375 17.1875 \r\nL 47.609375 0 \r\nL 37.796875 0 \r\nL 37.796875 17.1875 \r\nL 4.890625 17.1875 \r\nL 4.890625 26.703125 \r\nz\r\n\" id=\"DejaVuSans-52\"/>\r\n      </defs>\r\n      <g transform=\"translate(828.043419 284.007472)scale(0.1 -0.1)\">\r\n       <use xlink:href=\"#DejaVuSans-52\"/>\r\n       <use x=\"63.623047\" xlink:href=\"#DejaVuSans-48\"/>\r\n      </g>\r\n     </g>\r\n    </g>\r\n   </g>\r\n   <g id=\"matplotlib.axis_2\">\r\n    <g id=\"ytick_1\">\r\n     <g id=\"line2d_10\">\r\n      <defs>\r\n       <path d=\"M 0 0 \r\nL -3.5 0 \r\n\" id=\"m24d27d9c95\" style=\"stroke:#000000;stroke-width:0.8;\"/>\r\n      </defs>\r\n      <g>\r\n       <use style=\"stroke:#000000;stroke-width:0.8;\" x=\"44.845313\" xlink:href=\"#m24d27d9c95\" y=\"263.363489\"/>\r\n      </g>\r\n     </g>\r\n     <g id=\"text_10\">\r\n      <!-- −1.00 -->\r\n      <defs>\r\n       <path d=\"M 10.59375 35.5 \r\nL 73.1875 35.5 \r\nL 73.1875 27.203125 \r\nL 10.59375 27.203125 \r\nz\r\n\" id=\"DejaVuSans-8722\"/>\r\n       <path d=\"M 10.6875 12.40625 \r\nL 21 12.40625 \r\nL 21 0 \r\nL 10.6875 0 \r\nz\r\n\" id=\"DejaVuSans-46\"/>\r\n      </defs>\r\n      <g transform=\"translate(7.2 267.162707)scale(0.1 -0.1)\">\r\n       <use xlink:href=\"#DejaVuSans-8722\"/>\r\n       <use x=\"83.789062\" xlink:href=\"#DejaVuSans-49\"/>\r\n       <use x=\"147.412109\" xlink:href=\"#DejaVuSans-46\"/>\r\n       <use x=\"179.199219\" xlink:href=\"#DejaVuSans-48\"/>\r\n       <use x=\"242.822266\" xlink:href=\"#DejaVuSans-48\"/>\r\n      </g>\r\n     </g>\r\n    </g>\r\n    <g id=\"ytick_2\">\r\n     <g id=\"line2d_11\">\r\n      <g>\r\n       <use style=\"stroke:#000000;stroke-width:0.8;\" x=\"44.845313\" xlink:href=\"#m24d27d9c95\" y=\"234.636744\"/>\r\n      </g>\r\n     </g>\r\n     <g id=\"text_11\">\r\n      <!-- −0.75 -->\r\n      <defs>\r\n       <path d=\"M 8.203125 72.90625 \r\nL 55.078125 72.90625 \r\nL 55.078125 68.703125 \r\nL 28.609375 0 \r\nL 18.3125 0 \r\nL 43.21875 64.59375 \r\nL 8.203125 64.59375 \r\nz\r\n\" id=\"DejaVuSans-55\"/>\r\n      </defs>\r\n      <g transform=\"translate(7.2 238.435963)scale(0.1 -0.1)\">\r\n       <use xlink:href=\"#DejaVuSans-8722\"/>\r\n       <use x=\"83.789062\" xlink:href=\"#DejaVuSans-48\"/>\r\n       <use x=\"147.412109\" xlink:href=\"#DejaVuSans-46\"/>\r\n       <use x=\"179.199219\" xlink:href=\"#DejaVuSans-55\"/>\r\n       <use x=\"242.822266\" xlink:href=\"#DejaVuSans-53\"/>\r\n      </g>\r\n     </g>\r\n    </g>\r\n    <g id=\"ytick_3\">\r\n     <g id=\"line2d_12\">\r\n      <g>\r\n       <use style=\"stroke:#000000;stroke-width:0.8;\" x=\"44.845313\" xlink:href=\"#m24d27d9c95\" y=\"205.909999\"/>\r\n      </g>\r\n     </g>\r\n     <g id=\"text_12\">\r\n      <!-- −0.50 -->\r\n      <g transform=\"translate(7.2 209.709218)scale(0.1 -0.1)\">\r\n       <use xlink:href=\"#DejaVuSans-8722\"/>\r\n       <use x=\"83.789062\" xlink:href=\"#DejaVuSans-48\"/>\r\n       <use x=\"147.412109\" xlink:href=\"#DejaVuSans-46\"/>\r\n       <use x=\"179.199219\" xlink:href=\"#DejaVuSans-53\"/>\r\n       <use x=\"242.822266\" xlink:href=\"#DejaVuSans-48\"/>\r\n      </g>\r\n     </g>\r\n    </g>\r\n    <g id=\"ytick_4\">\r\n     <g id=\"line2d_13\">\r\n      <g>\r\n       <use style=\"stroke:#000000;stroke-width:0.8;\" x=\"44.845313\" xlink:href=\"#m24d27d9c95\" y=\"177.183254\"/>\r\n      </g>\r\n     </g>\r\n     <g id=\"text_13\">\r\n      <!-- −0.25 -->\r\n      <g transform=\"translate(7.2 180.982473)scale(0.1 -0.1)\">\r\n       <use xlink:href=\"#DejaVuSans-8722\"/>\r\n       <use x=\"83.789062\" xlink:href=\"#DejaVuSans-48\"/>\r\n       <use x=\"147.412109\" xlink:href=\"#DejaVuSans-46\"/>\r\n       <use x=\"179.199219\" xlink:href=\"#DejaVuSans-50\"/>\r\n       <use x=\"242.822266\" xlink:href=\"#DejaVuSans-53\"/>\r\n      </g>\r\n     </g>\r\n    </g>\r\n    <g id=\"ytick_5\">\r\n     <g id=\"line2d_14\">\r\n      <g>\r\n       <use style=\"stroke:#000000;stroke-width:0.8;\" x=\"44.845313\" xlink:href=\"#m24d27d9c95\" y=\"148.456509\"/>\r\n      </g>\r\n     </g>\r\n     <g id=\"text_14\">\r\n      <!-- 0.00 -->\r\n      <g transform=\"translate(15.579688 152.255728)scale(0.1 -0.1)\">\r\n       <use xlink:href=\"#DejaVuSans-48\"/>\r\n       <use x=\"63.623047\" xlink:href=\"#DejaVuSans-46\"/>\r\n       <use x=\"95.410156\" xlink:href=\"#DejaVuSans-48\"/>\r\n       <use x=\"159.033203\" xlink:href=\"#DejaVuSans-48\"/>\r\n      </g>\r\n     </g>\r\n    </g>\r\n    <g id=\"ytick_6\">\r\n     <g id=\"line2d_15\">\r\n      <g>\r\n       <use style=\"stroke:#000000;stroke-width:0.8;\" x=\"44.845313\" xlink:href=\"#m24d27d9c95\" y=\"119.729764\"/>\r\n      </g>\r\n     </g>\r\n     <g id=\"text_15\">\r\n      <!-- 0.25 -->\r\n      <g transform=\"translate(15.579688 123.528983)scale(0.1 -0.1)\">\r\n       <use xlink:href=\"#DejaVuSans-48\"/>\r\n       <use x=\"63.623047\" xlink:href=\"#DejaVuSans-46\"/>\r\n       <use x=\"95.410156\" xlink:href=\"#DejaVuSans-50\"/>\r\n       <use x=\"159.033203\" xlink:href=\"#DejaVuSans-53\"/>\r\n      </g>\r\n     </g>\r\n    </g>\r\n    <g id=\"ytick_7\">\r\n     <g id=\"line2d_16\">\r\n      <g>\r\n       <use style=\"stroke:#000000;stroke-width:0.8;\" x=\"44.845313\" xlink:href=\"#m24d27d9c95\" y=\"91.00302\"/>\r\n      </g>\r\n     </g>\r\n     <g id=\"text_16\">\r\n      <!-- 0.50 -->\r\n      <g transform=\"translate(15.579688 94.802238)scale(0.1 -0.1)\">\r\n       <use xlink:href=\"#DejaVuSans-48\"/>\r\n       <use x=\"63.623047\" xlink:href=\"#DejaVuSans-46\"/>\r\n       <use x=\"95.410156\" xlink:href=\"#DejaVuSans-53\"/>\r\n       <use x=\"159.033203\" xlink:href=\"#DejaVuSans-48\"/>\r\n      </g>\r\n     </g>\r\n    </g>\r\n    <g id=\"ytick_8\">\r\n     <g id=\"line2d_17\">\r\n      <g>\r\n       <use style=\"stroke:#000000;stroke-width:0.8;\" x=\"44.845313\" xlink:href=\"#m24d27d9c95\" y=\"62.276275\"/>\r\n      </g>\r\n     </g>\r\n     <g id=\"text_17\">\r\n      <!-- 0.75 -->\r\n      <g transform=\"translate(15.579688 66.075494)scale(0.1 -0.1)\">\r\n       <use xlink:href=\"#DejaVuSans-48\"/>\r\n       <use x=\"63.623047\" xlink:href=\"#DejaVuSans-46\"/>\r\n       <use x=\"95.410156\" xlink:href=\"#DejaVuSans-55\"/>\r\n       <use x=\"159.033203\" xlink:href=\"#DejaVuSans-53\"/>\r\n      </g>\r\n     </g>\r\n    </g>\r\n    <g id=\"ytick_9\">\r\n     <g id=\"line2d_18\">\r\n      <g>\r\n       <use style=\"stroke:#000000;stroke-width:0.8;\" x=\"44.845313\" xlink:href=\"#m24d27d9c95\" y=\"33.54953\"/>\r\n      </g>\r\n     </g>\r\n     <g id=\"text_18\">\r\n      <!-- 1.00 -->\r\n      <g transform=\"translate(15.579688 37.348749)scale(0.1 -0.1)\">\r\n       <use xlink:href=\"#DejaVuSans-49\"/>\r\n       <use x=\"63.623047\" xlink:href=\"#DejaVuSans-46\"/>\r\n       <use x=\"95.410156\" xlink:href=\"#DejaVuSans-48\"/>\r\n       <use x=\"159.033203\" xlink:href=\"#DejaVuSans-48\"/>\r\n      </g>\r\n     </g>\r\n    </g>\r\n   </g>\r\n   <g id=\"LineCollection_1\">\r\n    <path clip-path=\"url(#p059e624b80)\" d=\"M 82.890767 148.456509 \r\nL 82.890767 33.54953 \r\n\" style=\"fill:none;stroke:#000000;stroke-width:1.5;\"/>\r\n    <path clip-path=\"url(#p059e624b80)\" d=\"M 101.678646 148.456509 \r\nL 101.678646 43.285002 \r\n\" style=\"fill:none;stroke:#000000;stroke-width:1.5;\"/>\r\n    <path clip-path=\"url(#p059e624b80)\" d=\"M 120.466525 148.456509 \r\nL 120.466525 51.80705 \r\n\" style=\"fill:none;stroke:#000000;stroke-width:1.5;\"/>\r\n    <path clip-path=\"url(#p059e624b80)\" d=\"M 139.254403 148.456509 \r\nL 139.254403 59.770729 \r\n\" style=\"fill:none;stroke:#000000;stroke-width:1.5;\"/>\r\n    <path clip-path=\"url(#p059e624b80)\" d=\"M 158.042282 148.456509 \r\nL 158.042282 70.177676 \r\n\" style=\"fill:none;stroke:#000000;stroke-width:1.5;\"/>\r\n    <path clip-path=\"url(#p059e624b80)\" d=\"M 176.830161 148.456509 \r\nL 176.830161 79.934737 \r\n\" style=\"fill:none;stroke:#000000;stroke-width:1.5;\"/>\r\n    <path clip-path=\"url(#p059e624b80)\" d=\"M 195.61804 148.456509 \r\nL 195.61804 89.278559 \r\n\" style=\"fill:none;stroke:#000000;stroke-width:1.5;\"/>\r\n    <path clip-path=\"url(#p059e624b80)\" d=\"M 214.405919 148.456509 \r\nL 214.405919 98.691213 \r\n\" style=\"fill:none;stroke:#000000;stroke-width:1.5;\"/>\r\n    <path clip-path=\"url(#p059e624b80)\" d=\"M 233.193797 148.456509 \r\nL 233.193797 106.055628 \r\n\" style=\"fill:none;stroke:#000000;stroke-width:1.5;\"/>\r\n    <path clip-path=\"url(#p059e624b80)\" d=\"M 251.981676 148.456509 \r\nL 251.981676 112.956951 \r\n\" style=\"fill:none;stroke:#000000;stroke-width:1.5;\"/>\r\n    <path clip-path=\"url(#p059e624b80)\" d=\"M 270.769555 148.456509 \r\nL 270.769555 119.443384 \r\n\" style=\"fill:none;stroke:#000000;stroke-width:1.5;\"/>\r\n    <path clip-path=\"url(#p059e624b80)\" d=\"M 289.557434 148.456509 \r\nL 289.557434 125.393752 \r\n\" style=\"fill:none;stroke:#000000;stroke-width:1.5;\"/>\r\n    <path clip-path=\"url(#p059e624b80)\" d=\"M 308.345313 148.456509 \r\nL 308.345313 131.468082 \r\n\" style=\"fill:none;stroke:#000000;stroke-width:1.5;\"/>\r\n    <path clip-path=\"url(#p059e624b80)\" d=\"M 327.133191 148.456509 \r\nL 327.133191 136.939853 \r\n\" style=\"fill:none;stroke:#000000;stroke-width:1.5;\"/>\r\n    <path clip-path=\"url(#p059e624b80)\" d=\"M 345.92107 148.456509 \r\nL 345.92107 142.007095 \r\n\" style=\"fill:none;stroke:#000000;stroke-width:1.5;\"/>\r\n    <path clip-path=\"url(#p059e624b80)\" d=\"M 364.708949 148.456509 \r\nL 364.708949 146.584 \r\n\" style=\"fill:none;stroke:#000000;stroke-width:1.5;\"/>\r\n    <path clip-path=\"url(#p059e624b80)\" d=\"M 383.496828 148.456509 \r\nL 383.496828 150.598959 \r\n\" style=\"fill:none;stroke:#000000;stroke-width:1.5;\"/>\r\n    <path clip-path=\"url(#p059e624b80)\" d=\"M 402.284706 148.456509 \r\nL 402.284706 154.405057 \r\n\" style=\"fill:none;stroke:#000000;stroke-width:1.5;\"/>\r\n    <path clip-path=\"url(#p059e624b80)\" d=\"M 421.072585 148.456509 \r\nL 421.072585 157.686599 \r\n\" style=\"fill:none;stroke:#000000;stroke-width:1.5;\"/>\r\n    <path clip-path=\"url(#p059e624b80)\" d=\"M 439.860464 148.456509 \r\nL 439.860464 160.822639 \r\n\" style=\"fill:none;stroke:#000000;stroke-width:1.5;\"/>\r\n    <path clip-path=\"url(#p059e624b80)\" d=\"M 458.648343 148.456509 \r\nL 458.648343 163.748294 \r\n\" style=\"fill:none;stroke:#000000;stroke-width:1.5;\"/>\r\n    <path clip-path=\"url(#p059e624b80)\" d=\"M 477.436222 148.456509 \r\nL 477.436222 166.305327 \r\n\" style=\"fill:none;stroke:#000000;stroke-width:1.5;\"/>\r\n    <path clip-path=\"url(#p059e624b80)\" d=\"M 496.2241 148.456509 \r\nL 496.2241 168.718136 \r\n\" style=\"fill:none;stroke:#000000;stroke-width:1.5;\"/>\r\n    <path clip-path=\"url(#p059e624b80)\" d=\"M 515.011979 148.456509 \r\nL 515.011979 170.882883 \r\n\" style=\"fill:none;stroke:#000000;stroke-width:1.5;\"/>\r\n    <path clip-path=\"url(#p059e624b80)\" d=\"M 533.799858 148.456509 \r\nL 533.799858 172.85113 \r\n\" style=\"fill:none;stroke:#000000;stroke-width:1.5;\"/>\r\n    <path clip-path=\"url(#p059e624b80)\" d=\"M 552.587737 148.456509 \r\nL 552.587737 174.766395 \r\n\" style=\"fill:none;stroke:#000000;stroke-width:1.5;\"/>\r\n    <path clip-path=\"url(#p059e624b80)\" d=\"M 571.375616 148.456509 \r\nL 571.375616 176.623824 \r\n\" style=\"fill:none;stroke:#000000;stroke-width:1.5;\"/>\r\n    <path clip-path=\"url(#p059e624b80)\" d=\"M 590.163494 148.456509 \r\nL 590.163494 178.249038 \r\n\" style=\"fill:none;stroke:#000000;stroke-width:1.5;\"/>\r\n    <path clip-path=\"url(#p059e624b80)\" d=\"M 608.951373 148.456509 \r\nL 608.951373 179.801292 \r\n\" style=\"fill:none;stroke:#000000;stroke-width:1.5;\"/>\r\n    <path clip-path=\"url(#p059e624b80)\" d=\"M 627.739252 148.456509 \r\nL 627.739252 181.065342 \r\n\" style=\"fill:none;stroke:#000000;stroke-width:1.5;\"/>\r\n    <path clip-path=\"url(#p059e624b80)\" d=\"M 646.527131 148.456509 \r\nL 646.527131 182.191914 \r\n\" style=\"fill:none;stroke:#000000;stroke-width:1.5;\"/>\r\n    <path clip-path=\"url(#p059e624b80)\" d=\"M 665.315009 148.456509 \r\nL 665.315009 183.160345 \r\n\" style=\"fill:none;stroke:#000000;stroke-width:1.5;\"/>\r\n    <path clip-path=\"url(#p059e624b80)\" d=\"M 684.102888 148.456509 \r\nL 684.102888 183.785578 \r\n\" style=\"fill:none;stroke:#000000;stroke-width:1.5;\"/>\r\n    <path clip-path=\"url(#p059e624b80)\" d=\"M 702.890767 148.456509 \r\nL 702.890767 184.212571 \r\n\" style=\"fill:none;stroke:#000000;stroke-width:1.5;\"/>\r\n    <path clip-path=\"url(#p059e624b80)\" d=\"M 721.678646 148.456509 \r\nL 721.678646 184.281794 \r\n\" style=\"fill:none;stroke:#000000;stroke-width:1.5;\"/>\r\n    <path clip-path=\"url(#p059e624b80)\" d=\"M 740.466525 148.456509 \r\nL 740.466525 184.09101 \r\n\" style=\"fill:none;stroke:#000000;stroke-width:1.5;\"/>\r\n    <path clip-path=\"url(#p059e624b80)\" d=\"M 759.254403 148.456509 \r\nL 759.254403 183.504608 \r\n\" style=\"fill:none;stroke:#000000;stroke-width:1.5;\"/>\r\n    <path clip-path=\"url(#p059e624b80)\" d=\"M 778.042282 148.456509 \r\nL 778.042282 182.517592 \r\n\" style=\"fill:none;stroke:#000000;stroke-width:1.5;\"/>\r\n    <path clip-path=\"url(#p059e624b80)\" d=\"M 796.830161 148.456509 \r\nL 796.830161 181.39105 \r\n\" style=\"fill:none;stroke:#000000;stroke-width:1.5;\"/>\r\n    <path clip-path=\"url(#p059e624b80)\" d=\"M 815.61804 148.456509 \r\nL 815.61804 179.939423 \r\n\" style=\"fill:none;stroke:#000000;stroke-width:1.5;\"/>\r\n    <path clip-path=\"url(#p059e624b80)\" d=\"M 834.405919 148.456509 \r\nL 834.405919 178.179082 \r\n\" style=\"fill:none;stroke:#000000;stroke-width:1.5;\"/>\r\n   </g>\r\n   <g id=\"line2d_19\">\r\n    <path clip-path=\"url(#p059e624b80)\" d=\"M 44.845313 148.456509 \r\nL 881.845312 148.456509 \r\n\" style=\"fill:none;stroke:#1f77b4;stroke-linecap:square;stroke-width:1.5;\"/>\r\n   </g>\r\n   <g id=\"line2d_20\">\r\n    <defs>\r\n     <path d=\"M 0 2.5 \r\nC 0.663008 2.5 1.29895 2.236584 1.767767 1.767767 \r\nC 2.236584 1.29895 2.5 0.663008 2.5 0 \r\nC 2.5 -0.663008 2.236584 -1.29895 1.767767 -1.767767 \r\nC 1.29895 -2.236584 0.663008 -2.5 0 -2.5 \r\nC -0.663008 -2.5 -1.29895 -2.236584 -1.767767 -1.767767 \r\nC -2.236584 -1.29895 -2.5 -0.663008 -2.5 0 \r\nC -2.5 0.663008 -2.236584 1.29895 -1.767767 1.767767 \r\nC -1.29895 2.236584 -0.663008 2.5 0 2.5 \r\nz\r\n\" id=\"m4df2be992f\" style=\"stroke:#1f77b4;\"/>\r\n    </defs>\r\n    <g clip-path=\"url(#p059e624b80)\">\r\n     <use style=\"fill:#1f77b4;stroke:#1f77b4;\" x=\"82.890767\" xlink:href=\"#m4df2be992f\" y=\"33.54953\"/>\r\n     <use style=\"fill:#1f77b4;stroke:#1f77b4;\" x=\"101.678646\" xlink:href=\"#m4df2be992f\" y=\"43.285002\"/>\r\n     <use style=\"fill:#1f77b4;stroke:#1f77b4;\" x=\"120.466525\" xlink:href=\"#m4df2be992f\" y=\"51.80705\"/>\r\n     <use style=\"fill:#1f77b4;stroke:#1f77b4;\" x=\"139.254403\" xlink:href=\"#m4df2be992f\" y=\"59.770729\"/>\r\n     <use style=\"fill:#1f77b4;stroke:#1f77b4;\" x=\"158.042282\" xlink:href=\"#m4df2be992f\" y=\"70.177676\"/>\r\n     <use style=\"fill:#1f77b4;stroke:#1f77b4;\" x=\"176.830161\" xlink:href=\"#m4df2be992f\" y=\"79.934737\"/>\r\n     <use style=\"fill:#1f77b4;stroke:#1f77b4;\" x=\"195.61804\" xlink:href=\"#m4df2be992f\" y=\"89.278559\"/>\r\n     <use style=\"fill:#1f77b4;stroke:#1f77b4;\" x=\"214.405919\" xlink:href=\"#m4df2be992f\" y=\"98.691213\"/>\r\n     <use style=\"fill:#1f77b4;stroke:#1f77b4;\" x=\"233.193797\" xlink:href=\"#m4df2be992f\" y=\"106.055628\"/>\r\n     <use style=\"fill:#1f77b4;stroke:#1f77b4;\" x=\"251.981676\" xlink:href=\"#m4df2be992f\" y=\"112.956951\"/>\r\n     <use style=\"fill:#1f77b4;stroke:#1f77b4;\" x=\"270.769555\" xlink:href=\"#m4df2be992f\" y=\"119.443384\"/>\r\n     <use style=\"fill:#1f77b4;stroke:#1f77b4;\" x=\"289.557434\" xlink:href=\"#m4df2be992f\" y=\"125.393752\"/>\r\n     <use style=\"fill:#1f77b4;stroke:#1f77b4;\" x=\"308.345313\" xlink:href=\"#m4df2be992f\" y=\"131.468082\"/>\r\n     <use style=\"fill:#1f77b4;stroke:#1f77b4;\" x=\"327.133191\" xlink:href=\"#m4df2be992f\" y=\"136.939853\"/>\r\n     <use style=\"fill:#1f77b4;stroke:#1f77b4;\" x=\"345.92107\" xlink:href=\"#m4df2be992f\" y=\"142.007095\"/>\r\n     <use style=\"fill:#1f77b4;stroke:#1f77b4;\" x=\"364.708949\" xlink:href=\"#m4df2be992f\" y=\"146.584\"/>\r\n     <use style=\"fill:#1f77b4;stroke:#1f77b4;\" x=\"383.496828\" xlink:href=\"#m4df2be992f\" y=\"150.598959\"/>\r\n     <use style=\"fill:#1f77b4;stroke:#1f77b4;\" x=\"402.284706\" xlink:href=\"#m4df2be992f\" y=\"154.405057\"/>\r\n     <use style=\"fill:#1f77b4;stroke:#1f77b4;\" x=\"421.072585\" xlink:href=\"#m4df2be992f\" y=\"157.686599\"/>\r\n     <use style=\"fill:#1f77b4;stroke:#1f77b4;\" x=\"439.860464\" xlink:href=\"#m4df2be992f\" y=\"160.822639\"/>\r\n     <use style=\"fill:#1f77b4;stroke:#1f77b4;\" x=\"458.648343\" xlink:href=\"#m4df2be992f\" y=\"163.748294\"/>\r\n     <use style=\"fill:#1f77b4;stroke:#1f77b4;\" x=\"477.436222\" xlink:href=\"#m4df2be992f\" y=\"166.305327\"/>\r\n     <use style=\"fill:#1f77b4;stroke:#1f77b4;\" x=\"496.2241\" xlink:href=\"#m4df2be992f\" y=\"168.718136\"/>\r\n     <use style=\"fill:#1f77b4;stroke:#1f77b4;\" x=\"515.011979\" xlink:href=\"#m4df2be992f\" y=\"170.882883\"/>\r\n     <use style=\"fill:#1f77b4;stroke:#1f77b4;\" x=\"533.799858\" xlink:href=\"#m4df2be992f\" y=\"172.85113\"/>\r\n     <use style=\"fill:#1f77b4;stroke:#1f77b4;\" x=\"552.587737\" xlink:href=\"#m4df2be992f\" y=\"174.766395\"/>\r\n     <use style=\"fill:#1f77b4;stroke:#1f77b4;\" x=\"571.375616\" xlink:href=\"#m4df2be992f\" y=\"176.623824\"/>\r\n     <use style=\"fill:#1f77b4;stroke:#1f77b4;\" x=\"590.163494\" xlink:href=\"#m4df2be992f\" y=\"178.249038\"/>\r\n     <use style=\"fill:#1f77b4;stroke:#1f77b4;\" x=\"608.951373\" xlink:href=\"#m4df2be992f\" y=\"179.801292\"/>\r\n     <use style=\"fill:#1f77b4;stroke:#1f77b4;\" x=\"627.739252\" xlink:href=\"#m4df2be992f\" y=\"181.065342\"/>\r\n     <use style=\"fill:#1f77b4;stroke:#1f77b4;\" x=\"646.527131\" xlink:href=\"#m4df2be992f\" y=\"182.191914\"/>\r\n     <use style=\"fill:#1f77b4;stroke:#1f77b4;\" x=\"665.315009\" xlink:href=\"#m4df2be992f\" y=\"183.160345\"/>\r\n     <use style=\"fill:#1f77b4;stroke:#1f77b4;\" x=\"684.102888\" xlink:href=\"#m4df2be992f\" y=\"183.785578\"/>\r\n     <use style=\"fill:#1f77b4;stroke:#1f77b4;\" x=\"702.890767\" xlink:href=\"#m4df2be992f\" y=\"184.212571\"/>\r\n     <use style=\"fill:#1f77b4;stroke:#1f77b4;\" x=\"721.678646\" xlink:href=\"#m4df2be992f\" y=\"184.281794\"/>\r\n     <use style=\"fill:#1f77b4;stroke:#1f77b4;\" x=\"740.466525\" xlink:href=\"#m4df2be992f\" y=\"184.09101\"/>\r\n     <use style=\"fill:#1f77b4;stroke:#1f77b4;\" x=\"759.254403\" xlink:href=\"#m4df2be992f\" y=\"183.504608\"/>\r\n     <use style=\"fill:#1f77b4;stroke:#1f77b4;\" x=\"778.042282\" xlink:href=\"#m4df2be992f\" y=\"182.517592\"/>\r\n     <use style=\"fill:#1f77b4;stroke:#1f77b4;\" x=\"796.830161\" xlink:href=\"#m4df2be992f\" y=\"181.39105\"/>\r\n     <use style=\"fill:#1f77b4;stroke:#1f77b4;\" x=\"815.61804\" xlink:href=\"#m4df2be992f\" y=\"179.939423\"/>\r\n     <use style=\"fill:#1f77b4;stroke:#1f77b4;\" x=\"834.405919\" xlink:href=\"#m4df2be992f\" y=\"178.179082\"/>\r\n    </g>\r\n   </g>\r\n   <g id=\"patch_3\">\r\n    <path d=\"M 44.845313 269.409034 \r\nL 44.845313 22.318125 \r\n\" style=\"fill:none;stroke:#000000;stroke-linecap:square;stroke-linejoin:miter;stroke-width:0.8;\"/>\r\n   </g>\r\n   <g id=\"patch_4\">\r\n    <path d=\"M 881.845312 269.409034 \r\nL 881.845312 22.318125 \r\n\" style=\"fill:none;stroke:#000000;stroke-linecap:square;stroke-linejoin:miter;stroke-width:0.8;\"/>\r\n   </g>\r\n   <g id=\"patch_5\">\r\n    <path d=\"M 44.845313 269.409034 \r\nL 881.845313 269.409034 \r\n\" style=\"fill:none;stroke:#000000;stroke-linecap:square;stroke-linejoin:miter;stroke-width:0.8;\"/>\r\n   </g>\r\n   <g id=\"patch_6\">\r\n    <path d=\"M 44.845313 22.318125 \r\nL 881.845313 22.318125 \r\n\" style=\"fill:none;stroke:#000000;stroke-linecap:square;stroke-linejoin:miter;stroke-width:0.8;\"/>\r\n   </g>\r\n   <g id=\"text_19\">\r\n    <!-- Autocorrelation -->\r\n    <defs>\r\n     <path d=\"M 34.1875 63.1875 \r\nL 20.796875 26.90625 \r\nL 47.609375 26.90625 \r\nz\r\nM 28.609375 72.90625 \r\nL 39.796875 72.90625 \r\nL 67.578125 0 \r\nL 57.328125 0 \r\nL 50.6875 18.703125 \r\nL 17.828125 18.703125 \r\nL 11.1875 0 \r\nL 0.78125 0 \r\nz\r\n\" id=\"DejaVuSans-65\"/>\r\n     <path d=\"M 8.5 21.578125 \r\nL 8.5 54.6875 \r\nL 17.484375 54.6875 \r\nL 17.484375 21.921875 \r\nQ 17.484375 14.15625 20.5 10.265625 \r\nQ 23.53125 6.390625 29.59375 6.390625 \r\nQ 36.859375 6.390625 41.078125 11.03125 \r\nQ 45.3125 15.671875 45.3125 23.6875 \r\nL 45.3125 54.6875 \r\nL 54.296875 54.6875 \r\nL 54.296875 0 \r\nL 45.3125 0 \r\nL 45.3125 8.40625 \r\nQ 42.046875 3.421875 37.71875 1 \r\nQ 33.40625 -1.421875 27.6875 -1.421875 \r\nQ 18.265625 -1.421875 13.375 4.4375 \r\nQ 8.5 10.296875 8.5 21.578125 \r\nz\r\nM 31.109375 56 \r\nz\r\n\" id=\"DejaVuSans-117\"/>\r\n     <path d=\"M 18.3125 70.21875 \r\nL 18.3125 54.6875 \r\nL 36.8125 54.6875 \r\nL 36.8125 47.703125 \r\nL 18.3125 47.703125 \r\nL 18.3125 18.015625 \r\nQ 18.3125 11.328125 20.140625 9.421875 \r\nQ 21.96875 7.515625 27.59375 7.515625 \r\nL 36.8125 7.515625 \r\nL 36.8125 0 \r\nL 27.59375 0 \r\nQ 17.1875 0 13.234375 3.875 \r\nQ 9.28125 7.765625 9.28125 18.015625 \r\nL 9.28125 47.703125 \r\nL 2.6875 47.703125 \r\nL 2.6875 54.6875 \r\nL 9.28125 54.6875 \r\nL 9.28125 70.21875 \r\nz\r\n\" id=\"DejaVuSans-116\"/>\r\n     <path d=\"M 30.609375 48.390625 \r\nQ 23.390625 48.390625 19.1875 42.75 \r\nQ 14.984375 37.109375 14.984375 27.296875 \r\nQ 14.984375 17.484375 19.15625 11.84375 \r\nQ 23.34375 6.203125 30.609375 6.203125 \r\nQ 37.796875 6.203125 41.984375 11.859375 \r\nQ 46.1875 17.53125 46.1875 27.296875 \r\nQ 46.1875 37.015625 41.984375 42.703125 \r\nQ 37.796875 48.390625 30.609375 48.390625 \r\nz\r\nM 30.609375 56 \r\nQ 42.328125 56 49.015625 48.375 \r\nQ 55.71875 40.765625 55.71875 27.296875 \r\nQ 55.71875 13.875 49.015625 6.21875 \r\nQ 42.328125 -1.421875 30.609375 -1.421875 \r\nQ 18.84375 -1.421875 12.171875 6.21875 \r\nQ 5.515625 13.875 5.515625 27.296875 \r\nQ 5.515625 40.765625 12.171875 48.375 \r\nQ 18.84375 56 30.609375 56 \r\nz\r\n\" id=\"DejaVuSans-111\"/>\r\n     <path d=\"M 48.78125 52.59375 \r\nL 48.78125 44.1875 \r\nQ 44.96875 46.296875 41.140625 47.34375 \r\nQ 37.3125 48.390625 33.40625 48.390625 \r\nQ 24.65625 48.390625 19.8125 42.84375 \r\nQ 14.984375 37.3125 14.984375 27.296875 \r\nQ 14.984375 17.28125 19.8125 11.734375 \r\nQ 24.65625 6.203125 33.40625 6.203125 \r\nQ 37.3125 6.203125 41.140625 7.25 \r\nQ 44.96875 8.296875 48.78125 10.40625 \r\nL 48.78125 2.09375 \r\nQ 45.015625 0.34375 40.984375 -0.53125 \r\nQ 36.96875 -1.421875 32.421875 -1.421875 \r\nQ 20.0625 -1.421875 12.78125 6.34375 \r\nQ 5.515625 14.109375 5.515625 27.296875 \r\nQ 5.515625 40.671875 12.859375 48.328125 \r\nQ 20.21875 56 33.015625 56 \r\nQ 37.15625 56 41.109375 55.140625 \r\nQ 45.0625 54.296875 48.78125 52.59375 \r\nz\r\n\" id=\"DejaVuSans-99\"/>\r\n     <path d=\"M 41.109375 46.296875 \r\nQ 39.59375 47.171875 37.8125 47.578125 \r\nQ 36.03125 48 33.890625 48 \r\nQ 26.265625 48 22.1875 43.046875 \r\nQ 18.109375 38.09375 18.109375 28.8125 \r\nL 18.109375 0 \r\nL 9.078125 0 \r\nL 9.078125 54.6875 \r\nL 18.109375 54.6875 \r\nL 18.109375 46.1875 \r\nQ 20.953125 51.171875 25.484375 53.578125 \r\nQ 30.03125 56 36.53125 56 \r\nQ 37.453125 56 38.578125 55.875 \r\nQ 39.703125 55.765625 41.0625 55.515625 \r\nz\r\n\" id=\"DejaVuSans-114\"/>\r\n     <path d=\"M 56.203125 29.59375 \r\nL 56.203125 25.203125 \r\nL 14.890625 25.203125 \r\nQ 15.484375 15.921875 20.484375 11.0625 \r\nQ 25.484375 6.203125 34.421875 6.203125 \r\nQ 39.59375 6.203125 44.453125 7.46875 \r\nQ 49.3125 8.734375 54.109375 11.28125 \r\nL 54.109375 2.78125 \r\nQ 49.265625 0.734375 44.1875 -0.34375 \r\nQ 39.109375 -1.421875 33.890625 -1.421875 \r\nQ 20.796875 -1.421875 13.15625 6.1875 \r\nQ 5.515625 13.8125 5.515625 26.8125 \r\nQ 5.515625 40.234375 12.765625 48.109375 \r\nQ 20.015625 56 32.328125 56 \r\nQ 43.359375 56 49.78125 48.890625 \r\nQ 56.203125 41.796875 56.203125 29.59375 \r\nz\r\nM 47.21875 32.234375 \r\nQ 47.125 39.59375 43.09375 43.984375 \r\nQ 39.0625 48.390625 32.421875 48.390625 \r\nQ 24.90625 48.390625 20.390625 44.140625 \r\nQ 15.875 39.890625 15.1875 32.171875 \r\nz\r\n\" id=\"DejaVuSans-101\"/>\r\n     <path d=\"M 9.421875 75.984375 \r\nL 18.40625 75.984375 \r\nL 18.40625 0 \r\nL 9.421875 0 \r\nz\r\n\" id=\"DejaVuSans-108\"/>\r\n     <path d=\"M 34.28125 27.484375 \r\nQ 23.390625 27.484375 19.1875 25 \r\nQ 14.984375 22.515625 14.984375 16.5 \r\nQ 14.984375 11.71875 18.140625 8.90625 \r\nQ 21.296875 6.109375 26.703125 6.109375 \r\nQ 34.1875 6.109375 38.703125 11.40625 \r\nQ 43.21875 16.703125 43.21875 25.484375 \r\nL 43.21875 27.484375 \r\nz\r\nM 52.203125 31.203125 \r\nL 52.203125 0 \r\nL 43.21875 0 \r\nL 43.21875 8.296875 \r\nQ 40.140625 3.328125 35.546875 0.953125 \r\nQ 30.953125 -1.421875 24.3125 -1.421875 \r\nQ 15.921875 -1.421875 10.953125 3.296875 \r\nQ 6 8.015625 6 15.921875 \r\nQ 6 25.140625 12.171875 29.828125 \r\nQ 18.359375 34.515625 30.609375 34.515625 \r\nL 43.21875 34.515625 \r\nL 43.21875 35.40625 \r\nQ 43.21875 41.609375 39.140625 45 \r\nQ 35.0625 48.390625 27.6875 48.390625 \r\nQ 23 48.390625 18.546875 47.265625 \r\nQ 14.109375 46.140625 10.015625 43.890625 \r\nL 10.015625 52.203125 \r\nQ 14.9375 54.109375 19.578125 55.046875 \r\nQ 24.21875 56 28.609375 56 \r\nQ 40.484375 56 46.34375 49.84375 \r\nQ 52.203125 43.703125 52.203125 31.203125 \r\nz\r\n\" id=\"DejaVuSans-97\"/>\r\n     <path d=\"M 9.421875 54.6875 \r\nL 18.40625 54.6875 \r\nL 18.40625 0 \r\nL 9.421875 0 \r\nz\r\nM 9.421875 75.984375 \r\nL 18.40625 75.984375 \r\nL 18.40625 64.59375 \r\nL 9.421875 64.59375 \r\nz\r\n\" id=\"DejaVuSans-105\"/>\r\n     <path d=\"M 54.890625 33.015625 \r\nL 54.890625 0 \r\nL 45.90625 0 \r\nL 45.90625 32.71875 \r\nQ 45.90625 40.484375 42.875 44.328125 \r\nQ 39.84375 48.1875 33.796875 48.1875 \r\nQ 26.515625 48.1875 22.3125 43.546875 \r\nQ 18.109375 38.921875 18.109375 30.90625 \r\nL 18.109375 0 \r\nL 9.078125 0 \r\nL 9.078125 54.6875 \r\nL 18.109375 54.6875 \r\nL 18.109375 46.1875 \r\nQ 21.34375 51.125 25.703125 53.5625 \r\nQ 30.078125 56 35.796875 56 \r\nQ 45.21875 56 50.046875 50.171875 \r\nQ 54.890625 44.34375 54.890625 33.015625 \r\nz\r\n\" id=\"DejaVuSans-110\"/>\r\n    </defs>\r\n    <g transform=\"translate(416.985937 16.318125)scale(0.12 -0.12)\">\r\n     <use xlink:href=\"#DejaVuSans-65\"/>\r\n     <use x=\"68.408203\" xlink:href=\"#DejaVuSans-117\"/>\r\n     <use x=\"131.787109\" xlink:href=\"#DejaVuSans-116\"/>\r\n     <use x=\"170.996094\" xlink:href=\"#DejaVuSans-111\"/>\r\n     <use x=\"232.177734\" xlink:href=\"#DejaVuSans-99\"/>\r\n     <use x=\"287.158203\" xlink:href=\"#DejaVuSans-111\"/>\r\n     <use x=\"348.339844\" xlink:href=\"#DejaVuSans-114\"/>\r\n     <use x=\"389.4375\" xlink:href=\"#DejaVuSans-114\"/>\r\n     <use x=\"430.519531\" xlink:href=\"#DejaVuSans-101\"/>\r\n     <use x=\"492.042969\" xlink:href=\"#DejaVuSans-108\"/>\r\n     <use x=\"519.826172\" xlink:href=\"#DejaVuSans-97\"/>\r\n     <use x=\"581.105469\" xlink:href=\"#DejaVuSans-116\"/>\r\n     <use x=\"620.314453\" xlink:href=\"#DejaVuSans-105\"/>\r\n     <use x=\"648.097656\" xlink:href=\"#DejaVuSans-111\"/>\r\n     <use x=\"709.279297\" xlink:href=\"#DejaVuSans-110\"/>\r\n    </g>\r\n   </g>\r\n  </g>\r\n  <g id=\"axes_2\">\r\n   <g id=\"patch_7\">\r\n    <path d=\"M 44.845313 565.918125 \r\nL 881.845312 565.918125 \r\nL 881.845312 318.827216 \r\nL 44.845313 318.827216 \r\nz\r\n\" style=\"fill:#ffffff;\"/>\r\n   </g>\r\n   <g id=\"PolyCollection_2\">\r\n    <path clip-path=\"url(#p6fce4f1a16)\" d=\"M 92.284706 496.936076 \r\nL 92.284706 518.142952 \r\nL 120.466525 518.142952 \r\nL 139.254403 518.142952 \r\nL 158.042282 518.142952 \r\nL 176.830161 518.142952 \r\nL 195.61804 518.142952 \r\nL 214.405919 518.142952 \r\nL 233.193797 518.142952 \r\nL 251.981676 518.142952 \r\nL 270.769555 518.142952 \r\nL 289.557434 518.142952 \r\nL 308.345313 518.142952 \r\nL 327.133191 518.142952 \r\nL 345.92107 518.142952 \r\nL 364.708949 518.142952 \r\nL 383.496828 518.142952 \r\nL 402.284706 518.142952 \r\nL 421.072585 518.142952 \r\nL 439.860464 518.142952 \r\nL 458.648343 518.142952 \r\nL 477.436222 518.142952 \r\nL 496.2241 518.142952 \r\nL 515.011979 518.142952 \r\nL 533.799858 518.142952 \r\nL 552.587737 518.142952 \r\nL 571.375616 518.142952 \r\nL 590.163494 518.142952 \r\nL 608.951373 518.142952 \r\nL 627.739252 518.142952 \r\nL 646.527131 518.142952 \r\nL 665.315009 518.142952 \r\nL 684.102888 518.142952 \r\nL 702.890767 518.142952 \r\nL 721.678646 518.142952 \r\nL 740.466525 518.142952 \r\nL 759.254403 518.142952 \r\nL 778.042282 518.142952 \r\nL 796.830161 518.142952 \r\nL 815.61804 518.142952 \r\nL 843.799858 518.142952 \r\nL 843.799858 496.936076 \r\nL 843.799858 496.936076 \r\nL 815.61804 496.936076 \r\nL 796.830161 496.936076 \r\nL 778.042282 496.936076 \r\nL 759.254403 496.936076 \r\nL 740.466525 496.936076 \r\nL 721.678646 496.936076 \r\nL 702.890767 496.936076 \r\nL 684.102888 496.936076 \r\nL 665.315009 496.936076 \r\nL 646.527131 496.936076 \r\nL 627.739252 496.936076 \r\nL 608.951373 496.936076 \r\nL 590.163494 496.936076 \r\nL 571.375616 496.936076 \r\nL 552.587737 496.936076 \r\nL 533.799858 496.936076 \r\nL 515.011979 496.936076 \r\nL 496.2241 496.936076 \r\nL 477.436222 496.936076 \r\nL 458.648343 496.936076 \r\nL 439.860464 496.936076 \r\nL 421.072585 496.936076 \r\nL 402.284706 496.936076 \r\nL 383.496828 496.936076 \r\nL 364.708949 496.936076 \r\nL 345.92107 496.936076 \r\nL 327.133191 496.936076 \r\nL 308.345313 496.936076 \r\nL 289.557434 496.936076 \r\nL 270.769555 496.936076 \r\nL 251.981676 496.936076 \r\nL 233.193797 496.936076 \r\nL 214.405919 496.936076 \r\nL 195.61804 496.936076 \r\nL 176.830161 496.936076 \r\nL 158.042282 496.936076 \r\nL 139.254403 496.936076 \r\nL 120.466525 496.936076 \r\nL 92.284706 496.936076 \r\nz\r\n\" style=\"fill:#1f77b4;fill-opacity:0.25;\"/>\r\n   </g>\r\n   <g id=\"matplotlib.axis_3\">\r\n    <g id=\"xtick_10\">\r\n     <g id=\"line2d_21\">\r\n      <g>\r\n       <use style=\"stroke:#000000;stroke-width:0.8;\" x=\"82.890767\" xlink:href=\"#mc6c22a4945\" y=\"565.918125\"/>\r\n      </g>\r\n     </g>\r\n     <g id=\"text_20\">\r\n      <!-- 0 -->\r\n      <g transform=\"translate(79.709517 580.516562)scale(0.1 -0.1)\">\r\n       <use xlink:href=\"#DejaVuSans-48\"/>\r\n      </g>\r\n     </g>\r\n    </g>\r\n    <g id=\"xtick_11\">\r\n     <g id=\"line2d_22\">\r\n      <g>\r\n       <use style=\"stroke:#000000;stroke-width:0.8;\" x=\"176.830161\" xlink:href=\"#mc6c22a4945\" y=\"565.918125\"/>\r\n      </g>\r\n     </g>\r\n     <g id=\"text_21\">\r\n      <!-- 5 -->\r\n      <g transform=\"translate(173.648911 580.516562)scale(0.1 -0.1)\">\r\n       <use xlink:href=\"#DejaVuSans-53\"/>\r\n      </g>\r\n     </g>\r\n    </g>\r\n    <g id=\"xtick_12\">\r\n     <g id=\"line2d_23\">\r\n      <g>\r\n       <use style=\"stroke:#000000;stroke-width:0.8;\" x=\"270.769555\" xlink:href=\"#mc6c22a4945\" y=\"565.918125\"/>\r\n      </g>\r\n     </g>\r\n     <g id=\"text_22\">\r\n      <!-- 10 -->\r\n      <g transform=\"translate(264.407055 580.516562)scale(0.1 -0.1)\">\r\n       <use xlink:href=\"#DejaVuSans-49\"/>\r\n       <use x=\"63.623047\" xlink:href=\"#DejaVuSans-48\"/>\r\n      </g>\r\n     </g>\r\n    </g>\r\n    <g id=\"xtick_13\">\r\n     <g id=\"line2d_24\">\r\n      <g>\r\n       <use style=\"stroke:#000000;stroke-width:0.8;\" x=\"364.708949\" xlink:href=\"#mc6c22a4945\" y=\"565.918125\"/>\r\n      </g>\r\n     </g>\r\n     <g id=\"text_23\">\r\n      <!-- 15 -->\r\n      <g transform=\"translate(358.346449 580.516562)scale(0.1 -0.1)\">\r\n       <use xlink:href=\"#DejaVuSans-49\"/>\r\n       <use x=\"63.623047\" xlink:href=\"#DejaVuSans-53\"/>\r\n      </g>\r\n     </g>\r\n    </g>\r\n    <g id=\"xtick_14\">\r\n     <g id=\"line2d_25\">\r\n      <g>\r\n       <use style=\"stroke:#000000;stroke-width:0.8;\" x=\"458.648343\" xlink:href=\"#mc6c22a4945\" y=\"565.918125\"/>\r\n      </g>\r\n     </g>\r\n     <g id=\"text_24\">\r\n      <!-- 20 -->\r\n      <g transform=\"translate(452.285843 580.516562)scale(0.1 -0.1)\">\r\n       <use xlink:href=\"#DejaVuSans-50\"/>\r\n       <use x=\"63.623047\" xlink:href=\"#DejaVuSans-48\"/>\r\n      </g>\r\n     </g>\r\n    </g>\r\n    <g id=\"xtick_15\">\r\n     <g id=\"line2d_26\">\r\n      <g>\r\n       <use style=\"stroke:#000000;stroke-width:0.8;\" x=\"552.587737\" xlink:href=\"#mc6c22a4945\" y=\"565.918125\"/>\r\n      </g>\r\n     </g>\r\n     <g id=\"text_25\">\r\n      <!-- 25 -->\r\n      <g transform=\"translate(546.225237 580.516562)scale(0.1 -0.1)\">\r\n       <use xlink:href=\"#DejaVuSans-50\"/>\r\n       <use x=\"63.623047\" xlink:href=\"#DejaVuSans-53\"/>\r\n      </g>\r\n     </g>\r\n    </g>\r\n    <g id=\"xtick_16\">\r\n     <g id=\"line2d_27\">\r\n      <g>\r\n       <use style=\"stroke:#000000;stroke-width:0.8;\" x=\"646.527131\" xlink:href=\"#mc6c22a4945\" y=\"565.918125\"/>\r\n      </g>\r\n     </g>\r\n     <g id=\"text_26\">\r\n      <!-- 30 -->\r\n      <g transform=\"translate(640.164631 580.516562)scale(0.1 -0.1)\">\r\n       <use xlink:href=\"#DejaVuSans-51\"/>\r\n       <use x=\"63.623047\" xlink:href=\"#DejaVuSans-48\"/>\r\n      </g>\r\n     </g>\r\n    </g>\r\n    <g id=\"xtick_17\">\r\n     <g id=\"line2d_28\">\r\n      <g>\r\n       <use style=\"stroke:#000000;stroke-width:0.8;\" x=\"740.466525\" xlink:href=\"#mc6c22a4945\" y=\"565.918125\"/>\r\n      </g>\r\n     </g>\r\n     <g id=\"text_27\">\r\n      <!-- 35 -->\r\n      <g transform=\"translate(734.104025 580.516562)scale(0.1 -0.1)\">\r\n       <use xlink:href=\"#DejaVuSans-51\"/>\r\n       <use x=\"63.623047\" xlink:href=\"#DejaVuSans-53\"/>\r\n      </g>\r\n     </g>\r\n    </g>\r\n    <g id=\"xtick_18\">\r\n     <g id=\"line2d_29\">\r\n      <g>\r\n       <use style=\"stroke:#000000;stroke-width:0.8;\" x=\"834.405919\" xlink:href=\"#mc6c22a4945\" y=\"565.918125\"/>\r\n      </g>\r\n     </g>\r\n     <g id=\"text_28\">\r\n      <!-- 40 -->\r\n      <g transform=\"translate(828.043419 580.516562)scale(0.1 -0.1)\">\r\n       <use xlink:href=\"#DejaVuSans-52\"/>\r\n       <use x=\"63.623047\" xlink:href=\"#DejaVuSans-48\"/>\r\n      </g>\r\n     </g>\r\n    </g>\r\n   </g>\r\n   <g id=\"matplotlib.axis_4\">\r\n    <g id=\"ytick_10\">\r\n     <g id=\"line2d_30\">\r\n      <g>\r\n       <use style=\"stroke:#000000;stroke-width:0.8;\" x=\"44.845313\" xlink:href=\"#m24d27d9c95\" y=\"545.021211\"/>\r\n      </g>\r\n     </g>\r\n     <g id=\"text_29\">\r\n      <!-- −1 -->\r\n      <g transform=\"translate(23.103125 548.820429)scale(0.1 -0.1)\">\r\n       <use xlink:href=\"#DejaVuSans-8722\"/>\r\n       <use x=\"83.789062\" xlink:href=\"#DejaVuSans-49\"/>\r\n      </g>\r\n     </g>\r\n    </g>\r\n    <g id=\"ytick_11\">\r\n     <g id=\"line2d_31\">\r\n      <g>\r\n       <use style=\"stroke:#000000;stroke-width:0.8;\" x=\"44.845313\" xlink:href=\"#m24d27d9c95\" y=\"507.539514\"/>\r\n      </g>\r\n     </g>\r\n     <g id=\"text_30\">\r\n      <!-- 0 -->\r\n      <g transform=\"translate(31.482813 511.338733)scale(0.1 -0.1)\">\r\n       <use xlink:href=\"#DejaVuSans-48\"/>\r\n      </g>\r\n     </g>\r\n    </g>\r\n    <g id=\"ytick_12\">\r\n     <g id=\"line2d_32\">\r\n      <g>\r\n       <use style=\"stroke:#000000;stroke-width:0.8;\" x=\"44.845313\" xlink:href=\"#m24d27d9c95\" y=\"470.057818\"/>\r\n      </g>\r\n     </g>\r\n     <g id=\"text_31\">\r\n      <!-- 1 -->\r\n      <g transform=\"translate(31.482813 473.857037)scale(0.1 -0.1)\">\r\n       <use xlink:href=\"#DejaVuSans-49\"/>\r\n      </g>\r\n     </g>\r\n    </g>\r\n    <g id=\"ytick_13\">\r\n     <g id=\"line2d_33\">\r\n      <g>\r\n       <use style=\"stroke:#000000;stroke-width:0.8;\" x=\"44.845313\" xlink:href=\"#m24d27d9c95\" y=\"432.576121\"/>\r\n      </g>\r\n     </g>\r\n     <g id=\"text_32\">\r\n      <!-- 2 -->\r\n      <g transform=\"translate(31.482813 436.37534)scale(0.1 -0.1)\">\r\n       <use xlink:href=\"#DejaVuSans-50\"/>\r\n      </g>\r\n     </g>\r\n    </g>\r\n    <g id=\"ytick_14\">\r\n     <g id=\"line2d_34\">\r\n      <g>\r\n       <use style=\"stroke:#000000;stroke-width:0.8;\" x=\"44.845313\" xlink:href=\"#m24d27d9c95\" y=\"395.094425\"/>\r\n      </g>\r\n     </g>\r\n     <g id=\"text_33\">\r\n      <!-- 3 -->\r\n      <g transform=\"translate(31.482813 398.893644)scale(0.1 -0.1)\">\r\n       <use xlink:href=\"#DejaVuSans-51\"/>\r\n      </g>\r\n     </g>\r\n    </g>\r\n    <g id=\"ytick_15\">\r\n     <g id=\"line2d_35\">\r\n      <g>\r\n       <use style=\"stroke:#000000;stroke-width:0.8;\" x=\"44.845313\" xlink:href=\"#m24d27d9c95\" y=\"357.612728\"/>\r\n      </g>\r\n     </g>\r\n     <g id=\"text_34\">\r\n      <!-- 4 -->\r\n      <g transform=\"translate(31.482813 361.411947)scale(0.1 -0.1)\">\r\n       <use xlink:href=\"#DejaVuSans-52\"/>\r\n      </g>\r\n     </g>\r\n    </g>\r\n    <g id=\"ytick_16\">\r\n     <g id=\"line2d_36\">\r\n      <g>\r\n       <use style=\"stroke:#000000;stroke-width:0.8;\" x=\"44.845313\" xlink:href=\"#m24d27d9c95\" y=\"320.131032\"/>\r\n      </g>\r\n     </g>\r\n     <g id=\"text_35\">\r\n      <!-- 5 -->\r\n      <g transform=\"translate(31.482813 323.930251)scale(0.1 -0.1)\">\r\n       <use xlink:href=\"#DejaVuSans-53\"/>\r\n      </g>\r\n     </g>\r\n    </g>\r\n   </g>\r\n   <g id=\"LineCollection_2\">\r\n    <path clip-path=\"url(#p6fce4f1a16)\" d=\"M 82.890767 507.539514 \r\nL 82.890767 470.057818 \r\n\" style=\"fill:none;stroke:#000000;stroke-width:1.5;\"/>\r\n    <path clip-path=\"url(#p6fce4f1a16)\" d=\"M 101.678646 507.539514 \r\nL 101.678646 472.503531 \r\n\" style=\"fill:none;stroke:#000000;stroke-width:1.5;\"/>\r\n    <path clip-path=\"url(#p6fce4f1a16)\" d=\"M 120.466525 507.539514 \r\nL 120.466525 506.374331 \r\n\" style=\"fill:none;stroke:#000000;stroke-width:1.5;\"/>\r\n    <path clip-path=\"url(#p6fce4f1a16)\" d=\"M 139.254403 507.539514 \r\nL 139.254403 507.749557 \r\n\" style=\"fill:none;stroke:#000000;stroke-width:1.5;\"/>\r\n    <path clip-path=\"url(#p6fce4f1a16)\" d=\"M 158.042282 507.539514 \r\nL 158.042282 516.186308 \r\n\" style=\"fill:none;stroke:#000000;stroke-width:1.5;\"/>\r\n    <path clip-path=\"url(#p6fce4f1a16)\" d=\"M 176.830161 507.539514 \r\nL 176.830161 509.447853 \r\n\" style=\"fill:none;stroke:#000000;stroke-width:1.5;\"/>\r\n    <path clip-path=\"url(#p6fce4f1a16)\" d=\"M 195.61804 507.539514 \r\nL 195.61804 509.478517 \r\n\" style=\"fill:none;stroke:#000000;stroke-width:1.5;\"/>\r\n    <path clip-path=\"url(#p6fce4f1a16)\" d=\"M 214.405919 507.539514 \r\nL 214.405919 509.316618 \r\n\" style=\"fill:none;stroke:#000000;stroke-width:1.5;\"/>\r\n    <path clip-path=\"url(#p6fce4f1a16)\" d=\"M 233.193797 507.539514 \r\nL 233.193797 504.310051 \r\n\" style=\"fill:none;stroke:#000000;stroke-width:1.5;\"/>\r\n    <path clip-path=\"url(#p6fce4f1a16)\" d=\"M 251.981676 507.539514 \r\nL 251.981676 508.011921 \r\n\" style=\"fill:none;stroke:#000000;stroke-width:1.5;\"/>\r\n    <path clip-path=\"url(#p6fce4f1a16)\" d=\"M 270.769555 507.539514 \r\nL 270.769555 508.281823 \r\n\" style=\"fill:none;stroke:#000000;stroke-width:1.5;\"/>\r\n    <path clip-path=\"url(#p6fce4f1a16)\" d=\"M 289.557434 507.539514 \r\nL 289.557434 510.289652 \r\n\" style=\"fill:none;stroke:#000000;stroke-width:1.5;\"/>\r\n    <path clip-path=\"url(#p6fce4f1a16)\" d=\"M 308.345313 507.539514 \r\nL 308.345313 511.224401 \r\n\" style=\"fill:none;stroke:#000000;stroke-width:1.5;\"/>\r\n    <path clip-path=\"url(#p6fce4f1a16)\" d=\"M 327.133191 507.539514 \r\nL 327.133191 508.95997 \r\n\" style=\"fill:none;stroke:#000000;stroke-width:1.5;\"/>\r\n    <path clip-path=\"url(#p6fce4f1a16)\" d=\"M 345.92107 507.539514 \r\nL 345.92107 509.179666 \r\n\" style=\"fill:none;stroke:#000000;stroke-width:1.5;\"/>\r\n    <path clip-path=\"url(#p6fce4f1a16)\" d=\"M 364.708949 507.539514 \r\nL 364.708949 507.369875 \r\n\" style=\"fill:none;stroke:#000000;stroke-width:1.5;\"/>\r\n    <path clip-path=\"url(#p6fce4f1a16)\" d=\"M 383.496828 507.539514 \r\nL 383.496828 508.185997 \r\n\" style=\"fill:none;stroke:#000000;stroke-width:1.5;\"/>\r\n    <path clip-path=\"url(#p6fce4f1a16)\" d=\"M 402.284706 507.539514 \r\nL 402.284706 509.499991 \r\n\" style=\"fill:none;stroke:#000000;stroke-width:1.5;\"/>\r\n    <path clip-path=\"url(#p6fce4f1a16)\" d=\"M 421.072585 507.539514 \r\nL 421.072585 509.053074 \r\n\" style=\"fill:none;stroke:#000000;stroke-width:1.5;\"/>\r\n    <path clip-path=\"url(#p6fce4f1a16)\" d=\"M 439.860464 507.539514 \r\nL 439.860464 511.075927 \r\n\" style=\"fill:none;stroke:#000000;stroke-width:1.5;\"/>\r\n    <path clip-path=\"url(#p6fce4f1a16)\" d=\"M 458.648343 507.539514 \r\nL 458.648343 510.125788 \r\n\" style=\"fill:none;stroke:#000000;stroke-width:1.5;\"/>\r\n    <path clip-path=\"url(#p6fce4f1a16)\" d=\"M 477.436222 507.539514 \r\nL 477.436222 509.897768 \r\n\" style=\"fill:none;stroke:#000000;stroke-width:1.5;\"/>\r\n    <path clip-path=\"url(#p6fce4f1a16)\" d=\"M 496.2241 507.539514 \r\nL 496.2241 509.93814 \r\n\" style=\"fill:none;stroke:#000000;stroke-width:1.5;\"/>\r\n    <path clip-path=\"url(#p6fce4f1a16)\" d=\"M 515.011979 507.539514 \r\nL 515.011979 509.820957 \r\n\" style=\"fill:none;stroke:#000000;stroke-width:1.5;\"/>\r\n    <path clip-path=\"url(#p6fce4f1a16)\" d=\"M 533.799858 507.539514 \r\nL 533.799858 511.032349 \r\n\" style=\"fill:none;stroke:#000000;stroke-width:1.5;\"/>\r\n    <path clip-path=\"url(#p6fce4f1a16)\" d=\"M 552.587737 507.539514 \r\nL 552.587737 511.890527 \r\n\" style=\"fill:none;stroke:#000000;stroke-width:1.5;\"/>\r\n    <path clip-path=\"url(#p6fce4f1a16)\" d=\"M 571.375616 507.539514 \r\nL 571.375616 513.480543 \r\n\" style=\"fill:none;stroke:#000000;stroke-width:1.5;\"/>\r\n    <path clip-path=\"url(#p6fce4f1a16)\" d=\"M 590.163494 507.539514 \r\nL 590.163494 513.065926 \r\n\" style=\"fill:none;stroke:#000000;stroke-width:1.5;\"/>\r\n    <path clip-path=\"url(#p6fce4f1a16)\" d=\"M 608.951373 507.539514 \r\nL 608.951373 514.444549 \r\n\" style=\"fill:none;stroke:#000000;stroke-width:1.5;\"/>\r\n    <path clip-path=\"url(#p6fce4f1a16)\" d=\"M 627.739252 507.539514 \r\nL 627.739252 514.470516 \r\n\" style=\"fill:none;stroke:#000000;stroke-width:1.5;\"/>\r\n    <path clip-path=\"url(#p6fce4f1a16)\" d=\"M 646.527131 507.539514 \r\nL 646.527131 517.312924 \r\n\" style=\"fill:none;stroke:#000000;stroke-width:1.5;\"/>\r\n    <path clip-path=\"url(#p6fce4f1a16)\" d=\"M 665.315009 507.539514 \r\nL 665.315009 521.136879 \r\n\" style=\"fill:none;stroke:#000000;stroke-width:1.5;\"/>\r\n    <path clip-path=\"url(#p6fce4f1a16)\" d=\"M 684.102888 507.539514 \r\nL 684.102888 527.998706 \r\n\" style=\"fill:none;stroke:#000000;stroke-width:1.5;\"/>\r\n    <path clip-path=\"url(#p6fce4f1a16)\" d=\"M 702.890767 507.539514 \r\nL 702.890767 554.68672 \r\n\" style=\"fill:none;stroke:#000000;stroke-width:1.5;\"/>\r\n    <path clip-path=\"url(#p6fce4f1a16)\" d=\"M 721.678646 507.539514 \r\nL 721.678646 330.058621 \r\n\" style=\"fill:none;stroke:#000000;stroke-width:1.5;\"/>\r\n    <path clip-path=\"url(#p6fce4f1a16)\" d=\"M 740.466525 507.539514 \r\nL 740.466525 476.792171 \r\n\" style=\"fill:none;stroke:#000000;stroke-width:1.5;\"/>\r\n    <path clip-path=\"url(#p6fce4f1a16)\" d=\"M 759.254403 507.539514 \r\nL 759.254403 489.653744 \r\n\" style=\"fill:none;stroke:#000000;stroke-width:1.5;\"/>\r\n    <path clip-path=\"url(#p6fce4f1a16)\" d=\"M 778.042282 507.539514 \r\nL 778.042282 495.643553 \r\n\" style=\"fill:none;stroke:#000000;stroke-width:1.5;\"/>\r\n    <path clip-path=\"url(#p6fce4f1a16)\" d=\"M 796.830161 507.539514 \r\nL 796.830161 500.873872 \r\n\" style=\"fill:none;stroke:#000000;stroke-width:1.5;\"/>\r\n    <path clip-path=\"url(#p6fce4f1a16)\" d=\"M 815.61804 507.539514 \r\nL 815.61804 500.986253 \r\n\" style=\"fill:none;stroke:#000000;stroke-width:1.5;\"/>\r\n    <path clip-path=\"url(#p6fce4f1a16)\" d=\"M 834.405919 507.539514 \r\nL 834.405919 502.721145 \r\n\" style=\"fill:none;stroke:#000000;stroke-width:1.5;\"/>\r\n   </g>\r\n   <g id=\"line2d_37\">\r\n    <path clip-path=\"url(#p6fce4f1a16)\" d=\"M 44.845313 507.539514 \r\nL 881.845312 507.539514 \r\n\" style=\"fill:none;stroke:#1f77b4;stroke-linecap:square;stroke-width:1.5;\"/>\r\n   </g>\r\n   <g id=\"line2d_38\">\r\n    <g clip-path=\"url(#p6fce4f1a16)\">\r\n     <use style=\"fill:#1f77b4;stroke:#1f77b4;\" x=\"82.890767\" xlink:href=\"#m4df2be992f\" y=\"470.057818\"/>\r\n     <use style=\"fill:#1f77b4;stroke:#1f77b4;\" x=\"101.678646\" xlink:href=\"#m4df2be992f\" y=\"472.503531\"/>\r\n     <use style=\"fill:#1f77b4;stroke:#1f77b4;\" x=\"120.466525\" xlink:href=\"#m4df2be992f\" y=\"506.374331\"/>\r\n     <use style=\"fill:#1f77b4;stroke:#1f77b4;\" x=\"139.254403\" xlink:href=\"#m4df2be992f\" y=\"507.749557\"/>\r\n     <use style=\"fill:#1f77b4;stroke:#1f77b4;\" x=\"158.042282\" xlink:href=\"#m4df2be992f\" y=\"516.186308\"/>\r\n     <use style=\"fill:#1f77b4;stroke:#1f77b4;\" x=\"176.830161\" xlink:href=\"#m4df2be992f\" y=\"509.447853\"/>\r\n     <use style=\"fill:#1f77b4;stroke:#1f77b4;\" x=\"195.61804\" xlink:href=\"#m4df2be992f\" y=\"509.478517\"/>\r\n     <use style=\"fill:#1f77b4;stroke:#1f77b4;\" x=\"214.405919\" xlink:href=\"#m4df2be992f\" y=\"509.316618\"/>\r\n     <use style=\"fill:#1f77b4;stroke:#1f77b4;\" x=\"233.193797\" xlink:href=\"#m4df2be992f\" y=\"504.310051\"/>\r\n     <use style=\"fill:#1f77b4;stroke:#1f77b4;\" x=\"251.981676\" xlink:href=\"#m4df2be992f\" y=\"508.011921\"/>\r\n     <use style=\"fill:#1f77b4;stroke:#1f77b4;\" x=\"270.769555\" xlink:href=\"#m4df2be992f\" y=\"508.281823\"/>\r\n     <use style=\"fill:#1f77b4;stroke:#1f77b4;\" x=\"289.557434\" xlink:href=\"#m4df2be992f\" y=\"510.289652\"/>\r\n     <use style=\"fill:#1f77b4;stroke:#1f77b4;\" x=\"308.345313\" xlink:href=\"#m4df2be992f\" y=\"511.224401\"/>\r\n     <use style=\"fill:#1f77b4;stroke:#1f77b4;\" x=\"327.133191\" xlink:href=\"#m4df2be992f\" y=\"508.95997\"/>\r\n     <use style=\"fill:#1f77b4;stroke:#1f77b4;\" x=\"345.92107\" xlink:href=\"#m4df2be992f\" y=\"509.179666\"/>\r\n     <use style=\"fill:#1f77b4;stroke:#1f77b4;\" x=\"364.708949\" xlink:href=\"#m4df2be992f\" y=\"507.369875\"/>\r\n     <use style=\"fill:#1f77b4;stroke:#1f77b4;\" x=\"383.496828\" xlink:href=\"#m4df2be992f\" y=\"508.185997\"/>\r\n     <use style=\"fill:#1f77b4;stroke:#1f77b4;\" x=\"402.284706\" xlink:href=\"#m4df2be992f\" y=\"509.499991\"/>\r\n     <use style=\"fill:#1f77b4;stroke:#1f77b4;\" x=\"421.072585\" xlink:href=\"#m4df2be992f\" y=\"509.053074\"/>\r\n     <use style=\"fill:#1f77b4;stroke:#1f77b4;\" x=\"439.860464\" xlink:href=\"#m4df2be992f\" y=\"511.075927\"/>\r\n     <use style=\"fill:#1f77b4;stroke:#1f77b4;\" x=\"458.648343\" xlink:href=\"#m4df2be992f\" y=\"510.125788\"/>\r\n     <use style=\"fill:#1f77b4;stroke:#1f77b4;\" x=\"477.436222\" xlink:href=\"#m4df2be992f\" y=\"509.897768\"/>\r\n     <use style=\"fill:#1f77b4;stroke:#1f77b4;\" x=\"496.2241\" xlink:href=\"#m4df2be992f\" y=\"509.93814\"/>\r\n     <use style=\"fill:#1f77b4;stroke:#1f77b4;\" x=\"515.011979\" xlink:href=\"#m4df2be992f\" y=\"509.820957\"/>\r\n     <use style=\"fill:#1f77b4;stroke:#1f77b4;\" x=\"533.799858\" xlink:href=\"#m4df2be992f\" y=\"511.032349\"/>\r\n     <use style=\"fill:#1f77b4;stroke:#1f77b4;\" x=\"552.587737\" xlink:href=\"#m4df2be992f\" y=\"511.890527\"/>\r\n     <use style=\"fill:#1f77b4;stroke:#1f77b4;\" x=\"571.375616\" xlink:href=\"#m4df2be992f\" y=\"513.480543\"/>\r\n     <use style=\"fill:#1f77b4;stroke:#1f77b4;\" x=\"590.163494\" xlink:href=\"#m4df2be992f\" y=\"513.065926\"/>\r\n     <use style=\"fill:#1f77b4;stroke:#1f77b4;\" x=\"608.951373\" xlink:href=\"#m4df2be992f\" y=\"514.444549\"/>\r\n     <use style=\"fill:#1f77b4;stroke:#1f77b4;\" x=\"627.739252\" xlink:href=\"#m4df2be992f\" y=\"514.470516\"/>\r\n     <use style=\"fill:#1f77b4;stroke:#1f77b4;\" x=\"646.527131\" xlink:href=\"#m4df2be992f\" y=\"517.312924\"/>\r\n     <use style=\"fill:#1f77b4;stroke:#1f77b4;\" x=\"665.315009\" xlink:href=\"#m4df2be992f\" y=\"521.136879\"/>\r\n     <use style=\"fill:#1f77b4;stroke:#1f77b4;\" x=\"684.102888\" xlink:href=\"#m4df2be992f\" y=\"527.998706\"/>\r\n     <use style=\"fill:#1f77b4;stroke:#1f77b4;\" x=\"702.890767\" xlink:href=\"#m4df2be992f\" y=\"554.68672\"/>\r\n     <use style=\"fill:#1f77b4;stroke:#1f77b4;\" x=\"721.678646\" xlink:href=\"#m4df2be992f\" y=\"330.058621\"/>\r\n     <use style=\"fill:#1f77b4;stroke:#1f77b4;\" x=\"740.466525\" xlink:href=\"#m4df2be992f\" y=\"476.792171\"/>\r\n     <use style=\"fill:#1f77b4;stroke:#1f77b4;\" x=\"759.254403\" xlink:href=\"#m4df2be992f\" y=\"489.653744\"/>\r\n     <use style=\"fill:#1f77b4;stroke:#1f77b4;\" x=\"778.042282\" xlink:href=\"#m4df2be992f\" y=\"495.643553\"/>\r\n     <use style=\"fill:#1f77b4;stroke:#1f77b4;\" x=\"796.830161\" xlink:href=\"#m4df2be992f\" y=\"500.873872\"/>\r\n     <use style=\"fill:#1f77b4;stroke:#1f77b4;\" x=\"815.61804\" xlink:href=\"#m4df2be992f\" y=\"500.986253\"/>\r\n     <use style=\"fill:#1f77b4;stroke:#1f77b4;\" x=\"834.405919\" xlink:href=\"#m4df2be992f\" y=\"502.721145\"/>\r\n    </g>\r\n   </g>\r\n   <g id=\"patch_8\">\r\n    <path d=\"M 44.845313 565.918125 \r\nL 44.845313 318.827216 \r\n\" style=\"fill:none;stroke:#000000;stroke-linecap:square;stroke-linejoin:miter;stroke-width:0.8;\"/>\r\n   </g>\r\n   <g id=\"patch_9\">\r\n    <path d=\"M 881.845312 565.918125 \r\nL 881.845312 318.827216 \r\n\" style=\"fill:none;stroke:#000000;stroke-linecap:square;stroke-linejoin:miter;stroke-width:0.8;\"/>\r\n   </g>\r\n   <g id=\"patch_10\">\r\n    <path d=\"M 44.845313 565.918125 \r\nL 881.845313 565.918125 \r\n\" style=\"fill:none;stroke:#000000;stroke-linecap:square;stroke-linejoin:miter;stroke-width:0.8;\"/>\r\n   </g>\r\n   <g id=\"patch_11\">\r\n    <path d=\"M 44.845313 318.827216 \r\nL 881.845313 318.827216 \r\n\" style=\"fill:none;stroke:#000000;stroke-linecap:square;stroke-linejoin:miter;stroke-width:0.8;\"/>\r\n   </g>\r\n   <g id=\"text_36\">\r\n    <!-- Partial Autocorrelation -->\r\n    <defs>\r\n     <path d=\"M 19.671875 64.796875 \r\nL 19.671875 37.40625 \r\nL 32.078125 37.40625 \r\nQ 38.96875 37.40625 42.71875 40.96875 \r\nQ 46.484375 44.53125 46.484375 51.125 \r\nQ 46.484375 57.671875 42.71875 61.234375 \r\nQ 38.96875 64.796875 32.078125 64.796875 \r\nz\r\nM 9.8125 72.90625 \r\nL 32.078125 72.90625 \r\nQ 44.34375 72.90625 50.609375 67.359375 \r\nQ 56.890625 61.8125 56.890625 51.125 \r\nQ 56.890625 40.328125 50.609375 34.8125 \r\nQ 44.34375 29.296875 32.078125 29.296875 \r\nL 19.671875 29.296875 \r\nL 19.671875 0 \r\nL 9.8125 0 \r\nz\r\n\" id=\"DejaVuSans-80\"/>\r\n     <path id=\"DejaVuSans-32\"/>\r\n    </defs>\r\n    <g transform=\"translate(395.95875 312.827216)scale(0.12 -0.12)\">\r\n     <use xlink:href=\"#DejaVuSans-80\"/>\r\n     <use x=\"60.240234\" xlink:href=\"#DejaVuSans-97\"/>\r\n     <use x=\"121.519531\" xlink:href=\"#DejaVuSans-114\"/>\r\n     <use x=\"162.632812\" xlink:href=\"#DejaVuSans-116\"/>\r\n     <use x=\"201.841797\" xlink:href=\"#DejaVuSans-105\"/>\r\n     <use x=\"229.625\" xlink:href=\"#DejaVuSans-97\"/>\r\n     <use x=\"290.904297\" xlink:href=\"#DejaVuSans-108\"/>\r\n     <use x=\"318.6875\" xlink:href=\"#DejaVuSans-32\"/>\r\n     <use x=\"350.474609\" xlink:href=\"#DejaVuSans-65\"/>\r\n     <use x=\"418.882812\" xlink:href=\"#DejaVuSans-117\"/>\r\n     <use x=\"482.261719\" xlink:href=\"#DejaVuSans-116\"/>\r\n     <use x=\"521.470703\" xlink:href=\"#DejaVuSans-111\"/>\r\n     <use x=\"582.652344\" xlink:href=\"#DejaVuSans-99\"/>\r\n     <use x=\"637.632812\" xlink:href=\"#DejaVuSans-111\"/>\r\n     <use x=\"698.814453\" xlink:href=\"#DejaVuSans-114\"/>\r\n     <use x=\"739.912109\" xlink:href=\"#DejaVuSans-114\"/>\r\n     <use x=\"780.994141\" xlink:href=\"#DejaVuSans-101\"/>\r\n     <use x=\"842.517578\" xlink:href=\"#DejaVuSans-108\"/>\r\n     <use x=\"870.300781\" xlink:href=\"#DejaVuSans-97\"/>\r\n     <use x=\"931.580078\" xlink:href=\"#DejaVuSans-116\"/>\r\n     <use x=\"970.789062\" xlink:href=\"#DejaVuSans-105\"/>\r\n     <use x=\"998.572266\" xlink:href=\"#DejaVuSans-111\"/>\r\n     <use x=\"1059.753906\" xlink:href=\"#DejaVuSans-110\"/>\r\n    </g>\r\n   </g>\r\n  </g>\r\n </g>\r\n <defs>\r\n  <clipPath id=\"p059e624b80\">\r\n   <rect height=\"247.090909\" width=\"837\" x=\"44.845313\" y=\"22.318125\"/>\r\n  </clipPath>\r\n  <clipPath id=\"p6fce4f1a16\">\r\n   <rect height=\"247.090909\" width=\"837\" x=\"44.845313\" y=\"318.827216\"/>\r\n  </clipPath>\r\n </defs>\r\n</svg>\r\n",
      "image/png": "[encoded data removed]"
     },
     "metadata": {
      "needs_background": "light"
     }
    }
   ],
   "source": [
    "import statsmodels.api as sm\n",
    "fig, (ax1, ax2) = plt.subplots(2, 1, figsize=(15,10))\n",
    "sm.graphics.tsa.plot_acf(df_paraiba.values.squeeze(), lags=40, ax=ax1)\n",
    "sm.graphics.tsa.plot_pacf(df_paraiba.values.squeeze(), lags=40, ax=ax2)\n",
    "plt.show()"
   ]
  },
  {
   "cell_type": "code",
   "execution_count": 12,
   "metadata": {},
   "outputs": [
    {
     "output_type": "stream",
     "name": "stdout",
     "text": "Fit ARIMA(0,1,0)x(0,1,0,7) [intercept=True]; AIC=460.897, BIC=464.274, Time=0.015 seconds\nFit ARIMA(0,1,0)x(0,1,1,7) [intercept=True]; AIC=462.519, BIC=467.585, Time=0.062 seconds\nFit ARIMA(0,1,0)x(0,1,2,7) [intercept=True]; AIC=463.838, BIC=470.593, Time=0.117 seconds\nFit ARIMA(0,1,0)x(1,1,0,7) [intercept=True]; AIC=462.744, BIC=467.811, Time=0.067 seconds\nFit ARIMA(0,1,0)x(1,1,1,7) [intercept=True]; AIC=463.981, BIC=470.737, Time=0.203 seconds\nFit ARIMA(0,1,0)x(1,1,2,7) [intercept=True]; AIC=465.837, BIC=474.282, Time=0.176 seconds\nFit ARIMA(0,1,0)x(2,1,0,7) [intercept=True]; AIC=464.086, BIC=470.841, Time=0.217 seconds\nFit ARIMA(0,1,0)x(2,1,1,7) [intercept=True]; AIC=465.925, BIC=474.369, Time=0.335 seconds\nFit ARIMA(0,1,0)x(2,1,2,7) [intercept=True]; AIC=467.798, BIC=477.931, Time=0.501 seconds\nFit ARIMA(0,1,1)x(0,1,0,7) [intercept=True]; AIC=462.207, BIC=467.274, Time=0.059 seconds\nFit ARIMA(0,1,1)x(0,1,1,7) [intercept=True]; AIC=462.919, BIC=469.674, Time=0.178 seconds\nFit ARIMA(0,1,1)x(0,1,2,7) [intercept=True]; AIC=464.549, BIC=472.993, Time=0.285 seconds\nFit ARIMA(0,1,1)x(1,1,0,7) [intercept=True]; AIC=463.726, BIC=470.482, Time=0.133 seconds\nFit ARIMA(0,1,1)x(1,1,1,7) [intercept=True]; AIC=464.613, BIC=473.057, Time=0.275 seconds\nFit ARIMA(0,1,1)x(1,1,2,7) [intercept=True]; AIC=466.485, BIC=476.619, Time=0.527 seconds\nFit ARIMA(0,1,1)x(2,1,0,7) [intercept=True]; AIC=464.839, BIC=473.283, Time=0.378 seconds\nFit ARIMA(0,1,1)x(2,1,1,7) [intercept=True]; AIC=466.602, BIC=476.735, Time=0.552 seconds\nFit ARIMA(0,1,1)x(2,1,2,7) [intercept=True]; AIC=468.470, BIC=480.292, Time=0.544 seconds\nFit ARIMA(0,1,2)x(0,1,0,7) [intercept=True]; AIC=464.188, BIC=470.944, Time=0.095 seconds\nFit ARIMA(0,1,2)x(0,1,1,7) [intercept=True]; AIC=464.846, BIC=473.291, Time=0.238 seconds\nFit ARIMA(0,1,2)x(0,1,2,7) [intercept=True]; AIC=466.438, BIC=476.572, Time=0.380 seconds\nFit ARIMA(0,1,2)x(1,1,0,7) [intercept=True]; AIC=465.833, BIC=474.277, Time=0.253 seconds\nFit ARIMA(0,1,2)x(1,1,1,7) [intercept=True]; AIC=466.542, BIC=476.676, Time=0.368 seconds\nFit ARIMA(0,1,2)x(1,1,2,7) [intercept=True]; AIC=468.306, BIC=480.128, Time=0.480 seconds\nFit ARIMA(0,1,2)x(2,1,0,7) [intercept=True]; AIC=466.685, BIC=476.818, Time=0.436 seconds\nFit ARIMA(0,1,2)x(2,1,1,7) [intercept=True]; AIC=468.515, BIC=480.338, Time=0.811 seconds\nFit ARIMA(0,1,3)x(0,1,0,7) [intercept=True]; AIC=456.101, BIC=464.545, Time=0.154 seconds\nFit ARIMA(0,1,3)x(0,1,1,7) [intercept=True]; AIC=456.503, BIC=466.636, Time=0.351 seconds\nFit ARIMA(0,1,3)x(0,1,2,7) [intercept=True]; AIC=460.289, BIC=472.111, Time=0.599 seconds\nFit ARIMA(0,1,3)x(1,1,0,7) [intercept=True]; AIC=456.492, BIC=466.625, Time=0.424 seconds\nFit ARIMA(0,1,3)x(1,1,1,7) [intercept=True]; AIC=458.845, BIC=470.667, Time=0.615 seconds\nFit ARIMA(0,1,3)x(2,1,0,7) [intercept=True]; AIC=460.335, BIC=472.157, Time=0.528 seconds\nFit ARIMA(0,1,4)x(0,1,0,7) [intercept=True]; AIC=449.157, BIC=459.290, Time=0.305 seconds\nFit ARIMA(0,1,4)x(0,1,1,7) [intercept=True]; AIC=451.119, BIC=462.941, Time=0.455 seconds\nFit ARIMA(0,1,4)x(1,1,0,7) [intercept=True]; AIC=451.127, BIC=462.950, Time=0.557 seconds\nFit ARIMA(0,1,5)x(0,1,0,7) [intercept=True]; AIC=450.566, BIC=462.388, Time=0.412 seconds\nFit ARIMA(1,1,0)x(0,1,0,7) [intercept=True]; AIC=462.274, BIC=467.341, Time=0.024 seconds\nFit ARIMA(1,1,0)x(0,1,1,7) [intercept=True]; AIC=463.190, BIC=469.945, Time=0.117 seconds\nFit ARIMA(1,1,0)x(0,1,2,7) [intercept=True]; AIC=464.771, BIC=473.215, Time=0.474 seconds\nFit ARIMA(1,1,0)x(1,1,0,7) [intercept=True]; AIC=463.844, BIC=470.600, Time=0.193 seconds\nFit ARIMA(1,1,0)x(1,1,1,7) [intercept=True]; AIC=464.833, BIC=473.277, Time=0.343 seconds\nFit ARIMA(1,1,0)x(1,1,2,7) [intercept=True]; AIC=466.738, BIC=476.871, Time=0.617 seconds\nFit ARIMA(1,1,0)x(2,1,0,7) [intercept=True]; AIC=465.059, BIC=473.504, Time=0.587 seconds\nFit ARIMA(1,1,0)x(2,1,1,7) [intercept=True]; AIC=466.823, BIC=476.956, Time=0.992 seconds\nFit ARIMA(1,1,0)x(2,1,2,7) [intercept=True]; AIC=468.710, BIC=480.533, Time=1.119 seconds\nFit ARIMA(1,1,1)x(0,1,0,7) [intercept=True]; AIC=464.206, BIC=470.961, Time=0.185 seconds\nFit ARIMA(1,1,1)x(0,1,1,7) [intercept=True]; AIC=464.904, BIC=473.348, Time=0.379 seconds\nFit ARIMA(1,1,1)x(0,1,2,7) [intercept=True]; AIC=466.531, BIC=476.664, Time=0.580 seconds\nFit ARIMA(1,1,1)x(1,1,0,7) [intercept=True]; AIC=465.725, BIC=474.169, Time=0.394 seconds\nFit ARIMA(1,1,1)x(1,1,1,7) [intercept=True]; AIC=466.601, BIC=476.734, Time=0.633 seconds\nFit ARIMA(1,1,1)x(1,1,2,7) [intercept=True]; AIC=468.452, BIC=480.274, Time=0.949 seconds\nFit ARIMA(1,1,1)x(2,1,0,7) [intercept=True]; AIC=466.814, BIC=476.947, Time=0.756 seconds\nFit ARIMA(1,1,1)x(2,1,1,7) [intercept=True]; AIC=468.588, BIC=480.411, Time=0.868 seconds\nFit ARIMA(1,1,2)x(0,1,0,7) [intercept=True]; AIC=458.905, BIC=467.349, Time=0.147 seconds\nFit ARIMA(1,1,2)x(0,1,1,7) [intercept=True]; AIC=460.849, BIC=470.983, Time=0.477 seconds\nFit ARIMA(1,1,2)x(0,1,2,7) [intercept=True]; AIC=462.750, BIC=474.572, Time=0.534 seconds\nFit ARIMA(1,1,2)x(1,1,0,7) [intercept=True]; AIC=460.888, BIC=471.021, Time=0.367 seconds\nFit ARIMA(1,1,2)x(1,1,1,7) [intercept=True]; AIC=462.414, BIC=474.236, Time=0.418 seconds\nFit ARIMA(1,1,2)x(2,1,0,7) [intercept=True]; AIC=462.095, BIC=473.917, Time=0.616 seconds\nFit ARIMA(1,1,3)x(0,1,0,7) [intercept=True]; AIC=454.412, BIC=464.545, Time=0.363 seconds\nFit ARIMA(1,1,3)x(0,1,1,7) [intercept=True]; AIC=455.743, BIC=467.565, Time=0.634 seconds\nFit ARIMA(1,1,3)x(1,1,0,7) [intercept=True]; AIC=456.412, BIC=468.234, Time=0.542 seconds\nFit ARIMA(1,1,4)x(0,1,0,7) [intercept=True]; AIC=450.893, BIC=462.715, Time=0.469 seconds\nFit ARIMA(2,1,0)x(0,1,0,7) [intercept=True]; AIC=463.953, BIC=470.709, Time=0.110 seconds\nFit ARIMA(2,1,0)x(0,1,1,7) [intercept=True]; AIC=464.377, BIC=472.822, Time=0.289 seconds\nFit ARIMA(2,1,0)x(0,1,2,7) [intercept=True]; AIC=466.024, BIC=476.157, Time=0.593 seconds\nFit ARIMA(2,1,0)x(1,1,0,7) [intercept=True]; AIC=465.393, BIC=473.838, Time=0.312 seconds\nFit ARIMA(2,1,0)x(1,1,1,7) [intercept=True]; AIC=466.102, BIC=476.236, Time=0.570 seconds\nFit ARIMA(2,1,0)x(1,1,2,7) [intercept=True]; AIC=467.912, BIC=479.734, Time=0.854 seconds\nFit ARIMA(2,1,0)x(2,1,0,7) [intercept=True]; AIC=466.307, BIC=476.440, Time=0.329 seconds\nFit ARIMA(2,1,0)x(2,1,1,7) [intercept=True]; AIC=468.084, BIC=479.906, Time=0.716 seconds\nFit ARIMA(2,1,1)x(0,1,0,7) [intercept=True]; AIC=466.271, BIC=474.716, Time=0.181 seconds\nFit ARIMA(2,1,1)x(0,1,1,7) [intercept=True]; AIC=454.935, BIC=465.068, Time=0.651 seconds\nFit ARIMA(2,1,1)x(0,1,2,7) [intercept=True]; AIC=457.222, BIC=469.044, Time=1.086 seconds\nFit ARIMA(2,1,1)x(1,1,0,7) [intercept=True]; AIC=455.527, BIC=465.661, Time=0.492 seconds\nFit ARIMA(2,1,1)x(1,1,1,7) [intercept=True]; AIC=457.993, BIC=469.815, Time=0.663 seconds\nFit ARIMA(2,1,1)x(2,1,0,7) [intercept=True]; AIC=456.840, BIC=468.662, Time=0.868 seconds\nFit ARIMA(2,1,2)x(0,1,0,7) [intercept=True]; AIC=442.648, BIC=452.781, Time=0.356 seconds\nFit ARIMA(2,1,2)x(0,1,1,7) [intercept=True]; AIC=442.687, BIC=454.509, Time=0.625 seconds\nFit ARIMA(2,1,2)x(1,1,0,7) [intercept=True]; AIC=443.839, BIC=455.661, Time=0.519 seconds\nFit ARIMA(2,1,3)x(0,1,0,7) [intercept=True]; AIC=440.879, BIC=452.701, Time=0.437 seconds\nFit ARIMA(3,1,0)x(0,1,0,7) [intercept=True]; AIC=458.485, BIC=466.929, Time=0.122 seconds\nFit ARIMA(3,1,0)x(0,1,1,7) [intercept=True]; AIC=459.401, BIC=469.535, Time=0.307 seconds\nFit ARIMA(3,1,0)x(0,1,2,7) [intercept=True]; AIC=461.257, BIC=473.079, Time=0.365 seconds\nFit ARIMA(3,1,0)x(1,1,0,7) [intercept=True]; AIC=459.931, BIC=470.065, Time=0.388 seconds\nFit ARIMA(3,1,0)x(1,1,1,7) [intercept=True]; AIC=461.255, BIC=473.077, Time=0.548 seconds\nFit ARIMA(3,1,0)x(2,1,0,7) [intercept=True]; AIC=461.483, BIC=473.305, Time=0.798 seconds\nFit ARIMA(3,1,1)x(0,1,0,7) [intercept=True]; AIC=440.897, BIC=451.030, Time=0.294 seconds\nFit ARIMA(3,1,1)x(0,1,1,7) [intercept=True]; AIC=441.637, BIC=453.459, Time=0.564 seconds\nFit ARIMA(3,1,1)x(1,1,0,7) [intercept=True]; AIC=442.248, BIC=454.070, Time=0.467 seconds\nFit ARIMA(3,1,2)x(0,1,0,7) [intercept=True]; AIC=441.043, BIC=452.865, Time=0.317 seconds\nFit ARIMA(4,1,0)x(0,1,0,7) [intercept=True]; AIC=447.158, BIC=457.292, Time=0.348 seconds\nFit ARIMA(4,1,0)x(0,1,1,7) [intercept=True]; AIC=445.427, BIC=457.249, Time=0.494 seconds\nFit ARIMA(4,1,0)x(1,1,0,7) [intercept=True]; AIC=447.792, BIC=459.614, Time=0.680 seconds\nFit ARIMA(4,1,1)x(0,1,0,7) [intercept=True]; AIC=440.369, BIC=452.191, Time=0.431 seconds\nFit ARIMA(5,1,0)x(0,1,0,7) [intercept=True]; AIC=447.675, BIC=459.497, Time=0.482 seconds\nTotal fit time: 42.167 seconds\n"
    }
   ],
   "source": [
    "from pmdarima.arima import auto_arima\n",
    "bruteforce_modelo = auto_arima(df_paraiba, start_p=0, start_d=0 ,start_q=0,max_p=8, max_d=8,max_q=8, m=7, start_P=0, seasonal=True, d=1, D=1, trace=True, error_action='ignore',suppress_warnings=True, stepwise=False)"
   ]
  },
  {
   "cell_type": "code",
   "execution_count": 178,
   "metadata": {},
   "outputs": [
    {
     "output_type": "stream",
     "name": "stdout",
     "text": "Resultado AIC: 257.80952841403393\nResultado melhores parametros (p,d,q): (1, 2, 0)\n"
    }
   ],
   "source": [
    "print(f\"Resultado AIC: {bruteforce_modelo.aic()}\")\n",
    "print(f\"Resultado melhores parametros (p,d,q): {bruteforce_modelo.order}\")"
   ]
  },
  {
   "cell_type": "code",
   "execution_count": 14,
   "metadata": {},
   "outputs": [],
   "source": [
    "futuro_forecast = bruteforce_modelo.predict(n_periods=30)"
   ]
  },
  {
   "cell_type": "code",
   "execution_count": 60,
   "metadata": {},
   "outputs": [],
   "source": [
    "import datetime \n",
    "dataatual = datetime.datetime.today()\n",
    "dataatual = datetime.datetime.today() - datetime.timedelta(days=1)\n",
    "lista_datas = [dataatual + datetime.timedelta(days=x) for x in range(30)]\n",
    "lista_datas = [pd.datetime.strftime(i,'%Y-%m-%d') for i in lista_datas]"
   ]
  },
  {
   "cell_type": "code",
   "execution_count": 65,
   "metadata": {},
   "outputs": [
    {
     "output_type": "execute_result",
     "data": {
      "text/plain": "             cases\ndata              \n2020-05-15  3053.0\n2020-05-16  3398.0",
      "text/html": "<div>\n<style scoped>\n    .dataframe tbody tr th:only-of-type {\n        vertical-align: middle;\n    }\n\n    .dataframe tbody tr th {\n        vertical-align: top;\n    }\n\n    .dataframe thead th {\n        text-align: right;\n    }\n</style>\n<table border=\"1\" class=\"dataframe\">\n  <thead>\n    <tr style=\"text-align: right;\">\n      <th></th>\n      <th>cases</th>\n    </tr>\n    <tr>\n      <th>data</th>\n      <th></th>\n    </tr>\n  </thead>\n  <tbody>\n    <tr>\n      <td>2020-05-15</td>\n      <td>3053.0</td>\n    </tr>\n    <tr>\n      <td>2020-05-16</td>\n      <td>3398.0</td>\n    </tr>\n  </tbody>\n</table>\n</div>"
     },
     "metadata": {},
     "execution_count": 65
    }
   ],
   "source": [
    "futuro_forecast = bruteforce_modelo.predict(n_periods=30)\n",
    "futuro_forecast = pd.DataFrame(futuro_forecast,index = lista_datas,columns=[\"cases\"])\n",
    "futuro_forecast.index.name = 'data'\n",
    "futuro_forecast.index = pd.to_datetime(futuro_forecast.index)\n",
    "futuro_forecast.cases = round(futuro_forecast.cases,0)\n",
    "futuro_forecast.head(2)"
   ]
  },
  {
   "cell_type": "code",
   "execution_count": 66,
   "metadata": {},
   "outputs": [
    {
     "output_type": "execute_result",
     "data": {
      "text/plain": "            cases\n2020-03-28   14.0\n2020-03-29   14.0",
      "text/html": "<div>\n<style scoped>\n    .dataframe tbody tr th:only-of-type {\n        vertical-align: middle;\n    }\n\n    .dataframe tbody tr th {\n        vertical-align: top;\n    }\n\n    .dataframe thead th {\n        text-align: right;\n    }\n</style>\n<table border=\"1\" class=\"dataframe\">\n  <thead>\n    <tr style=\"text-align: right;\">\n      <th></th>\n      <th>cases</th>\n    </tr>\n  </thead>\n  <tbody>\n    <tr>\n      <td>2020-03-28</td>\n      <td>14.0</td>\n    </tr>\n    <tr>\n      <td>2020-03-29</td>\n      <td>14.0</td>\n    </tr>\n  </tbody>\n</table>\n</div>"
     },
     "metadata": {},
     "execution_count": 66
    }
   ],
   "source": [
    "final = pd.concat([df_paraiba,futuro_forecast])\n",
    "final.head(2)"
   ]
  },
  {
   "cell_type": "code",
   "execution_count": 78,
   "metadata": {},
   "outputs": [
    {
     "output_type": "display_data",
     "data": {
      "application/vnd.plotly.v1+json": {
       "config": {
        "plotlyServerURL": "https://plot.ly"
       },
       "data": [
        {
         "mode": "lines+markers",
         "name": "Atual",
         "type": "scatter",
         "x": [
          "2020-03-28T00:00:00",
          "2020-03-29T00:00:00",
          "2020-03-30T00:00:00",
          "2020-03-31T00:00:00",
          "2020-04-01T00:00:00",
          "2020-04-02T00:00:00",
          "2020-04-03T00:00:00",
          "2020-04-04T00:00:00",
          "2020-04-05T00:00:00",
          "2020-04-06T00:00:00",
          "2020-04-07T00:00:00",
          "2020-04-08T00:00:00",
          "2020-04-09T00:00:00",
          "2020-04-10T00:00:00",
          "2020-04-11T00:00:00",
          "2020-04-12T00:00:00",
          "2020-04-13T00:00:00",
          "2020-04-14T00:00:00",
          "2020-04-15T00:00:00",
          "2020-04-16T00:00:00",
          "2020-04-17T00:00:00",
          "2020-04-18T00:00:00",
          "2020-04-19T00:00:00",
          "2020-04-20T00:00:00",
          "2020-04-21T00:00:00",
          "2020-04-22T00:00:00",
          "2020-04-23T00:00:00",
          "2020-04-24T00:00:00",
          "2020-04-25T00:00:00",
          "2020-04-26T00:00:00",
          "2020-04-27T00:00:00",
          "2020-04-28T00:00:00",
          "2020-04-29T00:00:00",
          "2020-04-30T00:00:00",
          "2020-05-01T00:00:00",
          "2020-05-02T00:00:00",
          "2020-05-03T00:00:00",
          "2020-05-04T00:00:00",
          "2020-05-05T00:00:00",
          "2020-05-06T00:00:00",
          "2020-05-07T00:00:00",
          "2020-05-08T00:00:00",
          "2020-05-09T00:00:00",
          "2020-05-10T00:00:00",
          "2020-05-11T00:00:00",
          "2020-05-12T00:00:00",
          "2020-05-13T00:00:00",
          "2020-05-14T00:00:00"
         ],
         "y": [
          14,
          14,
          15,
          17,
          20,
          21,
          29,
          32,
          34,
          35,
          36,
          41,
          55,
          79,
          85,
          101,
          111,
          136,
          152,
          165,
          195,
          205,
          236,
          245,
          263,
          301,
          345,
          386,
          447,
          499,
          543,
          633,
          699,
          814,
          926,
          1034,
          1169,
          1219,
          1361,
          1493,
          1657,
          2030,
          2155,
          2341,
          2525,
          2356,
          2540,
          2834
         ]
        },
        {
         "line": {
          "dash": "dashdot"
         },
         "mode": "lines+markers",
         "name": "Previsto",
         "type": "scatter",
         "x": [
          "2020-05-15T00:00:00",
          "2020-05-16T00:00:00",
          "2020-05-17T00:00:00",
          "2020-05-18T00:00:00",
          "2020-05-19T00:00:00",
          "2020-05-20T00:00:00",
          "2020-05-21T00:00:00",
          "2020-05-22T00:00:00",
          "2020-05-23T00:00:00",
          "2020-05-24T00:00:00",
          "2020-05-25T00:00:00",
          "2020-05-26T00:00:00",
          "2020-05-27T00:00:00",
          "2020-05-28T00:00:00",
          "2020-05-29T00:00:00",
          "2020-05-30T00:00:00",
          "2020-05-31T00:00:00",
          "2020-06-01T00:00:00",
          "2020-06-02T00:00:00",
          "2020-06-03T00:00:00",
          "2020-06-04T00:00:00",
          "2020-06-05T00:00:00",
          "2020-06-06T00:00:00",
          "2020-06-07T00:00:00",
          "2020-06-08T00:00:00",
          "2020-06-09T00:00:00",
          "2020-06-10T00:00:00",
          "2020-06-11T00:00:00",
          "2020-06-12T00:00:00",
          "2020-06-13T00:00:00"
         ],
         "y": [
          3053,
          3398,
          3572,
          3680,
          3726,
          3781,
          4130,
          4485,
          4680,
          5015,
          5138,
          5099,
          5344,
          5605,
          5986,
          6321,
          6531,
          6778,
          6780,
          6941,
          7367,
          7693,
          8032,
          8379,
          8527,
          8621,
          8840,
          9188,
          9655,
          9968
         ]
        }
       ],
       "layout": {
        "height": 600,
        "template": {
         "data": {
          "bar": [
           {
            "error_x": {
             "color": "#2a3f5f"
            },
            "error_y": {
             "color": "#2a3f5f"
            },
            "marker": {
             "line": {
              "color": "#E5ECF6",
              "width": 0.5
             }
            },
            "type": "bar"
           }
          ],
          "barpolar": [
           {
            "marker": {
             "line": {
              "color": "#E5ECF6",
              "width": 0.5
             }
            },
            "type": "barpolar"
           }
          ],
          "carpet": [
           {
            "aaxis": {
             "endlinecolor": "#2a3f5f",
             "gridcolor": "white",
             "linecolor": "white",
             "minorgridcolor": "white",
             "startlinecolor": "#2a3f5f"
            },
            "baxis": {
             "endlinecolor": "#2a3f5f",
             "gridcolor": "white",
             "linecolor": "white",
             "minorgridcolor": "white",
             "startlinecolor": "#2a3f5f"
            },
            "type": "carpet"
           }
          ],
          "choropleth": [
           {
            "colorbar": {
             "outlinewidth": 0,
             "ticks": ""
            },
            "type": "choropleth"
           }
          ],
          "contour": [
           {
            "colorbar": {
             "outlinewidth": 0,
             "ticks": ""
            },
            "colorscale": [
             [
              0,
              "#0d0887"
             ],
             [
              0.1111111111111111,
              "#46039f"
             ],
             [
              0.2222222222222222,
              "#7201a8"
             ],
             [
              0.3333333333333333,
              "#9c179e"
             ],
             [
              0.4444444444444444,
              "#bd3786"
             ],
             [
              0.5555555555555556,
              "#d8576b"
             ],
             [
              0.6666666666666666,
              "#ed7953"
             ],
             [
              0.7777777777777778,
              "#fb9f3a"
             ],
             [
              0.8888888888888888,
              "#fdca26"
             ],
             [
              1,
              "#f0f921"
             ]
            ],
            "type": "contour"
           }
          ],
          "contourcarpet": [
           {
            "colorbar": {
             "outlinewidth": 0,
             "ticks": ""
            },
            "type": "contourcarpet"
           }
          ],
          "heatmap": [
           {
            "colorbar": {
             "outlinewidth": 0,
             "ticks": ""
            },
            "colorscale": [
             [
              0,
              "#0d0887"
             ],
             [
              0.1111111111111111,
              "#46039f"
             ],
             [
              0.2222222222222222,
              "#7201a8"
             ],
             [
              0.3333333333333333,
              "#9c179e"
             ],
             [
              0.4444444444444444,
              "#bd3786"
             ],
             [
              0.5555555555555556,
              "#d8576b"
             ],
             [
              0.6666666666666666,
              "#ed7953"
             ],
             [
              0.7777777777777778,
              "#fb9f3a"
             ],
             [
              0.8888888888888888,
              "#fdca26"
             ],
             [
              1,
              "#f0f921"
             ]
            ],
            "type": "heatmap"
           }
          ],
          "heatmapgl": [
           {
            "colorbar": {
             "outlinewidth": 0,
             "ticks": ""
            },
            "colorscale": [
             [
              0,
              "#0d0887"
             ],
             [
              0.1111111111111111,
              "#46039f"
             ],
             [
              0.2222222222222222,
              "#7201a8"
             ],
             [
              0.3333333333333333,
              "#9c179e"
             ],
             [
              0.4444444444444444,
              "#bd3786"
             ],
             [
              0.5555555555555556,
              "#d8576b"
             ],
             [
              0.6666666666666666,
              "#ed7953"
             ],
             [
              0.7777777777777778,
              "#fb9f3a"
             ],
             [
              0.8888888888888888,
              "#fdca26"
             ],
             [
              1,
              "#f0f921"
             ]
            ],
            "type": "heatmapgl"
           }
          ],
          "histogram": [
           {
            "marker": {
             "colorbar": {
              "outlinewidth": 0,
              "ticks": ""
             }
            },
            "type": "histogram"
           }
          ],
          "histogram2d": [
           {
            "colorbar": {
             "outlinewidth": 0,
             "ticks": ""
            },
            "colorscale": [
             [
              0,
              "#0d0887"
             ],
             [
              0.1111111111111111,
              "#46039f"
             ],
             [
              0.2222222222222222,
              "#7201a8"
             ],
             [
              0.3333333333333333,
              "#9c179e"
             ],
             [
              0.4444444444444444,
              "#bd3786"
             ],
             [
              0.5555555555555556,
              "#d8576b"
             ],
             [
              0.6666666666666666,
              "#ed7953"
             ],
             [
              0.7777777777777778,
              "#fb9f3a"
             ],
             [
              0.8888888888888888,
              "#fdca26"
             ],
             [
              1,
              "#f0f921"
             ]
            ],
            "type": "histogram2d"
           }
          ],
          "histogram2dcontour": [
           {
            "colorbar": {
             "outlinewidth": 0,
             "ticks": ""
            },
            "colorscale": [
             [
              0,
              "#0d0887"
             ],
             [
              0.1111111111111111,
              "#46039f"
             ],
             [
              0.2222222222222222,
              "#7201a8"
             ],
             [
              0.3333333333333333,
              "#9c179e"
             ],
             [
              0.4444444444444444,
              "#bd3786"
             ],
             [
              0.5555555555555556,
              "#d8576b"
             ],
             [
              0.6666666666666666,
              "#ed7953"
             ],
             [
              0.7777777777777778,
              "#fb9f3a"
             ],
             [
              0.8888888888888888,
              "#fdca26"
             ],
             [
              1,
              "#f0f921"
             ]
            ],
            "type": "histogram2dcontour"
           }
          ],
          "mesh3d": [
           {
            "colorbar": {
             "outlinewidth": 0,
             "ticks": ""
            },
            "type": "mesh3d"
           }
          ],
          "parcoords": [
           {
            "line": {
             "colorbar": {
              "outlinewidth": 0,
              "ticks": ""
             }
            },
            "type": "parcoords"
           }
          ],
          "pie": [
           {
            "automargin": true,
            "type": "pie"
           }
          ],
          "scatter": [
           {
            "marker": {
             "colorbar": {
              "outlinewidth": 0,
              "ticks": ""
             }
            },
            "type": "scatter"
           }
          ],
          "scatter3d": [
           {
            "line": {
             "colorbar": {
              "outlinewidth": 0,
              "ticks": ""
             }
            },
            "marker": {
             "colorbar": {
              "outlinewidth": 0,
              "ticks": ""
             }
            },
            "type": "scatter3d"
           }
          ],
          "scattercarpet": [
           {
            "marker": {
             "colorbar": {
              "outlinewidth": 0,
              "ticks": ""
             }
            },
            "type": "scattercarpet"
           }
          ],
          "scattergeo": [
           {
            "marker": {
             "colorbar": {
              "outlinewidth": 0,
              "ticks": ""
             }
            },
            "type": "scattergeo"
           }
          ],
          "scattergl": [
           {
            "marker": {
             "colorbar": {
              "outlinewidth": 0,
              "ticks": ""
             }
            },
            "type": "scattergl"
           }
          ],
          "scattermapbox": [
           {
            "marker": {
             "colorbar": {
              "outlinewidth": 0,
              "ticks": ""
             }
            },
            "type": "scattermapbox"
           }
          ],
          "scatterpolar": [
           {
            "marker": {
             "colorbar": {
              "outlinewidth": 0,
              "ticks": ""
             }
            },
            "type": "scatterpolar"
           }
          ],
          "scatterpolargl": [
           {
            "marker": {
             "colorbar": {
              "outlinewidth": 0,
              "ticks": ""
             }
            },
            "type": "scatterpolargl"
           }
          ],
          "scatterternary": [
           {
            "marker": {
             "colorbar": {
              "outlinewidth": 0,
              "ticks": ""
             }
            },
            "type": "scatterternary"
           }
          ],
          "surface": [
           {
            "colorbar": {
             "outlinewidth": 0,
             "ticks": ""
            },
            "colorscale": [
             [
              0,
              "#0d0887"
             ],
             [
              0.1111111111111111,
              "#46039f"
             ],
             [
              0.2222222222222222,
              "#7201a8"
             ],
             [
              0.3333333333333333,
              "#9c179e"
             ],
             [
              0.4444444444444444,
              "#bd3786"
             ],
             [
              0.5555555555555556,
              "#d8576b"
             ],
             [
              0.6666666666666666,
              "#ed7953"
             ],
             [
              0.7777777777777778,
              "#fb9f3a"
             ],
             [
              0.8888888888888888,
              "#fdca26"
             ],
             [
              1,
              "#f0f921"
             ]
            ],
            "type": "surface"
           }
          ],
          "table": [
           {
            "cells": {
             "fill": {
              "color": "#EBF0F8"
             },
             "line": {
              "color": "white"
             }
            },
            "header": {
             "fill": {
              "color": "#C8D4E3"
             },
             "line": {
              "color": "white"
             }
            },
            "type": "table"
           }
          ]
         },
         "layout": {
          "annotationdefaults": {
           "arrowcolor": "#2a3f5f",
           "arrowhead": 0,
           "arrowwidth": 1
          },
          "coloraxis": {
           "colorbar": {
            "outlinewidth": 0,
            "ticks": ""
           }
          },
          "colorscale": {
           "diverging": [
            [
             0,
             "#8e0152"
            ],
            [
             0.1,
             "#c51b7d"
            ],
            [
             0.2,
             "#de77ae"
            ],
            [
             0.3,
             "#f1b6da"
            ],
            [
             0.4,
             "#fde0ef"
            ],
            [
             0.5,
             "#f7f7f7"
            ],
            [
             0.6,
             "#e6f5d0"
            ],
            [
             0.7,
             "#b8e186"
            ],
            [
             0.8,
             "#7fbc41"
            ],
            [
             0.9,
             "#4d9221"
            ],
            [
             1,
             "#276419"
            ]
           ],
           "sequential": [
            [
             0,
             "#0d0887"
            ],
            [
             0.1111111111111111,
             "#46039f"
            ],
            [
             0.2222222222222222,
             "#7201a8"
            ],
            [
             0.3333333333333333,
             "#9c179e"
            ],
            [
             0.4444444444444444,
             "#bd3786"
            ],
            [
             0.5555555555555556,
             "#d8576b"
            ],
            [
             0.6666666666666666,
             "#ed7953"
            ],
            [
             0.7777777777777778,
             "#fb9f3a"
            ],
            [
             0.8888888888888888,
             "#fdca26"
            ],
            [
             1,
             "#f0f921"
            ]
           ],
           "sequentialminus": [
            [
             0,
             "#0d0887"
            ],
            [
             0.1111111111111111,
             "#46039f"
            ],
            [
             0.2222222222222222,
             "#7201a8"
            ],
            [
             0.3333333333333333,
             "#9c179e"
            ],
            [
             0.4444444444444444,
             "#bd3786"
            ],
            [
             0.5555555555555556,
             "#d8576b"
            ],
            [
             0.6666666666666666,
             "#ed7953"
            ],
            [
             0.7777777777777778,
             "#fb9f3a"
            ],
            [
             0.8888888888888888,
             "#fdca26"
            ],
            [
             1,
             "#f0f921"
            ]
           ]
          },
          "colorway": [
           "#636efa",
           "#EF553B",
           "#00cc96",
           "#ab63fa",
           "#FFA15A",
           "#19d3f3",
           "#FF6692",
           "#B6E880",
           "#FF97FF",
           "#FECB52"
          ],
          "font": {
           "color": "#2a3f5f"
          },
          "geo": {
           "bgcolor": "white",
           "lakecolor": "white",
           "landcolor": "#E5ECF6",
           "showlakes": true,
           "showland": true,
           "subunitcolor": "white"
          },
          "hoverlabel": {
           "align": "left"
          },
          "hovermode": "closest",
          "mapbox": {
           "style": "light"
          },
          "paper_bgcolor": "white",
          "plot_bgcolor": "#E5ECF6",
          "polar": {
           "angularaxis": {
            "gridcolor": "white",
            "linecolor": "white",
            "ticks": ""
           },
           "bgcolor": "#E5ECF6",
           "radialaxis": {
            "gridcolor": "white",
            "linecolor": "white",
            "ticks": ""
           }
          },
          "scene": {
           "xaxis": {
            "backgroundcolor": "#E5ECF6",
            "gridcolor": "white",
            "gridwidth": 2,
            "linecolor": "white",
            "showbackground": true,
            "ticks": "",
            "zerolinecolor": "white"
           },
           "yaxis": {
            "backgroundcolor": "#E5ECF6",
            "gridcolor": "white",
            "gridwidth": 2,
            "linecolor": "white",
            "showbackground": true,
            "ticks": "",
            "zerolinecolor": "white"
           },
           "zaxis": {
            "backgroundcolor": "#E5ECF6",
            "gridcolor": "white",
            "gridwidth": 2,
            "linecolor": "white",
            "showbackground": true,
            "ticks": "",
            "zerolinecolor": "white"
           }
          },
          "shapedefaults": {
           "line": {
            "color": "#2a3f5f"
           }
          },
          "ternary": {
           "aaxis": {
            "gridcolor": "white",
            "linecolor": "white",
            "ticks": ""
           },
           "baxis": {
            "gridcolor": "white",
            "linecolor": "white",
            "ticks": ""
           },
           "bgcolor": "#E5ECF6",
           "caxis": {
            "gridcolor": "white",
            "linecolor": "white",
            "ticks": ""
           }
          },
          "title": {
           "x": 0.05
          },
          "xaxis": {
           "automargin": true,
           "gridcolor": "white",
           "linecolor": "white",
           "ticks": "",
           "title": {
            "standoff": 15
           },
           "zerolinecolor": "white",
           "zerolinewidth": 2
          },
          "yaxis": {
           "automargin": true,
           "gridcolor": "white",
           "linecolor": "white",
           "ticks": "",
           "title": {
            "standoff": 15
           },
           "zerolinecolor": "white",
           "zerolinewidth": 2
          }
         }
        },
        "title": {
         "text": "Previsão para os proximos 30 dias, casos acumulados COVID-19 Paraiba"
        },
        "width": 1200
       }
      }
     },
     "metadata": {}
    }
   ],
   "source": [
    "import plotly.graph_objects as go   \n",
    "import plotly.express as px\n",
    "\n",
    "fig = go.Figure()\n",
    "fig.add_trace(go.Scatter(x=df_paraiba.index, y=df_paraiba.cases,mode='lines+markers',\n",
    "                    name='Atual'))\n",
    "\n",
    "fig.add_trace(go.Scatter(x=futuro_forecast.index, y=futuro_forecast.cases,mode='lines+markers', name='Previsto',\n",
    "line=dict(dash='dashdot')))\n",
    "\n",
    "fig.update_layout(title=\"Previsão para os proximos 30 dias, casos acumulados COVID-19 Paraiba\", width=1200, height=600)\n",
    "fig.show()"
   ]
  },
  {
   "cell_type": "code",
   "execution_count": 154,
   "metadata": {},
   "outputs": [],
   "source": [
    "dataatual = datetime.datetime.today()\n",
    "dataatual = datetime.datetime.today() - datetime.timedelta(days=15)\n",
    "lista_datas = [dataatual + datetime.timedelta(days=x) for x in range(15)]\n",
    "lista_datas = [pd.datetime.strftime(i,'%Y-%m-%d') for i in lista_datas]"
   ]
  },
  {
   "cell_type": "code",
   "execution_count": 155,
   "metadata": {},
   "outputs": [
    {
     "output_type": "execute_result",
     "data": {
      "text/plain": "['2020-05-01',\n '2020-05-02',\n '2020-05-03',\n '2020-05-04',\n '2020-05-05',\n '2020-05-06',\n '2020-05-07',\n '2020-05-08',\n '2020-05-09',\n '2020-05-10',\n '2020-05-11',\n '2020-05-12',\n '2020-05-13',\n '2020-05-14',\n '2020-05-15']"
     },
     "metadata": {},
     "execution_count": 155
    }
   ],
   "source": [
    "lista_datas"
   ]
  },
  {
   "cell_type": "code",
   "execution_count": 160,
   "metadata": {},
   "outputs": [],
   "source": [
    "df_validacao = df_paraiba.iloc[0:-14]"
   ]
  },
  {
   "cell_type": "code",
   "execution_count": 161,
   "metadata": {},
   "outputs": [
    {
     "output_type": "execute_result",
     "data": {
      "text/plain": "            cases\ndate             \n2020-03-28     14\n2020-04-30    814",
      "text/html": "<div>\n<style scoped>\n    .dataframe tbody tr th:only-of-type {\n        vertical-align: middle;\n    }\n\n    .dataframe tbody tr th {\n        vertical-align: top;\n    }\n\n    .dataframe thead th {\n        text-align: right;\n    }\n</style>\n<table border=\"1\" class=\"dataframe\">\n  <thead>\n    <tr style=\"text-align: right;\">\n      <th></th>\n      <th>cases</th>\n    </tr>\n    <tr>\n      <th>date</th>\n      <th></th>\n    </tr>\n  </thead>\n  <tbody>\n    <tr>\n      <td>2020-03-28</td>\n      <td>14</td>\n    </tr>\n    <tr>\n      <td>2020-04-30</td>\n      <td>814</td>\n    </tr>\n  </tbody>\n</table>\n</div>"
     },
     "metadata": {},
     "execution_count": 161
    }
   ],
   "source": [
    "df_validacao.iloc[[0,-1]]"
   ]
  },
  {
   "cell_type": "code",
   "execution_count": 181,
   "metadata": {},
   "outputs": [
    {
     "output_type": "stream",
     "name": "stdout",
     "text": "Fit ARIMA(0,2,0)x(0,0,0,0) [intercept=True]; AIC=273.135, BIC=276.067, Time=0.015 seconds\nFit ARIMA(0,2,1)x(0,0,0,0) [intercept=True]; AIC=263.817, BIC=268.214, Time=0.064 seconds\nFit ARIMA(0,2,2)x(0,0,0,0) [intercept=True]; AIC=261.131, BIC=266.994, Time=0.054 seconds\nFit ARIMA(0,2,3)x(0,0,0,0) [intercept=True]; AIC=260.664, BIC=267.992, Time=0.090 seconds\nFit ARIMA(0,2,4)x(0,0,0,0) [intercept=True]; AIC=259.253, BIC=268.048, Time=0.230 seconds\nFit ARIMA(0,2,5)x(0,0,0,0) [intercept=True]; AIC=259.243, BIC=269.503, Time=0.161 seconds\nFit ARIMA(1,2,0)x(0,0,0,0) [intercept=True]; AIC=257.810, BIC=262.207, Time=0.018 seconds\nFit ARIMA(1,2,1)x(0,0,0,0) [intercept=True]; AIC=259.659, BIC=265.522, Time=0.046 seconds\nFit ARIMA(1,2,2)x(0,0,0,0) [intercept=True]; AIC=260.899, BIC=268.228, Time=0.071 seconds\nFit ARIMA(1,2,3)x(0,0,0,0) [intercept=True]; AIC=262.197, BIC=270.992, Time=0.093 seconds\nFit ARIMA(1,2,4)x(0,0,0,0) [intercept=True]; AIC=263.518, BIC=273.778, Time=0.174 seconds\nFit ARIMA(2,2,0)x(0,0,0,0) [intercept=True]; AIC=259.583, BIC=265.446, Time=0.038 seconds\nFit ARIMA(2,2,1)x(0,0,0,0) [intercept=True]; AIC=257.867, BIC=265.196, Time=0.166 seconds\nFit ARIMA(2,2,2)x(0,0,0,0) [intercept=True]; AIC=260.276, BIC=269.070, Time=0.170 seconds\nFit ARIMA(2,2,3)x(0,0,0,0) [intercept=True]; AIC=269.168, BIC=279.428, Time=0.226 seconds\nFit ARIMA(3,2,0)x(0,0,0,0) [intercept=True]; AIC=260.267, BIC=267.596, Time=0.056 seconds\nFit ARIMA(3,2,1)x(0,0,0,0) [intercept=True]; AIC=259.411, BIC=268.205, Time=0.227 seconds\nFit ARIMA(3,2,2)x(0,0,0,0) [intercept=True]; AIC=260.855, BIC=271.115, Time=0.165 seconds\nFit ARIMA(4,2,0)x(0,0,0,0) [intercept=True]; AIC=262.003, BIC=270.798, Time=0.087 seconds\nFit ARIMA(4,2,1)x(0,0,0,0) [intercept=True]; AIC=264.003, BIC=274.263, Time=0.129 seconds\nFit ARIMA(5,2,0)x(0,0,0,0) [intercept=True]; AIC=264.001, BIC=274.261, Time=0.121 seconds\nTotal fit time: 2.413 seconds\n"
    }
   ],
   "source": [
    "from pmdarima.arima import auto_arima\n",
    "valid_model = auto_arima(df_validacao, start_p=0, start_d=0 ,start_q=0,max_p=8, max_d=8,max_q=8, m=7, start_P=0, seasonal=False, trace=True, error_action='ignore',suppress_warnings=True, stepwise=False)"
   ]
  },
  {
   "cell_type": "code",
   "execution_count": 182,
   "metadata": {},
   "outputs": [
    {
     "output_type": "stream",
     "name": "stdout",
     "text": "Resultado AIC: 257.80952841403393\nResultado melhores parametros (p,d,q): (1, 2, 0)\n"
    }
   ],
   "source": [
    "print(f\"Resultado AIC: {valid_model.aic()}\")\n",
    "print(f\"Resultado melhores parametros (p,d,q): {valid_model.order}\")"
   ]
  },
  {
   "cell_type": "code",
   "execution_count": 166,
   "metadata": {},
   "outputs": [
    {
     "output_type": "execute_result",
     "data": {
      "text/plain": "             cases\ndata              \n2020-05-01   899.0\n2020-05-02  1011.0",
      "text/html": "<div>\n<style scoped>\n    .dataframe tbody tr th:only-of-type {\n        vertical-align: middle;\n    }\n\n    .dataframe tbody tr th {\n        vertical-align: top;\n    }\n\n    .dataframe thead th {\n        text-align: right;\n    }\n</style>\n<table border=\"1\" class=\"dataframe\">\n  <thead>\n    <tr style=\"text-align: right;\">\n      <th></th>\n      <th>cases</th>\n    </tr>\n    <tr>\n      <th>data</th>\n      <th></th>\n    </tr>\n  </thead>\n  <tbody>\n    <tr>\n      <td>2020-05-01</td>\n      <td>899.0</td>\n    </tr>\n    <tr>\n      <td>2020-05-02</td>\n      <td>1011.0</td>\n    </tr>\n  </tbody>\n</table>\n</div>"
     },
     "metadata": {},
     "execution_count": 166
    }
   ],
   "source": [
    "valid_forecast = valid_model.predict(n_periods=15)\n",
    "valid_forecast = pd.DataFrame(valid_forecast,index = lista_datas,columns=[\"cases\"])\n",
    "valid_forecast.index.name = 'data'\n",
    "valid_forecast.index = pd.to_datetime(valid_forecast.index)\n",
    "valid_forecast.cases = round(valid_forecast.cases,0)\n",
    "valid_forecast.head(2)"
   ]
  },
  {
   "cell_type": "code",
   "execution_count": 169,
   "metadata": {},
   "outputs": [
    {
     "output_type": "display_data",
     "data": {
      "application/vnd.plotly.v1+json": {
       "config": {
        "plotlyServerURL": "https://plot.ly"
       },
       "data": [
        {
         "mode": "lines+markers",
         "name": "Atual",
         "type": "scatter",
         "x": [
          "2020-03-28T00:00:00",
          "2020-03-29T00:00:00",
          "2020-03-30T00:00:00",
          "2020-03-31T00:00:00",
          "2020-04-01T00:00:00",
          "2020-04-02T00:00:00",
          "2020-04-03T00:00:00",
          "2020-04-04T00:00:00",
          "2020-04-05T00:00:00",
          "2020-04-06T00:00:00",
          "2020-04-07T00:00:00",
          "2020-04-08T00:00:00",
          "2020-04-09T00:00:00",
          "2020-04-10T00:00:00",
          "2020-04-11T00:00:00",
          "2020-04-12T00:00:00",
          "2020-04-13T00:00:00",
          "2020-04-14T00:00:00",
          "2020-04-15T00:00:00",
          "2020-04-16T00:00:00",
          "2020-04-17T00:00:00",
          "2020-04-18T00:00:00",
          "2020-04-19T00:00:00",
          "2020-04-20T00:00:00",
          "2020-04-21T00:00:00",
          "2020-04-22T00:00:00",
          "2020-04-23T00:00:00",
          "2020-04-24T00:00:00",
          "2020-04-25T00:00:00",
          "2020-04-26T00:00:00",
          "2020-04-27T00:00:00",
          "2020-04-28T00:00:00",
          "2020-04-29T00:00:00",
          "2020-04-30T00:00:00",
          "2020-05-01T00:00:00",
          "2020-05-02T00:00:00",
          "2020-05-03T00:00:00",
          "2020-05-04T00:00:00",
          "2020-05-05T00:00:00",
          "2020-05-06T00:00:00",
          "2020-05-07T00:00:00",
          "2020-05-08T00:00:00",
          "2020-05-09T00:00:00",
          "2020-05-10T00:00:00",
          "2020-05-11T00:00:00",
          "2020-05-12T00:00:00",
          "2020-05-13T00:00:00",
          "2020-05-14T00:00:00"
         ],
         "y": [
          14,
          14,
          15,
          17,
          20,
          21,
          29,
          32,
          34,
          35,
          36,
          41,
          55,
          79,
          85,
          101,
          111,
          136,
          152,
          165,
          195,
          205,
          236,
          245,
          263,
          301,
          345,
          386,
          447,
          499,
          543,
          633,
          699,
          814,
          926,
          1034,
          1169,
          1219,
          1361,
          1493,
          1657,
          2030,
          2155,
          2341,
          2525,
          2356,
          2540,
          2834
         ]
        },
        {
         "line": {
          "dash": "dashdot"
         },
         "mode": "lines+markers",
         "name": "Validação 15 dias",
         "type": "scatter",
         "x": [
          "2020-05-01T00:00:00",
          "2020-05-02T00:00:00",
          "2020-05-03T00:00:00",
          "2020-05-04T00:00:00",
          "2020-05-05T00:00:00",
          "2020-05-06T00:00:00",
          "2020-05-07T00:00:00",
          "2020-05-08T00:00:00",
          "2020-05-09T00:00:00",
          "2020-05-10T00:00:00",
          "2020-05-11T00:00:00",
          "2020-05-12T00:00:00",
          "2020-05-13T00:00:00",
          "2020-05-14T00:00:00",
          "2020-05-15T00:00:00"
         ],
         "y": [
          899,
          1011,
          1108,
          1221,
          1328,
          1444,
          1559,
          1681,
          1802,
          1929,
          2057,
          2190,
          2324,
          2462,
          2603
         ]
        },
        {
         "line": {
          "dash": "dashdot"
         },
         "mode": "lines+markers",
         "name": "Previsto 30 dias",
         "type": "scatter",
         "x": [
          "2020-05-15T00:00:00",
          "2020-05-16T00:00:00",
          "2020-05-17T00:00:00",
          "2020-05-18T00:00:00",
          "2020-05-19T00:00:00",
          "2020-05-20T00:00:00",
          "2020-05-21T00:00:00",
          "2020-05-22T00:00:00",
          "2020-05-23T00:00:00",
          "2020-05-24T00:00:00",
          "2020-05-25T00:00:00",
          "2020-05-26T00:00:00",
          "2020-05-27T00:00:00",
          "2020-05-28T00:00:00",
          "2020-05-29T00:00:00",
          "2020-05-30T00:00:00",
          "2020-05-31T00:00:00",
          "2020-06-01T00:00:00",
          "2020-06-02T00:00:00",
          "2020-06-03T00:00:00",
          "2020-06-04T00:00:00",
          "2020-06-05T00:00:00",
          "2020-06-06T00:00:00",
          "2020-06-07T00:00:00",
          "2020-06-08T00:00:00",
          "2020-06-09T00:00:00",
          "2020-06-10T00:00:00",
          "2020-06-11T00:00:00",
          "2020-06-12T00:00:00",
          "2020-06-13T00:00:00"
         ],
         "y": [
          3053,
          3398,
          3572,
          3680,
          3726,
          3781,
          4130,
          4485,
          4680,
          5015,
          5138,
          5099,
          5344,
          5605,
          5986,
          6321,
          6531,
          6778,
          6780,
          6941,
          7367,
          7693,
          8032,
          8379,
          8527,
          8621,
          8840,
          9188,
          9655,
          9968
         ]
        }
       ],
       "layout": {
        "height": 600,
        "template": {
         "data": {
          "bar": [
           {
            "error_x": {
             "color": "#2a3f5f"
            },
            "error_y": {
             "color": "#2a3f5f"
            },
            "marker": {
             "line": {
              "color": "#E5ECF6",
              "width": 0.5
             }
            },
            "type": "bar"
           }
          ],
          "barpolar": [
           {
            "marker": {
             "line": {
              "color": "#E5ECF6",
              "width": 0.5
             }
            },
            "type": "barpolar"
           }
          ],
          "carpet": [
           {
            "aaxis": {
             "endlinecolor": "#2a3f5f",
             "gridcolor": "white",
             "linecolor": "white",
             "minorgridcolor": "white",
             "startlinecolor": "#2a3f5f"
            },
            "baxis": {
             "endlinecolor": "#2a3f5f",
             "gridcolor": "white",
             "linecolor": "white",
             "minorgridcolor": "white",
             "startlinecolor": "#2a3f5f"
            },
            "type": "carpet"
           }
          ],
          "choropleth": [
           {
            "colorbar": {
             "outlinewidth": 0,
             "ticks": ""
            },
            "type": "choropleth"
           }
          ],
          "contour": [
           {
            "colorbar": {
             "outlinewidth": 0,
             "ticks": ""
            },
            "colorscale": [
             [
              0,
              "#0d0887"
             ],
             [
              0.1111111111111111,
              "#46039f"
             ],
             [
              0.2222222222222222,
              "#7201a8"
             ],
             [
              0.3333333333333333,
              "#9c179e"
             ],
             [
              0.4444444444444444,
              "#bd3786"
             ],
             [
              0.5555555555555556,
              "#d8576b"
             ],
             [
              0.6666666666666666,
              "#ed7953"
             ],
             [
              0.7777777777777778,
              "#fb9f3a"
             ],
             [
              0.8888888888888888,
              "#fdca26"
             ],
             [
              1,
              "#f0f921"
             ]
            ],
            "type": "contour"
           }
          ],
          "contourcarpet": [
           {
            "colorbar": {
             "outlinewidth": 0,
             "ticks": ""
            },
            "type": "contourcarpet"
           }
          ],
          "heatmap": [
           {
            "colorbar": {
             "outlinewidth": 0,
             "ticks": ""
            },
            "colorscale": [
             [
              0,
              "#0d0887"
             ],
             [
              0.1111111111111111,
              "#46039f"
             ],
             [
              0.2222222222222222,
              "#7201a8"
             ],
             [
              0.3333333333333333,
              "#9c179e"
             ],
             [
              0.4444444444444444,
              "#bd3786"
             ],
             [
              0.5555555555555556,
              "#d8576b"
             ],
             [
              0.6666666666666666,
              "#ed7953"
             ],
             [
              0.7777777777777778,
              "#fb9f3a"
             ],
             [
              0.8888888888888888,
              "#fdca26"
             ],
             [
              1,
              "#f0f921"
             ]
            ],
            "type": "heatmap"
           }
          ],
          "heatmapgl": [
           {
            "colorbar": {
             "outlinewidth": 0,
             "ticks": ""
            },
            "colorscale": [
             [
              0,
              "#0d0887"
             ],
             [
              0.1111111111111111,
              "#46039f"
             ],
             [
              0.2222222222222222,
              "#7201a8"
             ],
             [
              0.3333333333333333,
              "#9c179e"
             ],
             [
              0.4444444444444444,
              "#bd3786"
             ],
             [
              0.5555555555555556,
              "#d8576b"
             ],
             [
              0.6666666666666666,
              "#ed7953"
             ],
             [
              0.7777777777777778,
              "#fb9f3a"
             ],
             [
              0.8888888888888888,
              "#fdca26"
             ],
             [
              1,
              "#f0f921"
             ]
            ],
            "type": "heatmapgl"
           }
          ],
          "histogram": [
           {
            "marker": {
             "colorbar": {
              "outlinewidth": 0,
              "ticks": ""
             }
            },
            "type": "histogram"
           }
          ],
          "histogram2d": [
           {
            "colorbar": {
             "outlinewidth": 0,
             "ticks": ""
            },
            "colorscale": [
             [
              0,
              "#0d0887"
             ],
             [
              0.1111111111111111,
              "#46039f"
             ],
             [
              0.2222222222222222,
              "#7201a8"
             ],
             [
              0.3333333333333333,
              "#9c179e"
             ],
             [
              0.4444444444444444,
              "#bd3786"
             ],
             [
              0.5555555555555556,
              "#d8576b"
             ],
             [
              0.6666666666666666,
              "#ed7953"
             ],
             [
              0.7777777777777778,
              "#fb9f3a"
             ],
             [
              0.8888888888888888,
              "#fdca26"
             ],
             [
              1,
              "#f0f921"
             ]
            ],
            "type": "histogram2d"
           }
          ],
          "histogram2dcontour": [
           {
            "colorbar": {
             "outlinewidth": 0,
             "ticks": ""
            },
            "colorscale": [
             [
              0,
              "#0d0887"
             ],
             [
              0.1111111111111111,
              "#46039f"
             ],
             [
              0.2222222222222222,
              "#7201a8"
             ],
             [
              0.3333333333333333,
              "#9c179e"
             ],
             [
              0.4444444444444444,
              "#bd3786"
             ],
             [
              0.5555555555555556,
              "#d8576b"
             ],
             [
              0.6666666666666666,
              "#ed7953"
             ],
             [
              0.7777777777777778,
              "#fb9f3a"
             ],
             [
              0.8888888888888888,
              "#fdca26"
             ],
             [
              1,
              "#f0f921"
             ]
            ],
            "type": "histogram2dcontour"
           }
          ],
          "mesh3d": [
           {
            "colorbar": {
             "outlinewidth": 0,
             "ticks": ""
            },
            "type": "mesh3d"
           }
          ],
          "parcoords": [
           {
            "line": {
             "colorbar": {
              "outlinewidth": 0,
              "ticks": ""
             }
            },
            "type": "parcoords"
           }
          ],
          "pie": [
           {
            "automargin": true,
            "type": "pie"
           }
          ],
          "scatter": [
           {
            "marker": {
             "colorbar": {
              "outlinewidth": 0,
              "ticks": ""
             }
            },
            "type": "scatter"
           }
          ],
          "scatter3d": [
           {
            "line": {
             "colorbar": {
              "outlinewidth": 0,
              "ticks": ""
             }
            },
            "marker": {
             "colorbar": {
              "outlinewidth": 0,
              "ticks": ""
             }
            },
            "type": "scatter3d"
           }
          ],
          "scattercarpet": [
           {
            "marker": {
             "colorbar": {
              "outlinewidth": 0,
              "ticks": ""
             }
            },
            "type": "scattercarpet"
           }
          ],
          "scattergeo": [
           {
            "marker": {
             "colorbar": {
              "outlinewidth": 0,
              "ticks": ""
             }
            },
            "type": "scattergeo"
           }
          ],
          "scattergl": [
           {
            "marker": {
             "colorbar": {
              "outlinewidth": 0,
              "ticks": ""
             }
            },
            "type": "scattergl"
           }
          ],
          "scattermapbox": [
           {
            "marker": {
             "colorbar": {
              "outlinewidth": 0,
              "ticks": ""
             }
            },
            "type": "scattermapbox"
           }
          ],
          "scatterpolar": [
           {
            "marker": {
             "colorbar": {
              "outlinewidth": 0,
              "ticks": ""
             }
            },
            "type": "scatterpolar"
           }
          ],
          "scatterpolargl": [
           {
            "marker": {
             "colorbar": {
              "outlinewidth": 0,
              "ticks": ""
             }
            },
            "type": "scatterpolargl"
           }
          ],
          "scatterternary": [
           {
            "marker": {
             "colorbar": {
              "outlinewidth": 0,
              "ticks": ""
             }
            },
            "type": "scatterternary"
           }
          ],
          "surface": [
           {
            "colorbar": {
             "outlinewidth": 0,
             "ticks": ""
            },
            "colorscale": [
             [
              0,
              "#0d0887"
             ],
             [
              0.1111111111111111,
              "#46039f"
             ],
             [
              0.2222222222222222,
              "#7201a8"
             ],
             [
              0.3333333333333333,
              "#9c179e"
             ],
             [
              0.4444444444444444,
              "#bd3786"
             ],
             [
              0.5555555555555556,
              "#d8576b"
             ],
             [
              0.6666666666666666,
              "#ed7953"
             ],
             [
              0.7777777777777778,
              "#fb9f3a"
             ],
             [
              0.8888888888888888,
              "#fdca26"
             ],
             [
              1,
              "#f0f921"
             ]
            ],
            "type": "surface"
           }
          ],
          "table": [
           {
            "cells": {
             "fill": {
              "color": "#EBF0F8"
             },
             "line": {
              "color": "white"
             }
            },
            "header": {
             "fill": {
              "color": "#C8D4E3"
             },
             "line": {
              "color": "white"
             }
            },
            "type": "table"
           }
          ]
         },
         "layout": {
          "annotationdefaults": {
           "arrowcolor": "#2a3f5f",
           "arrowhead": 0,
           "arrowwidth": 1
          },
          "coloraxis": {
           "colorbar": {
            "outlinewidth": 0,
            "ticks": ""
           }
          },
          "colorscale": {
           "diverging": [
            [
             0,
             "#8e0152"
            ],
            [
             0.1,
             "#c51b7d"
            ],
            [
             0.2,
             "#de77ae"
            ],
            [
             0.3,
             "#f1b6da"
            ],
            [
             0.4,
             "#fde0ef"
            ],
            [
             0.5,
             "#f7f7f7"
            ],
            [
             0.6,
             "#e6f5d0"
            ],
            [
             0.7,
             "#b8e186"
            ],
            [
             0.8,
             "#7fbc41"
            ],
            [
             0.9,
             "#4d9221"
            ],
            [
             1,
             "#276419"
            ]
           ],
           "sequential": [
            [
             0,
             "#0d0887"
            ],
            [
             0.1111111111111111,
             "#46039f"
            ],
            [
             0.2222222222222222,
             "#7201a8"
            ],
            [
             0.3333333333333333,
             "#9c179e"
            ],
            [
             0.4444444444444444,
             "#bd3786"
            ],
            [
             0.5555555555555556,
             "#d8576b"
            ],
            [
             0.6666666666666666,
             "#ed7953"
            ],
            [
             0.7777777777777778,
             "#fb9f3a"
            ],
            [
             0.8888888888888888,
             "#fdca26"
            ],
            [
             1,
             "#f0f921"
            ]
           ],
           "sequentialminus": [
            [
             0,
             "#0d0887"
            ],
            [
             0.1111111111111111,
             "#46039f"
            ],
            [
             0.2222222222222222,
             "#7201a8"
            ],
            [
             0.3333333333333333,
             "#9c179e"
            ],
            [
             0.4444444444444444,
             "#bd3786"
            ],
            [
             0.5555555555555556,
             "#d8576b"
            ],
            [
             0.6666666666666666,
             "#ed7953"
            ],
            [
             0.7777777777777778,
             "#fb9f3a"
            ],
            [
             0.8888888888888888,
             "#fdca26"
            ],
            [
             1,
             "#f0f921"
            ]
           ]
          },
          "colorway": [
           "#636efa",
           "#EF553B",
           "#00cc96",
           "#ab63fa",
           "#FFA15A",
           "#19d3f3",
           "#FF6692",
           "#B6E880",
           "#FF97FF",
           "#FECB52"
          ],
          "font": {
           "color": "#2a3f5f"
          },
          "geo": {
           "bgcolor": "white",
           "lakecolor": "white",
           "landcolor": "#E5ECF6",
           "showlakes": true,
           "showland": true,
           "subunitcolor": "white"
          },
          "hoverlabel": {
           "align": "left"
          },
          "hovermode": "closest",
          "mapbox": {
           "style": "light"
          },
          "paper_bgcolor": "white",
          "plot_bgcolor": "#E5ECF6",
          "polar": {
           "angularaxis": {
            "gridcolor": "white",
            "linecolor": "white",
            "ticks": ""
           },
           "bgcolor": "#E5ECF6",
           "radialaxis": {
            "gridcolor": "white",
            "linecolor": "white",
            "ticks": ""
           }
          },
          "scene": {
           "xaxis": {
            "backgroundcolor": "#E5ECF6",
            "gridcolor": "white",
            "gridwidth": 2,
            "linecolor": "white",
            "showbackground": true,
            "ticks": "",
            "zerolinecolor": "white"
           },
           "yaxis": {
            "backgroundcolor": "#E5ECF6",
            "gridcolor": "white",
            "gridwidth": 2,
            "linecolor": "white",
            "showbackground": true,
            "ticks": "",
            "zerolinecolor": "white"
           },
           "zaxis": {
            "backgroundcolor": "#E5ECF6",
            "gridcolor": "white",
            "gridwidth": 2,
            "linecolor": "white",
            "showbackground": true,
            "ticks": "",
            "zerolinecolor": "white"
           }
          },
          "shapedefaults": {
           "line": {
            "color": "#2a3f5f"
           }
          },
          "ternary": {
           "aaxis": {
            "gridcolor": "white",
            "linecolor": "white",
            "ticks": ""
           },
           "baxis": {
            "gridcolor": "white",
            "linecolor": "white",
            "ticks": ""
           },
           "bgcolor": "#E5ECF6",
           "caxis": {
            "gridcolor": "white",
            "linecolor": "white",
            "ticks": ""
           }
          },
          "title": {
           "x": 0.05
          },
          "xaxis": {
           "automargin": true,
           "gridcolor": "white",
           "linecolor": "white",
           "ticks": "",
           "title": {
            "standoff": 15
           },
           "zerolinecolor": "white",
           "zerolinewidth": 2
          },
          "yaxis": {
           "automargin": true,
           "gridcolor": "white",
           "linecolor": "white",
           "ticks": "",
           "title": {
            "standoff": 15
           },
           "zerolinecolor": "white",
           "zerolinewidth": 2
          }
         }
        },
        "title": {
         "text": "Validando eficiência do modelo com dados ja existentes."
        },
        "width": 1200
       }
      }
     },
     "metadata": {}
    }
   ],
   "source": [
    "import plotly.graph_objects as go   \n",
    "import plotly.express as px\n",
    "\n",
    "fig = go.Figure()\n",
    "fig.add_trace(go.Scatter(x=df_paraiba.index, y=df_paraiba.cases,mode='lines+markers',\n",
    "                    name='Atual'))\n",
    "\n",
    "fig.add_trace(go.Scatter(x=valid_forecast.index, y=valid_forecast.cases,mode='lines+markers', name='Validação 15 dias',\n",
    "line=dict(dash='dashdot')))\n",
    "\n",
    "fig.add_trace(go.Scatter(x=futuro_forecast.index, y=futuro_forecast.cases,mode='lines+markers', name='Previsto 30 dias',\n",
    "line=dict(dash='dashdot')))\n",
    "\n",
    "fig.update_layout(title=\"Validando eficiência do modelo com dados ja existentes.\", width=1200, height=600)\n",
    "fig.show()"
   ]
  },
  {
   "cell_type": "code",
   "execution_count": null,
   "metadata": {},
   "outputs": [],
   "source": []
  }
 ],
 "metadata": {
  "language_info": {
   "codemirror_mode": {
    "name": "ipython",
    "version": 3
   },
   "file_extension": ".py",
   "mimetype": "text/x-python",
   "name": "python",
   "nbconvert_exporter": "python",
   "pygments_lexer": "ipython3",
   "version": "3.7.4-final"
  },
  "orig_nbformat": 2,
  "kernelspec": {
   "name": "python37464bitbaseconda066708202af547ad848eb023b44015b9",
   "display_name": "Python 3.7.4 64-bit ('base': conda)"
  }
 },
 "nbformat": 4,
 "nbformat_minor": 2
}